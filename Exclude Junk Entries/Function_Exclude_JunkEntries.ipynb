{
 "cells": [
  {
   "cell_type": "code",
   "execution_count": 1,
   "metadata": {
    "collapsed": true
   },
   "outputs": [],
   "source": [
    "# Import Packages"
   ]
  },
  {
   "cell_type": "code",
   "execution_count": 81,
   "metadata": {
    "collapsed": true
   },
   "outputs": [],
   "source": [
    "import os\n",
    "import pandas as pd\n",
    "import csv\n",
    "import re"
   ]
  },
  {
   "cell_type": "code",
   "execution_count": null,
   "metadata": {
    "collapsed": true
   },
   "outputs": [],
   "source": [
    "# Import File\n",
    "re.split('; |, ',str)"
   ]
  },
  {
   "cell_type": "code",
   "execution_count": 55,
   "metadata": {},
   "outputs": [],
   "source": [
    "os.chdir(r'/home/ccirelli2/Desktop/Docket-Sheet-Classification-v2/Exclude Junk Entries')\n",
    "df_KeyNgrams_junk_entries = open(r'KeyNgrams_JunkEntries.csv')"
   ]
  },
  {
   "cell_type": "raw",
   "metadata": {},
   "source": [
    "String = 'Today, is: a ! good day to / code'\n"
   ]
  },
  {
   "cell_type": "code",
   "execution_count": 88,
   "metadata": {},
   "outputs": [],
   "source": [
    "New = re.split('\\',:!/ ', String)"
   ]
  },
  {
   "cell_type": "code",
   "execution_count": 93,
   "metadata": {},
   "outputs": [
    {
     "data": {
      "text/plain": [
       "'Today, is, a ! good day to / code'"
      ]
     },
     "execution_count": 93,
     "metadata": {},
     "output_type": "execute_result"
    }
   ],
   "source": [
    "String.replace(':', ',')"
   ]
  },
  {
   "cell_type": "code",
   "execution_count": 15,
   "metadata": {},
   "outputs": [],
   "source": [
    "# Limit Dataframe to Junk = 1"
   ]
  },
  {
   "cell_type": "code",
   "execution_count": 17,
   "metadata": {},
   "outputs": [],
   "source": [
    "delimiter = df_KeyNgrams_junk_entries['Junk'] == 1\n",
    "df_delimited = df_KeyNgrams_junk_entries[delimiter]"
   ]
  },
  {
   "cell_type": "code",
   "execution_count": null,
   "metadata": {},
   "outputs": [],
   "source": [
    "# Get Set of KeyNgram For Junk Entries"
   ]
  },
  {
   "cell_type": "code",
   "execution_count": 45,
   "metadata": {},
   "outputs": [],
   "source": [
    "KeyNgramSet_JunkEntries = list(set(df_delimited['Docket Sheet Entries']))"
   ]
  },
  {
   "cell_type": "code",
   "execution_count": null,
   "metadata": {},
   "outputs": [],
   "source": []
  },
  {
   "cell_type": "code",
   "execution_count": 43,
   "metadata": {},
   "outputs": [
    {
     "name": "stdout",
     "output_type": "stream",
     "text": [
      "[\"['Certificate'\", \" 'of'\", \" 'Interested'\", \" 'Persons'\", \" 'by']\"]\n",
      "[\"['Certificate'\", \" 'of'\", \" 'Interested'\", \" 'Persons'\", \" 'by']\"]\n",
      "[\"['SCHEDULING'\", \" 'ORDER'\", \" 'approving'\", \" 'the'\", \" '7']\"]\n",
      "[\"['CERTIFICATE'\", \" 'OF'\", \" 'SERVICE'\", \" 'filed'\", \" 'by']\"]\n",
      "[\"['CERTIFICATE'\", \" 'OF'\", \" 'SERVICE'\", \" 'filed'\", \" 'by']\"]\n",
      "[\"['CERTIFICATE'\", \" 'OF'\", \" 'SERVICE'\", \" 're:'\", ' \"Plaintiff\\'s\"]']\n",
      "[\"['CERTIFICATE'\", \" 'OF'\", \" 'SERVICE'\", \" 're:'\", ' \"Plaintiff\\'s\"]']\n",
      "[\"['CERTIFICATE'\", \" 'OF'\", \" 'SERVICE'\", \" 're:'\", ' \"Plaintiff\\'s\"]']\n",
      "[\"['CERTIFICATE'\", \" 'OF'\", \" 'SERVICE'\", \" 're:'\", ' \"Plaintiff\\'s\"]']\n",
      "[\"['ORDER'\", \" 'REASSIGNING'\", \" 'CASE.'\", \" 'Case'\", \" 'reassigned']\"]\n",
      "[\"['Request'\", \" 'for'\", \" 'Leave'\", \" 'of'\", \" 'Absence']\"]\n",
      "[\"['Reset'\", \" 'Scheduling'\", \" 'Order'\", \" 'Deadlines:'\", \" 'Discovery']\"]\n",
      "[\"['Summons'\", \" 'Issued'\", \" 'as'\", \" 'to'\", \" 'Brian']\"]\n",
      "[\"['Certificate'\", \" 'of'\", \" 'Interested'\", \" 'Persons'\", \" 'by']\"]\n",
      "[\"['PRELIMINARY'\", \" 'REPORT'\", \" 'AND'\", \" 'DISCOVERY'\", \" 'PLAN']\"]\n",
      "[\"['MAGISTRATE'\", ' \"JUDGE\\'S\"', \" 'SCHEDULING'\", \" 'ORDER'\", \" 'AND']\"]\n",
      "[\"['Joint'\", \" 'PRELIMINARY'\", \" 'REPORT'\", \" 'AND'\", \" 'DISCOVERY']\"]\n",
      "[\"['CERTIFICATE'\", \" 'OF'\", \" 'SERVICE'\", \" 'filed'\", \" 'by']\"]\n",
      "[\"['Notice'\", \" 'for'\", \" 'Leave'\", \" 'of'\", \" 'Absence']\"]\n",
      "[\"['CERTIFICATE'\", \" 'OF'\", \" 'SERVICE'\", \" 'filed'\", \" 'by']\"]\n",
      "[\"['Joint'\", \" 'MOTION'\", \" 'for'\", \" 'Extension'\", \" 'of']\"]\n",
      "[\"['NOTICE'\", \" 'of'\", \" 'Change'\", \" 'of'\", \" 'Address']\"]\n",
      "[\"['Notice'\", \" 'for'\", \" 'Leave'\", \" 'of'\", \" 'Absence']\"]\n",
      "[\"['ORDER'\", \" 'Approving'\", \" '17'\", \" 'Leave'\", \" 'of']\"]\n",
      "[\"['BILL'\", \" 'OF'\", \" 'COSTS'\", \" 'by'\", \" 'Georgia']\"]\n",
      "[\"['Costs'\", \" 'Taxed'\", \" 'in'\", \" 'amount'\", \" 'of']\"]\n",
      "[\"['Clerks'\", \" 'Certificate'\", \" 'of'\", \" 'Mailing'\", \" 'as']\"]\n",
      "[\"['ORDER'\", \" '(by'\", \" 'docket'\", \" 'entry'\", \" 'only)']\"]\n",
      "[\"['ORDER'\", \" '(by'\", \" 'docket'\", \" 'entry'\", \" 'only)']\"]\n",
      "[\"['Clerks'\", \" 'Certificate'\", \" 'of'\", \" 'Mailing'\", \" 'as']\"]\n",
      "[\"['Clerks'\", \" 'Certificate'\", \" 'of'\", \" 'Mailing'\", \" 'as']\"]\n",
      "[\"['MOTION'\", \" 'for'\", \" 'Extension'\", \" 'of'\", \" 'Time']\"]\n",
      "[\"['Clerks'\", \" 'Certificate'\", \" 'of'\", \" 'Mailing'\", \" 'as']\"]\n",
      "[\"['Clerks'\", \" 'Certificate'\", \" 'of'\", \" 'Mailing'\", \" 'as']\"]\n",
      "[\"['Clerks'\", \" 'Certificate'\", \" 'of'\", \" 'Mailing'\", \" 'as']\"]\n",
      "['[\"Clerk\\'s\"', \" 'Certificate'\", \" 'of'\", \" 'Mailing'\", \" 'as']\"]\n",
      "[\"['Clerks'\", \" 'Certificate'\", \" 'of'\", \" 'Mailing'\", \" 'as']\"]\n",
      "[\"['Clerks'\", \" 'Certificate'\", \" 'of'\", \" 'Mailing'\", \" 'as']\"]\n",
      "[\"['Civil'\", \" 'Case'\", \" 'Terminated.'\", \" '(dr)'\", \" '(Entered:']\"]\n",
      "[\"['Clerks'\", \" 'Certificate'\", \" 'of'\", \" 'Mailing'\", \" 'as']\"]\n",
      "[\"['Guidelines'\", \" 'for'\", \" 'Discovery'\", \" 'and'\", \" 'Motion']\"]\n",
      "[\"['DOCUMENT'\", \" 'FILED'\", \" 'IN'\", \" 'ERROR'\", \" 'Joint']\"]\n",
      "[\"['SCHEDULING'\", \" 'ORDER'\", \" 'and'\", \" 'Instructions'\", \" 'Regarding']\"]\n",
      "[\"['REVISED'\", \" 'CASE'\", \" 'INSTRUCTIONS.'\", \" '(bse)'\", \" '(Entered:']\"]\n",
      "[\"['CERTIFICATE'\", \" 'OF'\", \" 'SERVICE'\", \" 'for'\", ' \"Defendant\\'s\"]']\n",
      "[\"['Application'\", \" 'for'\", \" 'Refund'\", \" 'of'\", \" 'Fees']\"]\n",
      "[\"['Application'\", \" 'for'\", \" 'Refund'\", \" 'of'\", \" 'Fees']\"]\n",
      "[\"['Notice'\", \" 'for'\", \" 'Leave'\", \" 'of'\", \" 'Absence']\"]\n",
      "[\"['Notice'\", \" 'for'\", \" 'Leave'\", \" 'of'\", \" 'Absence']\"]\n",
      "[\"['CERTIFICATE'\", \" 'OF'\", \" 'SERVICE'\", \" 'by'\", \" 'Laura']\"]\n",
      "[\"['Joint'\", \" 'MOTION'\", \" 'for'\", \" 'Extension'\", \" 'of']\"]\n",
      "[\"['CERTIFICATE'\", \" 'OF'\", \" 'SERVICE'\", \" 'of'\", ' \"Defendant\\'s\"]']\n",
      "[\"['CERTIFICATE'\", \" 'OF'\", \" 'SERVICE'\", \" 'of'\", ' \"Defendant\\'s\"]']\n",
      "[\"['CERTIFICATE'\", \" 'OF'\", \" 'SERVICE'\", \" 'of'\", \" 'Notice']\"]\n",
      "[\"['ORDER'\", \" 'granting'\", \" '24'\", \" 'MOTION'\", \" 'to']\"]\n",
      "[\"['APPROVAL'\", \" 'by'\", \" 'Clerks'\", \" 'Office'\", \" 're:']\"]\n",
      "[\"['Clerks'\", \" 'Certificate'\", \" 'of'\", \" 'Mailing'\", \" 're']\"]\n",
      "[\"['Clerks'\", \" 'Approval'\", \" 're'\", \" '14'\", \" 'Application']\"]\n",
      "[\"['Clerks'\", \" 'Certificate'\", \" 'of'\", \" 'Mailing'\", \" 'as']\"]\n",
      "[\"['Return'\", \" 'of'\", \" 'Service'\", \" 'Executed'\", \" 'by']\"]\n",
      "[\"['Return'\", \" 'of'\", \" 'Service'\", \" 'Executed'\", \" 'by']\"]\n",
      "[\"['Return'\", \" 'of'\", \" 'Service'\", \" 'Executed'\", \" 'by']\"]\n",
      "[\"['Return'\", \" 'of'\", \" 'Service'\", \" 'Executed'\", \" 'by']\"]\n",
      "[\"['Clerks'\", \" 'Notation'\", \" 're'\", \" '2'\", \" 'Certificate']\"]\n",
      "[\"['Certificate'\", \" 'of'\", \" 'Interested'\", \" 'Persons'\", \" 'and']\"]\n",
      "[\"['Joint'\", \" 'PRELIMINARY'\", \" 'REPORT'\", \" 'AND'\", \" 'DISCOVERY']\"]\n",
      "[\"['SCHEDULING'\", \" 'ORDER'\", \" 're:'\", \" '17'\", \" 'Preliminary']\"]\n",
      "[\"['Certification'\", \" 'of'\", \" 'Consent'\", \" 'to'\", \" 'Substitution']\"]\n",
      "[\"['CERTIFICATE'\", \" 'OF'\", \" 'SERVICE'\", \" 'by'\", \" 'Aditi']\"]\n",
      "[\"['Notification'\", \" 'of'\", \" 'Docket'\", \" 'Correction'\", \" 're']\"]\n",
      "[\"['Return'\", \" 'of'\", \" 'Service'\", \" 'Executed'\", \" 'by']\"]\n",
      "[\"['Return'\", \" 'of'\", \" 'Service'\", \" 'Executed'\", \" 'by']\"]\n",
      "[\"['CERTIFICATE'\", \" 'OF'\", \" 'SERVICE'\", \" 'of'\", ' \"Defendant\\'s\"]']\n",
      "[\"['CERTIFICATE'\", \" 'OF'\", \" 'SERVICE'\", \" 'of'\", ' \"Defendant\\'s\"]']\n",
      "[\"['CERTIFICATE'\", \" 'OF'\", \" 'SERVICE'\", \" 'Subpoena'\", \" 'by']\"]\n",
      "[\"['CERTIFICATE'\", \" 'OF'\", \" 'SERVICE'\", \" 'Notice'\", \" 'of']\"]\n",
      "[\"['CERTIFICATE'\", \" 'OF'\", \" 'SERVICE'\", \" 'of'\", ' \"Defendant\\'s\"]']\n",
      "[\"['CERTIFICATE'\", \" 'OF'\", \" 'SERVICE'\", \" 'of'\", ' \"Defendant\\'s\"]']\n",
      "[\"['BILL'\", \" 'OF'\", \" 'COSTS'\", \" 'by'\", \" 'Delta']\"]\n",
      "[\"['MOTION'\", \" 'for'\", \" 'Leave'\", \" 'to'\", \" 'File']\"]\n",
      "[\"['MOTION'\", \" 'for'\", \" 'Leave'\", \" 'to'\", \" 'File']\"]\n",
      "[\"['Consent'\", \" 'MOTION'\", \" 'for'\", \" 'Extension'\", \" 'of']\"]\n",
      "[\"['Consent'\", \" 'MOTION'\", \" 'for'\", \" 'Extension'\", \" 'of']\"]\n",
      "[\"['DOCUMENT'\", \" 'FILING'\", \" 'ERROR'\", \" 'NOTICE'\", \" 'Of']\"]\n",
      "[\"['Consent'\", \" 'MOTION'\", \" 'for'\", \" 'Order'\", \" 'Extending']\"]\n",
      "[\"['MOTION'\", \" 'for'\", \" 'Leave'\", \" 'to'\", \" 'File']\"]\n",
      "[\"['Notification'\", \" 'of'\", \" 'Docket'\", \" 'Correction'\", \" 're']\"]\n",
      "[\"['Clerks'\", \" 'Certificate'\", \" 'of'\", \" 'Mailing'\", \" 'as']\"]\n",
      "[\"['Clerks'\", \" 'Certificate'\", \" 'of'\", \" 'Mailing'\", \" 'as']\"]\n",
      "[\"['Clerks'\", \" 'Certificate'\", \" 'of'\", \" 'Mailing'\", \" 'as']\"]\n",
      "[\"['CERTIFICATE'\", \" 'OF'\", \" 'SERVICE'\", \" 'filed'\", \" 'by']\"]\n",
      "[\"['CERTIFICATE'\", \" 'OF'\", \" 'SERVICE'\", \" 'for'\", ' \"Plaintiff\\'s\"]']\n",
      "[\"['CERTIFICATE'\", \" 'OF'\", \" 'SERVICE'\", \" 'of'\", \" 'Discovery']\"]\n",
      "[\"['CERTIFICATE'\", \" 'OF'\", \" 'SERVICE'\", \" 'of'\", \" 'Discovery']\"]\n",
      "[\"['CERTIFICATE'\", \" 'OF'\", \" 'SERVICE'\", \" 'by'\", \" 'Unboundary']\"]\n",
      "[\"['CERTIFICATE'\", \" 'OF'\", \" 'SERVICE'\", \" 'for'\", ' \"Plaintiff\\'s\"]']\n",
      "[\"['Certificate'\", \" 'of'\", \" 'Interested'\", \" 'Persons'\", \" 'by']\"]\n",
      "[\"['CERTIFICATE'\", \" 'OF'\", \" 'SERVICE'\", \" 'for'\", ' \"Plaintiff\\'s\"]']\n",
      "[\"['CERTIFICATE'\", \" 'OF'\", \" 'SERVICE'\", \" 'for'\", ' \"Plaintiff\\'s\"]']\n",
      "[\"['Joint'\", \" 'MOTION'\", \" 'for'\", \" 'Extension'\", \" 'of']\"]\n",
      "[\"['Package'\", \" 'prepared'\", \" '(USM'\", \" '285\", \"'\", \" 'summons']\"]\n",
      "[\"['Return'\", \" 'of'\", \" 'Service'\", \" 'Unexecuted'\", \" 'by']\"]\n",
      "[\"['Clerks'\", \" 'Certificate'\", \" 'of'\", \" 'Mailing'\", \" 'as']\"]\n",
      "[\"['Service'\", \" 'waiver'\", \" 'package'\", \" 'sent'\", \" 'to']\"]\n",
      "[\"['Clerks'\", \" 'Certificate'\", \" 'of'\", \" 'Mailing'\", \" 'as']\"]\n",
      "[\"['Clerks'\", \" 'Certificate'\", \" 'of'\", \" 'Mailing'\", \" 'as']\"]\n",
      "[\"['Case'\", \" 'Reassigned'\", \" 'to'\", \" 'Judge'\", \" 'William']\"]\n",
      "[\"['Clerks'\", \" 'Certificate'\", \" 'of'\", \" 'Mailing'\", \" 'as']\"]\n",
      "[\"['Request'\", \" 'for'\", \" 'Leave'\", \" 'of'\", \" 'Absence']\"]\n",
      "[\"['Request'\", \" 'for'\", \" 'Leave'\", \" 'of'\", \" 'Absence']\"]\n",
      "[\"['CERTIFICATE'\", \" 'OF'\", \" 'SERVICE'\", \" 'for'\", ' \"Plaintiff\\'s\"]']\n",
      "[\"['Clerks'\", \" 'Notation'\", \" 're'\", \" '14'\", \" 'Certificate']\"]\n",
      "[\"['SCHEDULING'\", \" 'ORDER'\", \" 'approving'\", \" 'the'\", \" '10']\"]\n",
      "[\"['CONSENT'\", \" 'to'\", \" 'Jurisdiction'\", \" 'by'\", \" 'US']\"]\n",
      "[\"['CERTIFICATE'\", \" 'OF'\", \" 'SERVICE'\", \" 'Plaintiffs'\", \" 'First']\"]\n",
      "[\"['CERTIFICATE'\", \" 'OF'\", \" 'SERVICE'\", \" 'Plaintiffs'\", \" 'First']\"]\n",
      "[\"['Order'\", \" 'GRANTING'\", \" 'Consent'\", \" 'to'\", \" 'Jurisdiction']\"]\n",
      "[\"['NOTICE'\", \" 'TO'\", \" 'ALL'\", \" 'COUNSEL'\", \" 'OF']\"]\n",
      "[\"['DOCUMENT'\", \" 'FILING'\", \" 'ERROR'\", \" 'RESPONSE'\", \" 're']\"]\n",
      "[\"['CERTIFICATE'\", \" 'OF'\", \" 'SERVICE'\", \" 'of'\", ' \"Defendant\\'s\"]']\n",
      "[\"['CERTIFICATE'\", \" 'OF'\", \" 'SERVICE'\", ' \"Plaintiff\\'s\"', \" 'Second']\"]\n",
      "[\"['CERTIFICATE'\", \" 'OF'\", \" 'SERVICE'\", \" 'Plaintiffs'\", \" 'Second']\"]\n",
      "[\"['CERTIFICATE'\", \" 'OF'\", \" 'SERVICE'\", \" 'Plaintiffs'\", \" 'First']\"]\n",
      "[\"['Joint'\", \" 'MOTION'\", \" 'for'\", \" 'Extension'\", \" 'of']\"]\n",
      "[\"['CERTIFICATE'\", \" 'OF'\", \" 'SERVICE'\", \" 'for'\", \" 'Discovery']\"]\n",
      "[\"['CERTIFICATE'\", \" 'OF'\", \" 'SERVICE'\", \" 'Notice'\", \" 'of']\"]\n",
      "[\"['CERTIFICATE'\", \" 'OF'\", \" 'SERVICE'\", \" 're'\", \" 'Notice']\"]\n",
      "[\"['Consent'\", \" 'MOTION'\", \" 'for'\", \" 'Extension'\", \" 'of']\"]\n",
      "[\"['CERTIFICATE'\", \" 'OF'\", \" 'SERVICE'\", \" 'of'\", \" 'Discovery']\"]\n",
      "[\"['CERTIFICATE'\", \" 'OF'\", \" 'SERVICE'\", \" 'for'\", \" 'Discovery']\"]\n",
      "[\"['CERTIFICATE'\", \" 'OF'\", \" 'SERVICE'\", \" 'of'\", \" 'Discovery']\"]\n",
      "[\"['CERTIFICATE'\", \" 'OF'\", \" 'SERVICE'\", \" 're'\", \" 'Amended']\"]\n",
      "[\"['CERTIFICATE'\", \" 'OF'\", \" 'SERVICE'\", \" 're'\", \" 'Amended']\"]\n",
      "[\"['Certification'\", \" 'of'\", \" 'Consent'\", \" 'to'\", \" 'Substitution']\"]\n",
      "[\"['CERTIFICATE'\", \" 'OF'\", \" 'SERVICE'\", \" 'of'\", \" 'Responses']\"]\n",
      "['[\"NOTARY\\'S\"', \" 'CERTIFICATION'\", \" 'RE'\", \" 'FAILURE'\", \" 'OF']\"]\n",
      "[\"['CERTIFICATE'\", \" 'OF'\", \" 'SERVICE'\", \" 'of'\", \" 'Discovery']\"]\n",
      "['[\"Clerk\\'s\"', \" 'Notice'\", \" 'to'\", \" 'Parties'\", \" 'to']\"]\n",
      "[\"['Request'\", \" 'for'\", \" 'Leave'\", \" 'of'\", \" 'Absence']\"]\n",
      "[\"['Clerks'\", \" 'Certificate'\", \" 'of'\", \" 'Mailing'\", \" 'as']\"]\n",
      "[\"['Clerks'\", \" 'Certificate'\", \" 'of'\", \" 'Mailing'\", \" 'as']\"]\n",
      "[\"['Clerks'\", \" 'Certificate'\", \" 'of'\", \" 'Mailing'\", \" 'as']\"]\n",
      "[\"['SCHEDULING'\", \" 'ORDER'\", \" 'on'\", \" 'the'\", \" '8']\"]\n",
      "[\"['SCHEDULING'\", \" 'ORDER'\", \" 'AND'\", \" 'INSTRUCTIONS'\", \" 'REGARDING']\"]\n",
      "[\"['CERTIFICATE'\", \" 'OF'\", \" 'SERVICE'\", \" 'of'\", \" 'First']\"]\n",
      "[\"['CERTIFICATE'\", \" 'OF'\", \" 'SERVICE'\", \" 'of'\", \" 'First']\"]\n",
      "[\"['CERTIFICATE'\", \" 'OF'\", \" 'SERVICE'\", \" 'filed'\", \" 'by']\"]\n",
      "[\"['CERTIFICATE'\", \" 'OF'\", \" 'SERVICE'\", \" 'filed'\", \" 'by']\"]\n",
      "[\"['CERTIFICATE'\", \" 'OF'\", \" 'SERVICE'\", \" 'filed'\", \" 'by']\"]\n",
      "[\"['CERTIFICATE'\", \" 'OF'\", \" 'SERVICE'\", \" 'filed'\", \" 'by']\"]\n",
      "[\"['CERTIFICATE'\", \" 'OF'\", \" 'SERVICE'\", \" 'filed'\", \" 'by']\"]\n",
      "[\"['CERTIFICATE'\", \" 'OF'\", \" 'SERVICE'\", \" 'of'\", ' \"Defendants\\'\"]']\n",
      "[\"['CERTIFICATE'\", \" 'OF'\", \" 'SERVICE'\", \" 'of'\", ' \"Defendants\\'\"]']\n",
      "[\"['CERTIFICATE'\", \" 'OF'\", \" 'SERVICE'\", \" 'filed'\", \" 'by']\"]\n",
      "[\"['CERTIFICATE'\", \" 'OF'\", \" 'SERVICE'\", \" 'filed'\", \" 'by']\"]\n",
      "[\"['NOTICE'\", \" 'TO'\", \" 'ALL'\", \" 'COUNSEL'\", \" 'OF']\"]\n",
      "[\"['Return'\", \" 'of'\", \" 'Service'\", \" 'Executed'\", \" 'by']\"]\n",
      "[\"['Return'\", \" 'of'\", \" 'Service'\", \" 'Executed'\", \" 'by']\"]\n",
      "[\"['Joint'\", \" 'MOTION'\", \" 'for'\", \" 'Extension'\", \" 'of']\"]\n",
      "[\"['Clerks'\", \" 'Notation'\", \" 're'\", \" '16'\", \" 'Leave']\"]\n",
      "[\"['Clerks'\", \" 'Notation'\", \" 're'\", \" '17'\", \" 'Leave']\"]\n",
      "[\"['Joint'\", \" 'MOTION'\", \" 'for'\", \" 'Extension'\", \" 'of']\"]\n",
      "[\"['SCHEDULING'\", \" 'ORDER'\", \" 'APPROVING'\", \" '9'\", \" 'Preliminary']\"]\n"
     ]
    }
   ],
   "source": [
    "for row in df_delimited['Docket Sheet Entries']:\n",
    "    print(row.split(','))"
   ]
  },
  {
   "cell_type": "code",
   "execution_count": null,
   "metadata": {},
   "outputs": [],
   "source": []
  },
  {
   "cell_type": "code",
   "execution_count": null,
   "metadata": {
    "collapsed": true
   },
   "outputs": [],
   "source": []
  },
  {
   "cell_type": "code",
   "execution_count": null,
   "metadata": {
    "collapsed": true
   },
   "outputs": [],
   "source": []
  },
  {
   "cell_type": "code",
   "execution_count": null,
   "metadata": {
    "collapsed": true
   },
   "outputs": [],
   "source": []
  }
 ],
 "metadata": {
  "kernelspec": {
   "display_name": "Python 3",
   "language": "python",
   "name": "python3"
  },
  "language_info": {
   "codemirror_mode": {
    "name": "ipython",
    "version": 3
   },
   "file_extension": ".py",
   "mimetype": "text/x-python",
   "name": "python",
   "nbconvert_exporter": "python",
   "pygments_lexer": "ipython3",
   "version": "3.6.3"
  }
 },
 "nbformat": 4,
 "nbformat_minor": 2
}
