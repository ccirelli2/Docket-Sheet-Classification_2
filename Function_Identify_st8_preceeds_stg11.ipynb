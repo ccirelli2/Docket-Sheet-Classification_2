{
 "cells": [
  {
   "cell_type": "code",
   "execution_count": 1,
   "metadata": {},
   "outputs": [],
   "source": [
    "import os\n",
    "import pandas as pd\n"
   ]
  },
  {
   "cell_type": "code",
   "execution_count": null,
   "metadata": {},
   "outputs": [],
   "source": []
  },
  {
   "cell_type": "code",
   "execution_count": 2,
   "metadata": {},
   "outputs": [],
   "source": [
    "# Change directory\n",
    "os.chdir('/home/ccirelli2/Desktop/Docket-Sheet-Classification-v2/Stage5_Predictions_Results')\n",
    "\n",
    "# # Load Excel Files\n",
    "Chunk1_ds_entries = r'Step5_Prediction_Appended_Docketsheet_Chunk1.xlsx'\n",
    "Chunk1_case_predictions = r'Case_Level_Predictions_Chunk1.xlsx'\n"
   ]
  },
  {
   "cell_type": "code",
   "execution_count": null,
   "metadata": {},
   "outputs": [],
   "source": [
    "def stg8_preceeds_stg11(Chunk1_ds, Chunk1_case):\n",
    "        # Read files in as dataframes. \n",
    "        df_chunk1_ds_entries = pd.read_excel(Chunk1_ds_entries)\n",
    "        df_case_predictions = pd.read_excel(Chunk1_case_predictions)\n",
    "\n",
    "Count = 0\n",
    "for x,y,z in zip(df_chunk1_ds_entries.itertuples(), df_case_predictions.itertuples(), df_case_predictions[1:].itertuples()):\n",
    "    Count +=1\n",
    "    if Count < 2:\n",
    "        print(x,y,z)"
   ]
  },
  {
   "cell_type": "code",
   "execution_count": null,
   "metadata": {},
   "outputs": [],
   "source": []
  },
  {
   "cell_type": "code",
   "execution_count": null,
   "metadata": {},
   "outputs": [],
   "source": []
  },
  {
   "cell_type": "code",
   "execution_count": null,
   "metadata": {},
   "outputs": [],
   "source": []
  },
  {
   "cell_type": "code",
   "execution_count": null,
   "metadata": {},
   "outputs": [],
   "source": []
  },
  {
   "cell_type": "code",
   "execution_count": null,
   "metadata": {},
   "outputs": [],
   "source": []
  },
  {
   "cell_type": "code",
   "execution_count": null,
   "metadata": {},
   "outputs": [],
   "source": []
  }
 ],
 "metadata": {
  "kernelspec": {
   "display_name": "Python 3",
   "language": "python",
   "name": "python3"
  },
  "language_info": {
   "codemirror_mode": {
    "name": "ipython",
    "version": 3
   },
   "file_extension": ".py",
   "mimetype": "text/x-python",
   "name": "python",
   "nbconvert_exporter": "python",
   "pygments_lexer": "ipython3",
   "version": "3.6.3"
  }
 },
 "nbformat": 4,
 "nbformat_minor": 2
}
