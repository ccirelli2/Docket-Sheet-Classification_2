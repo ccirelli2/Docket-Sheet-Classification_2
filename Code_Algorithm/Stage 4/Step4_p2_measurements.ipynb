{
 "cells": [
  {
   "cell_type": "code",
   "execution_count": 1,
   "metadata": {
    "collapsed": true
   },
   "outputs": [],
   "source": [
    "import os\n",
    "import pandas as pd"
   ]
  },
  {
   "cell_type": "code",
   "execution_count": 2,
   "metadata": {
    "collapsed": true
   },
   "outputs": [],
   "source": [
    "os.chdir(r'/home/ccirelli2/Desktop/Docket-Sheet-Classification/Modules')\n",
    "import Step4_Module_Machine_Learning_Algorithms as stp4"
   ]
  },
  {
   "cell_type": "code",
   "execution_count": null,
   "metadata": {
    "collapsed": true
   },
   "outputs": [],
   "source": []
  },
  {
   "cell_type": "code",
   "execution_count": 3,
   "metadata": {
    "collapsed": true
   },
   "outputs": [],
   "source": [
    "# Change Dir to where the docketsheet average word appearance are saved. "
   ]
  },
  {
   "cell_type": "code",
   "execution_count": 4,
   "metadata": {
    "collapsed": true
   },
   "outputs": [],
   "source": [
    "os.chdir(r'/home/ccirelli2/Desktop/Docket-Sheet-Classification/Results_Docketsheet_wordMatches')"
   ]
  },
  {
   "cell_type": "code",
   "execution_count": 5,
   "metadata": {
    "collapsed": true
   },
   "outputs": [],
   "source": [
    "List_files = [file for file in os.listdir()]"
   ]
  },
  {
   "cell_type": "code",
   "execution_count": 6,
   "metadata": {
    "collapsed": true
   },
   "outputs": [],
   "source": [
    "def get_count_nomatch_columns(File, Count = 'Count_zero'):\n",
    "    \n",
    "    # Read the file in as a pandas dataframe\n",
    "    dataframe = pd.read_excel(File)\n",
    "    # Drop target column\n",
    "    df_drop_target = dataframe.drop(['Life Cycle Stage'], axis = 1)\n",
    "    # Keep count of rows with no matches\n",
    "    Count_all = 0\n",
    "    Count_zero = 0\n",
    "    # Iterate over each row\n",
    "    for row in df_drop_target.itertuples():\n",
    "        # Count Each Row\n",
    "        Count_all +=1\n",
    "        # Calculate the sum of the row\n",
    "        if sum(row[1:]) == 0:\n",
    "            # If the sum is 0, add one to the count. \n",
    "            Count_zero +=1\n",
    "    \n",
    "    if Count == 'Count_zero':\n",
    "        return Count_zero\n",
    "    elif Count == 'Count_all':\n",
    "        return Count_all"
   ]
  },
  {
   "cell_type": "code",
   "execution_count": 7,
   "metadata": {
    "collapsed": true
   },
   "outputs": [],
   "source": [
    "def create_dataframe_all_Files_Freq_NoMatches(List_files, Write2Excel = False, \n",
    "                                              Destination_location = None):\n",
    "    \n",
    "    Dict = {}\n",
    "    \n",
    "    for file in List_files:\n",
    "        print('Working on file', file)\n",
    "        Count_zero = get_count_nomatch_columns(file, Count = 'Count_zero')\n",
    "        Count_all = get_count_nomatch_columns(file, Count = 'Count_all')\n",
    "        Dict[file] = (Count_zero, round(Count_zero/Count_all, 2))\n",
    "        \n",
    "    df = pd.DataFrame(Dict).transpose()\n",
    "    \n",
    "    # Write to Excel\n",
    "    if Write2Excel == True:\n",
    "        print('Writing dataframe to Excel')\n",
    "        os.chdir(Destination_location)\n",
    "        File_name = 'Result Calculation No Matches' \n",
    "        print('File name => ' + File_name)\n",
    "        stp4.write_to_excel(df, Destination_location, File_name)\n",
    "        print('Your file has been saved to =>  ', Destination_location, '\\n', '\\n')\n",
    "        # Otherwise, return the dataframe to the user.    \n",
    "    else:\n",
    "        return df\n",
    "    \n",
    "    return df  "
   ]
  },
  {
   "cell_type": "code",
   "execution_count": 8,
   "metadata": {},
   "outputs": [
    {
     "name": "stdout",
     "output_type": "stream",
     "text": [
      "Working on file DocketSheet_WordMatches_TopWords_Quadgrams_CalculationIII_Correlation_Coefficient_Top15_highest_COCOEF.xlsx.xlsx\n",
      "Working on file DocketSheet_WordMatches_TopWords_Quadgrams_CalculationII_AVG_not_zero_Top5_highest_STDV_AVG_below_20prct.xlsx.xlsx\n",
      "Working on file DocketSheet_WordMatches_TopWords_Nograms_CalculationII_AVG_not_zero_Top15_highest_STDV.xlsx.xlsx\n",
      "Working on file DocketSheet_WordMatches_TopWords_Trigrams_CalculationI_homebrew_STDV_Top5_highest_STDV_AVG_below_20prct.xlsx.xlsx\n",
      "Working on file DocketSheet_WordMatches_TopWords_Nograms_CalculationII_AVG_not_zero_Top5_highest_STDV_AVG_below_20prct.xlsx.xlsx\n",
      "Working on file DocketSheet_WordMatches_TopWords_Bigrams_CalculationII_AVG_not_zero_Top5_highest_STDV_lowest_AVG.xlsx.xlsx\n",
      "Working on file DocketSheet_WordMatches_TopWords_Nograms_CalculationIII_Correlation_Coefficient_Top15_highest_COCOEF.xlsx.xlsx\n",
      "Working on file DocketSheet_WordMatches_TopWords_Quadgrams_CalculationI_homebrew_STDV_Top5_highest_STDV_AVG_below_20prct.xlsx.xlsx\n",
      "Working on file DocketSheet_WordMatches_TopWords_Trigrams_CalculationI_homebrew_STDV_Top15_highest_STDV.xlsx.xlsx\n",
      "Working on file DocketSheet_WordMatches_TopWords_Quadgrams_CalculationII_AVG_not_zero_Top5_lowest_STDV_highest_AVG.xlsx.xlsx\n",
      "Working on file DocketSheet_WordMatches_TopWords_Bigrams_CalculationII_AVG_not_zero_Top5_highest_STDV_AVG_below_20prct.xlsx.xlsx\n",
      "Working on file DocketSheet_WordMatches_TopWords_Bigrams_CalculationII_AVG_not_zero_Top15_highest_STDV.xlsx.xlsx\n",
      "Working on file DocketSheet_WordMatches_TopWords_Bigrams_CalculationII_AVG_not_zero_Top5_lowest_STDV_highest_AVG.xlsx.xlsx\n",
      "Working on file DocketSheet_WordMatches_TopWords_Nograms_CalculationII_AVG_not_zero_Top5_lowest_STDV_highest_AVG.xlsx.xlsx\n",
      "Working on file DocketSheet_WordMatches_TopWords_Nograms_CalculationII_AVG_not_zero_Top5_highest_STDV_lowest_AVG.xlsx.xlsx\n",
      "Working on file DocketSheet_WordMatches_TopWords_Quadgrams_CalculationI_homebrew_STDV_Top15_highest_STDV.xlsx.xlsx\n",
      "Working on file DocketSheet_WordMatches_TopWords_Quadgrams_CalculationII_AVG_not_zero_Top5_highest_STDV_lowest_AVG.xlsx.xlsx\n",
      "Working on file DocketSheet_WordMatches_TopWords_Trigrams_CalculationI_homebrew_STDV_Top5_lowest_STDV_highest_AVG.xlsx.xlsx\n",
      "Working on file DocketSheet_WordMatches_TopWords_Bigrams_CalculationI_homebrew_STDV_Top15_highest_STDV.xlsx.xlsx\n",
      "Working on file DocketSheet_WordMatches_TopWords_Bigrams_CalculationIII_Correlation_Coefficient_Top5_lowest_COCOEF_highest_AVG.xlsx.xlsx\n",
      "Working on file DocketSheet_WordMatches_TopWords_Trigrams_CalculationII_AVG_not_zero_Top15_highest_STDV.xlsx.xlsx\n",
      "Working on file DocketSheet_WordMatches_TopWords_Quadgrams_CalculationI_homebrew_STDV_Top5_highest_STDV_lowest_AVG.xlsx.xlsx\n",
      "Working on file DocketSheet_WordMatches_TopWords_Trigrams_CalculationIII_Correlation_Coefficient_Top5_lowest_COCOEF_highest_AVG.xlsx.xlsx\n",
      "Working on file DocketSheet_WordMatches_TopWords_Nograms_CalculationI_homebrew_STDV_Top5_highest_STDV_AVG_below_20prct.xlsx.xlsx\n",
      "Working on file DocketSheet_WordMatches_TopWords_Trigrams_CalculationI_homebrew_STDV_Top5_highest_STDV_lowest_AVG.xlsx.xlsx\n",
      "Working on file DocketSheet_WordMatches_TopWords_Trigrams_CalculationII_AVG_not_zero_Top5_highest_STDV_AVG_below_20prct.xlsx.xlsx\n",
      "Working on file DocketSheet_WordMatches_TopWords_Bigrams_CalculationI_homebrew_STDV_Top5_highest_STDV_AVG_below_20prct.xlsx.xlsx\n",
      "Working on file DocketSheet_WordMatches_TopWords_Nograms_CalculationI_homebrew_STDV_Top5_highest_STDV_lowest_AVG.xlsx.xlsx\n",
      "Working on file DocketSheet_WordMatches_TopWords_Bigrams_CalculationI_homebrew_STDV_Top5_lowest_STDV_highest_AVG.xlsx.xlsx\n",
      "Working on file DocketSheet_WordMatches_TopWords_Nograms_CalculationIII_Correlation_Coefficient_Top5_lowest_COCOEF_highest_AVG.xlsx.xlsx\n",
      "Working on file DocketSheet_WordMatches_TopWords_Quadgrams_CalculationII_AVG_not_zero_Top15_highest_STDV.xlsx.xlsx\n",
      "Working on file DocketSheet_WordMatches_TopWords_Nograms_CalculationI_homebrew_STDV_Top5_lowest_STDV_highest_AVG.xlsx.xlsx\n",
      "Writing dataframe to Excel\n",
      "File name => Result Calculation No Matches\n",
      "Your file has been saved to =>   /home/ccirelli2/Desktop/Docket-Sheet-Classification \n",
      " \n",
      "\n"
     ]
    }
   ],
   "source": [
    "Destination = r'/home/ccirelli2/Desktop/Docket-Sheet-Classification'\n",
    "\n",
    "df = create_dataframe_all_Files_Freq_NoMatches(List_files, \n",
    "                                               Write2Excel = True, \n",
    "                                               Destination_location = Destination)"
   ]
  },
  {
   "cell_type": "code",
   "execution_count": 9,
   "metadata": {},
   "outputs": [
    {
     "data": {
      "text/html": [
       "<div>\n",
       "<style>\n",
       "    .dataframe thead tr:only-child th {\n",
       "        text-align: right;\n",
       "    }\n",
       "\n",
       "    .dataframe thead th {\n",
       "        text-align: left;\n",
       "    }\n",
       "\n",
       "    .dataframe tbody tr th {\n",
       "        vertical-align: top;\n",
       "    }\n",
       "</style>\n",
       "<table border=\"1\" class=\"dataframe\">\n",
       "  <thead>\n",
       "    <tr style=\"text-align: right;\">\n",
       "      <th></th>\n",
       "      <th>0</th>\n",
       "      <th>1</th>\n",
       "    </tr>\n",
       "  </thead>\n",
       "  <tbody>\n",
       "    <tr>\n",
       "      <th>DocketSheet_WordMatches_TopWords_Bigrams_CalculationIII_Correlation_Coefficient_Top5_lowest_COCOEF_highest_AVG.xlsx.xlsx</th>\n",
       "      <td>918.0</td>\n",
       "      <td>0.71</td>\n",
       "    </tr>\n",
       "    <tr>\n",
       "      <th>DocketSheet_WordMatches_TopWords_Bigrams_CalculationII_AVG_not_zero_Top15_highest_STDV.xlsx.xlsx</th>\n",
       "      <td>190.0</td>\n",
       "      <td>0.15</td>\n",
       "    </tr>\n",
       "    <tr>\n",
       "      <th>DocketSheet_WordMatches_TopWords_Bigrams_CalculationII_AVG_not_zero_Top5_highest_STDV_AVG_below_20prct.xlsx.xlsx</th>\n",
       "      <td>458.0</td>\n",
       "      <td>0.35</td>\n",
       "    </tr>\n",
       "    <tr>\n",
       "      <th>DocketSheet_WordMatches_TopWords_Bigrams_CalculationII_AVG_not_zero_Top5_highest_STDV_lowest_AVG.xlsx.xlsx</th>\n",
       "      <td>532.0</td>\n",
       "      <td>0.41</td>\n",
       "    </tr>\n",
       "    <tr>\n",
       "      <th>DocketSheet_WordMatches_TopWords_Bigrams_CalculationII_AVG_not_zero_Top5_lowest_STDV_highest_AVG.xlsx.xlsx</th>\n",
       "      <td>1065.0</td>\n",
       "      <td>0.82</td>\n",
       "    </tr>\n",
       "    <tr>\n",
       "      <th>DocketSheet_WordMatches_TopWords_Bigrams_CalculationI_homebrew_STDV_Top15_highest_STDV.xlsx.xlsx</th>\n",
       "      <td>100.0</td>\n",
       "      <td>0.08</td>\n",
       "    </tr>\n",
       "    <tr>\n",
       "      <th>DocketSheet_WordMatches_TopWords_Bigrams_CalculationI_homebrew_STDV_Top5_highest_STDV_AVG_below_20prct.xlsx.xlsx</th>\n",
       "      <td>538.0</td>\n",
       "      <td>0.42</td>\n",
       "    </tr>\n",
       "    <tr>\n",
       "      <th>DocketSheet_WordMatches_TopWords_Bigrams_CalculationI_homebrew_STDV_Top5_lowest_STDV_highest_AVG.xlsx.xlsx</th>\n",
       "      <td>759.0</td>\n",
       "      <td>0.59</td>\n",
       "    </tr>\n",
       "    <tr>\n",
       "      <th>DocketSheet_WordMatches_TopWords_Nograms_CalculationIII_Correlation_Coefficient_Top15_highest_COCOEF.xlsx.xlsx</th>\n",
       "      <td>41.0</td>\n",
       "      <td>0.03</td>\n",
       "    </tr>\n",
       "    <tr>\n",
       "      <th>DocketSheet_WordMatches_TopWords_Nograms_CalculationIII_Correlation_Coefficient_Top5_lowest_COCOEF_highest_AVG.xlsx.xlsx</th>\n",
       "      <td>0.0</td>\n",
       "      <td>0.00</td>\n",
       "    </tr>\n",
       "    <tr>\n",
       "      <th>DocketSheet_WordMatches_TopWords_Nograms_CalculationII_AVG_not_zero_Top15_highest_STDV.xlsx.xlsx</th>\n",
       "      <td>0.0</td>\n",
       "      <td>0.00</td>\n",
       "    </tr>\n",
       "    <tr>\n",
       "      <th>DocketSheet_WordMatches_TopWords_Nograms_CalculationII_AVG_not_zero_Top5_highest_STDV_AVG_below_20prct.xlsx.xlsx</th>\n",
       "      <td>38.0</td>\n",
       "      <td>0.03</td>\n",
       "    </tr>\n",
       "    <tr>\n",
       "      <th>DocketSheet_WordMatches_TopWords_Nograms_CalculationII_AVG_not_zero_Top5_highest_STDV_lowest_AVG.xlsx.xlsx</th>\n",
       "      <td>353.0</td>\n",
       "      <td>0.27</td>\n",
       "    </tr>\n",
       "    <tr>\n",
       "      <th>DocketSheet_WordMatches_TopWords_Nograms_CalculationII_AVG_not_zero_Top5_lowest_STDV_highest_AVG.xlsx.xlsx</th>\n",
       "      <td>0.0</td>\n",
       "      <td>0.00</td>\n",
       "    </tr>\n",
       "    <tr>\n",
       "      <th>DocketSheet_WordMatches_TopWords_Nograms_CalculationI_homebrew_STDV_Top5_highest_STDV_AVG_below_20prct.xlsx.xlsx</th>\n",
       "      <td>133.0</td>\n",
       "      <td>0.10</td>\n",
       "    </tr>\n",
       "    <tr>\n",
       "      <th>DocketSheet_WordMatches_TopWords_Nograms_CalculationI_homebrew_STDV_Top5_highest_STDV_lowest_AVG.xlsx.xlsx</th>\n",
       "      <td>108.0</td>\n",
       "      <td>0.08</td>\n",
       "    </tr>\n",
       "    <tr>\n",
       "      <th>DocketSheet_WordMatches_TopWords_Nograms_CalculationI_homebrew_STDV_Top5_lowest_STDV_highest_AVG.xlsx.xlsx</th>\n",
       "      <td>0.0</td>\n",
       "      <td>0.00</td>\n",
       "    </tr>\n",
       "    <tr>\n",
       "      <th>DocketSheet_WordMatches_TopWords_Quadgrams_CalculationIII_Correlation_Coefficient_Top15_highest_COCOEF.xlsx.xlsx</th>\n",
       "      <td>718.0</td>\n",
       "      <td>0.55</td>\n",
       "    </tr>\n",
       "    <tr>\n",
       "      <th>DocketSheet_WordMatches_TopWords_Quadgrams_CalculationII_AVG_not_zero_Top15_highest_STDV.xlsx.xlsx</th>\n",
       "      <td>585.0</td>\n",
       "      <td>0.45</td>\n",
       "    </tr>\n",
       "    <tr>\n",
       "      <th>DocketSheet_WordMatches_TopWords_Quadgrams_CalculationII_AVG_not_zero_Top5_highest_STDV_AVG_below_20prct.xlsx.xlsx</th>\n",
       "      <td>976.0</td>\n",
       "      <td>0.75</td>\n",
       "    </tr>\n",
       "    <tr>\n",
       "      <th>DocketSheet_WordMatches_TopWords_Quadgrams_CalculationII_AVG_not_zero_Top5_highest_STDV_lowest_AVG.xlsx.xlsx</th>\n",
       "      <td>938.0</td>\n",
       "      <td>0.72</td>\n",
       "    </tr>\n",
       "    <tr>\n",
       "      <th>DocketSheet_WordMatches_TopWords_Quadgrams_CalculationII_AVG_not_zero_Top5_lowest_STDV_highest_AVG.xlsx.xlsx</th>\n",
       "      <td>1138.0</td>\n",
       "      <td>0.88</td>\n",
       "    </tr>\n",
       "    <tr>\n",
       "      <th>DocketSheet_WordMatches_TopWords_Quadgrams_CalculationI_homebrew_STDV_Top15_highest_STDV.xlsx.xlsx</th>\n",
       "      <td>605.0</td>\n",
       "      <td>0.47</td>\n",
       "    </tr>\n",
       "    <tr>\n",
       "      <th>DocketSheet_WordMatches_TopWords_Quadgrams_CalculationI_homebrew_STDV_Top5_highest_STDV_AVG_below_20prct.xlsx.xlsx</th>\n",
       "      <td>1055.0</td>\n",
       "      <td>0.81</td>\n",
       "    </tr>\n",
       "    <tr>\n",
       "      <th>DocketSheet_WordMatches_TopWords_Quadgrams_CalculationI_homebrew_STDV_Top5_highest_STDV_lowest_AVG.xlsx.xlsx</th>\n",
       "      <td>833.0</td>\n",
       "      <td>0.64</td>\n",
       "    </tr>\n",
       "    <tr>\n",
       "      <th>DocketSheet_WordMatches_TopWords_Trigrams_CalculationIII_Correlation_Coefficient_Top5_lowest_COCOEF_highest_AVG.xlsx.xlsx</th>\n",
       "      <td>1048.0</td>\n",
       "      <td>0.81</td>\n",
       "    </tr>\n",
       "    <tr>\n",
       "      <th>DocketSheet_WordMatches_TopWords_Trigrams_CalculationII_AVG_not_zero_Top15_highest_STDV.xlsx.xlsx</th>\n",
       "      <td>413.0</td>\n",
       "      <td>0.32</td>\n",
       "    </tr>\n",
       "    <tr>\n",
       "      <th>DocketSheet_WordMatches_TopWords_Trigrams_CalculationII_AVG_not_zero_Top5_highest_STDV_AVG_below_20prct.xlsx.xlsx</th>\n",
       "      <td>725.0</td>\n",
       "      <td>0.56</td>\n",
       "    </tr>\n",
       "    <tr>\n",
       "      <th>DocketSheet_WordMatches_TopWords_Trigrams_CalculationI_homebrew_STDV_Top15_highest_STDV.xlsx.xlsx</th>\n",
       "      <td>295.0</td>\n",
       "      <td>0.23</td>\n",
       "    </tr>\n",
       "    <tr>\n",
       "      <th>DocketSheet_WordMatches_TopWords_Trigrams_CalculationI_homebrew_STDV_Top5_highest_STDV_AVG_below_20prct.xlsx.xlsx</th>\n",
       "      <td>761.0</td>\n",
       "      <td>0.59</td>\n",
       "    </tr>\n",
       "    <tr>\n",
       "      <th>DocketSheet_WordMatches_TopWords_Trigrams_CalculationI_homebrew_STDV_Top5_highest_STDV_lowest_AVG.xlsx.xlsx</th>\n",
       "      <td>631.0</td>\n",
       "      <td>0.49</td>\n",
       "    </tr>\n",
       "    <tr>\n",
       "      <th>DocketSheet_WordMatches_TopWords_Trigrams_CalculationI_homebrew_STDV_Top5_lowest_STDV_highest_AVG.xlsx.xlsx</th>\n",
       "      <td>917.0</td>\n",
       "      <td>0.71</td>\n",
       "    </tr>\n",
       "  </tbody>\n",
       "</table>\n",
       "</div>"
      ],
      "text/plain": [
       "                                                         0     1\n",
       "DocketSheet_WordMatches_TopWords_Bigrams_Calcul...   918.0  0.71\n",
       "DocketSheet_WordMatches_TopWords_Bigrams_Calcul...   190.0  0.15\n",
       "DocketSheet_WordMatches_TopWords_Bigrams_Calcul...   458.0  0.35\n",
       "DocketSheet_WordMatches_TopWords_Bigrams_Calcul...   532.0  0.41\n",
       "DocketSheet_WordMatches_TopWords_Bigrams_Calcul...  1065.0  0.82\n",
       "DocketSheet_WordMatches_TopWords_Bigrams_Calcul...   100.0  0.08\n",
       "DocketSheet_WordMatches_TopWords_Bigrams_Calcul...   538.0  0.42\n",
       "DocketSheet_WordMatches_TopWords_Bigrams_Calcul...   759.0  0.59\n",
       "DocketSheet_WordMatches_TopWords_Nograms_Calcul...    41.0  0.03\n",
       "DocketSheet_WordMatches_TopWords_Nograms_Calcul...     0.0  0.00\n",
       "DocketSheet_WordMatches_TopWords_Nograms_Calcul...     0.0  0.00\n",
       "DocketSheet_WordMatches_TopWords_Nograms_Calcul...    38.0  0.03\n",
       "DocketSheet_WordMatches_TopWords_Nograms_Calcul...   353.0  0.27\n",
       "DocketSheet_WordMatches_TopWords_Nograms_Calcul...     0.0  0.00\n",
       "DocketSheet_WordMatches_TopWords_Nograms_Calcul...   133.0  0.10\n",
       "DocketSheet_WordMatches_TopWords_Nograms_Calcul...   108.0  0.08\n",
       "DocketSheet_WordMatches_TopWords_Nograms_Calcul...     0.0  0.00\n",
       "DocketSheet_WordMatches_TopWords_Quadgrams_Calc...   718.0  0.55\n",
       "DocketSheet_WordMatches_TopWords_Quadgrams_Calc...   585.0  0.45\n",
       "DocketSheet_WordMatches_TopWords_Quadgrams_Calc...   976.0  0.75\n",
       "DocketSheet_WordMatches_TopWords_Quadgrams_Calc...   938.0  0.72\n",
       "DocketSheet_WordMatches_TopWords_Quadgrams_Calc...  1138.0  0.88\n",
       "DocketSheet_WordMatches_TopWords_Quadgrams_Calc...   605.0  0.47\n",
       "DocketSheet_WordMatches_TopWords_Quadgrams_Calc...  1055.0  0.81\n",
       "DocketSheet_WordMatches_TopWords_Quadgrams_Calc...   833.0  0.64\n",
       "DocketSheet_WordMatches_TopWords_Trigrams_Calcu...  1048.0  0.81\n",
       "DocketSheet_WordMatches_TopWords_Trigrams_Calcu...   413.0  0.32\n",
       "DocketSheet_WordMatches_TopWords_Trigrams_Calcu...   725.0  0.56\n",
       "DocketSheet_WordMatches_TopWords_Trigrams_Calcu...   295.0  0.23\n",
       "DocketSheet_WordMatches_TopWords_Trigrams_Calcu...   761.0  0.59\n",
       "DocketSheet_WordMatches_TopWords_Trigrams_Calcu...   631.0  0.49\n",
       "DocketSheet_WordMatches_TopWords_Trigrams_Calcu...   917.0  0.71"
      ]
     },
     "execution_count": 9,
     "metadata": {},
     "output_type": "execute_result"
    }
   ],
   "source": [
    "df\n"
   ]
  },
  {
   "cell_type": "code",
   "execution_count": null,
   "metadata": {
    "collapsed": true
   },
   "outputs": [],
   "source": []
  },
  {
   "cell_type": "code",
   "execution_count": null,
   "metadata": {
    "collapsed": true
   },
   "outputs": [],
   "source": []
  },
  {
   "cell_type": "code",
   "execution_count": null,
   "metadata": {
    "collapsed": true
   },
   "outputs": [],
   "source": []
  },
  {
   "cell_type": "code",
   "execution_count": null,
   "metadata": {
    "collapsed": true
   },
   "outputs": [],
   "source": []
  }
 ],
 "metadata": {
  "kernelspec": {
   "display_name": "Python 3",
   "language": "python",
   "name": "python3"
  },
  "language_info": {
   "codemirror_mode": {
    "name": "ipython",
    "version": 3
   },
   "file_extension": ".py",
   "mimetype": "text/x-python",
   "name": "python",
   "nbconvert_exporter": "python",
   "pygments_lexer": "ipython3",
   "version": "3.6.3"
  }
 },
 "nbformat": 4,
 "nbformat_minor": 2
}
