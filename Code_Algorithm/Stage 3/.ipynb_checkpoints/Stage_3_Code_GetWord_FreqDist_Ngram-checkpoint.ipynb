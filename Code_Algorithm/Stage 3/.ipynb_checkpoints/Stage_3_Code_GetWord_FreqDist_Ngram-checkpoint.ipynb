{
 "cells": [
  {
   "cell_type": "code",
   "execution_count": 1,
   "metadata": {
    "collapsed": true
   },
   "outputs": [],
   "source": [
    "# THE PURPOSE OF THIS STAGE IS TO OBTAIN THE WORD FREQUENCY FOR OUR TOP 5 WORDS THAT WILL BE FED INTO\n",
    "# THE STAGE 4 PREDICTIVE ALGORITHS"
   ]
  },
  {
   "cell_type": "code",
   "execution_count": 2,
   "metadata": {
    "collapsed": true
   },
   "outputs": [],
   "source": [
    "# IMPORT PACKAGES & PERSONAL MODULES"
   ]
  },
  {
   "cell_type": "code",
   "execution_count": 3,
   "metadata": {
    "collapsed": true
   },
   "outputs": [],
   "source": [
    "import os\n",
    "import nltk\n",
    "import pandas as pd\n",
    "os.chdir(r'/home/ccirelli2/Desktop/Docket-Sheet-Classification/Modules')\n",
    "import Step3_Module_Ngrams_Docketsheet_KeyWord_FreqDist as stp3"
   ]
  },
  {
   "cell_type": "code",
   "execution_count": 4,
   "metadata": {
    "collapsed": true
   },
   "outputs": [],
   "source": [
    "# Import Docket sheets w/ pre-classified time periods\n",
    "os.chdir(r'/home/ccirelli2/Desktop/Docket-Sheet-Classification/Data_Files_applicable_all_code')\n",
    "docketsheet_master_file = pd.read_excel(r'DocketSheet Classification_70_02.22.2018.xlsx')"
   ]
  },
  {
   "cell_type": "code",
   "execution_count": 5,
   "metadata": {
    "collapsed": true
   },
   "outputs": [],
   "source": [
    "# Target Directory"
   ]
  },
  {
   "cell_type": "code",
   "execution_count": 6,
   "metadata": {
    "collapsed": true
   },
   "outputs": [],
   "source": [
    "# Directory where files are lo\n",
    "Target_dir = r'/home/ccirelli2/Desktop/Docket-Sheet-Classification/Result_Ngrams'"
   ]
  },
  {
   "cell_type": "code",
   "execution_count": 7,
   "metadata": {
    "collapsed": true
   },
   "outputs": [],
   "source": [
    "# MASTER FUNCTION - RUN OVER DIRECTORY OR SINGLE FILE"
   ]
  },
  {
   "cell_type": "code",
   "execution_count": 20,
   "metadata": {
    "collapsed": true
   },
   "outputs": [],
   "source": [
    "def get_DocketSheet_KeyWord_Appearance_Master(Docketsheet, DirNgramLoc, Iterable = False,\n",
    "                                                Target_file = '', KeyPhrase = 'TopWords',\n",
    "                                                Destination_location = None, Transpose4mlModel = True, \n",
    "                                                Write2Excel = True):\n",
    "    '''Documentation\n",
    "    Input      = i.)   Docketsheet:  the original docketsheet with pre-classified entries. \n",
    "                 ii.)  DirNgramLoc:  The location where our KeyWordSelection files have been saved. \n",
    "                 iii.) Iterable:     If we plan to iterate over a list of files or just use one file. \n",
    "                 iv.)  Target_file:  If Iterable = False, then we need to specify the singular file for \n",
    "                                     which we would like generate the Docketsheet key word appearance \n",
    "                                     dataframe.\n",
    "                 v.)   KeyPhase:     Rather than read the data from each file of KeyWords to identify the\n",
    "                                     Ngram type, and because we have a uniform approach to defining our \n",
    "                                     KeyWord Excel files that specify the Ngram, we use the title to determine\n",
    "                                     which type of Ngram we are dealing with. \n",
    "                 vi.)  Destination_loc\n",
    "                                     Where we would like to write the excel file to.\n",
    "                 vii.) Transpose     Whether or not we want to transpose the dataframe.  Note that this \n",
    "                                     will need to be done for any dataframes that the user plans to feed \n",
    "                                     into the machine learning algorithms. \n",
    "                 viii.)Write2Excel   Whether the user wants to write to Excel or return the dataframe in \n",
    "                                     memory. \n",
    "    \n",
    "    KeyPhrase  = Chose the key phrase in the file name that will limit the files that are use in the code. \n",
    "                 Example:  Use 'Bigrams' to only obtain results for those files using Bigrams, \n",
    "                           or 'Avg_not_zero for files using that methodology. \n",
    "    \n",
    "    '''\n",
    "    \n",
    "    \n",
    "    # Change directory to where the Ngram Key Words are saved\n",
    "    os.chdir(DirNgramLoc)\n",
    "    # Obtain Files\n",
    "    List_files = [file for file in os.listdir() if KeyPhrase in file]\n",
    "\n",
    "    # Obtain Word Appearance for All Files In Dir\n",
    "    if Iterable == True:\n",
    "        print('In Interable section')\n",
    "        # Loop over directory of files\n",
    "        for file in List_files:\n",
    "                # Change directory back to where our files are saved. \n",
    "                os.chdir(DirNgramLoc)\n",
    "                \n",
    "                # Run Algorithm to obtain KeyWordAppearance. \n",
    "                DocketSheet_KeyWord_Appearance = stp3.get_KeyWordAppearance_DocketsheetEntries(\n",
    "                                                Docketsheet = Docketsheet, \n",
    "                                                File = file, \n",
    "                                                Write2Excel = Write2Excel, \n",
    "                                                Destination_location = Destination_location, \n",
    "                                                Transpose4mlModel = Transpose4mlModel)\n",
    "                # Generally we would not want to return a dataframe in a loop like this unless we plan to \n",
    "                # embed this code into another function that can use the resulting dataframe. \n",
    "                \n",
    "    \n",
    "\n",
    "    # If you only want results for a single file         \n",
    "    else:\n",
    "        DocketSheet_KeyWord_Appearance = stp3.get_KeyWordAppearance_DocketsheetEntries(\n",
    "                                                Docketsheet = Docketsheet, \n",
    "                                                File = Target_file, \n",
    "                                                Write2Excel = Write2Excel, \n",
    "                                                Destination_location = Destination_location, \n",
    "                                                Transpose4mlModel = Transpose4mlModel)\n",
    "        return DocketSheet_KeyWord_Appearance\n",
    "    \n",
    "    "
   ]
  },
  {
   "cell_type": "code",
   "execution_count": 18,
   "metadata": {
    "collapsed": true
   },
   "outputs": [],
   "source": [
    "Write2Location = r'/home/ccirelli2/Desktop/DocketsheetDistResults'"
   ]
  },
  {
   "cell_type": "code",
   "execution_count": 21,
   "metadata": {
    "scrolled": true
   },
   "outputs": [
    {
     "name": "stdout",
     "output_type": "stream",
     "text": [
      "In Interable section\n",
      "Working on key-word appearance for file => TopWords_Bigrams_CalculationI_homebrew_STDV_Top15_highest_STDV.xlsx \n",
      "\n",
      "Writing dataframe to Excel\n",
      "File name => DocketSheet_WordMatches_TopWords_Bigrams_CalculationI_homebrew_STDV_Top15_highest_STDV.xlsx\n",
      "Your file has been saved to =>   /home/ccirelli2/Desktop/DocketsheetDistResults \n",
      " \n",
      "\n",
      "Working on key-word appearance for file => TopWords_Nograms_CalculationIII_Correlation_Coefficient_Top15_highest_COCOEF.xlsx \n",
      "\n",
      "Writing dataframe to Excel\n",
      "File name => DocketSheet_WordMatches_TopWords_Nograms_CalculationIII_Correlation_Coefficient_Top15_highest_COCOEF.xlsx\n",
      "Your file has been saved to =>   /home/ccirelli2/Desktop/DocketsheetDistResults \n",
      " \n",
      "\n",
      "Working on key-word appearance for file => TopWords_Bigrams_CalculationII_AVG_not_zero_Top15_highest_STDV.xlsx \n",
      "\n",
      "Writing dataframe to Excel\n",
      "File name => DocketSheet_WordMatches_TopWords_Bigrams_CalculationII_AVG_not_zero_Top15_highest_STDV.xlsx\n",
      "Your file has been saved to =>   /home/ccirelli2/Desktop/DocketsheetDistResults \n",
      " \n",
      "\n",
      "Working on key-word appearance for file => TopWords_Quadgrams_CalculationIII_Correlation_Coefficient_Top15_highest_COCOEF.xlsx \n",
      "\n",
      "Writing dataframe to Excel\n",
      "File name => DocketSheet_WordMatches_TopWords_Quadgrams_CalculationIII_Correlation_Coefficient_Top15_highest_COCOEF.xlsx\n",
      "Your file has been saved to =>   /home/ccirelli2/Desktop/DocketsheetDistResults \n",
      " \n",
      "\n",
      "Working on key-word appearance for file => TopWords_Quadgrams_CalculationII_AVG_not_zero_Top15_highest_STDV.xlsx \n",
      "\n",
      "Writing dataframe to Excel\n",
      "File name => DocketSheet_WordMatches_TopWords_Quadgrams_CalculationII_AVG_not_zero_Top15_highest_STDV.xlsx\n",
      "Your file has been saved to =>   /home/ccirelli2/Desktop/DocketsheetDistResults \n",
      " \n",
      "\n",
      "Working on key-word appearance for file => TopWords_Quadgrams_CalculationI_homebrew_STDV_Top15_highest_STDV.xlsx \n",
      "\n",
      "Writing dataframe to Excel\n",
      "File name => DocketSheet_WordMatches_TopWords_Quadgrams_CalculationI_homebrew_STDV_Top15_highest_STDV.xlsx\n",
      "Your file has been saved to =>   /home/ccirelli2/Desktop/DocketsheetDistResults \n",
      " \n",
      "\n",
      "Working on key-word appearance for file => TopWords_Nograms_CalculationII_AVG_not_zero_Top15_highest_STDV.xlsx \n",
      "\n",
      "Writing dataframe to Excel\n",
      "File name => DocketSheet_WordMatches_TopWords_Nograms_CalculationII_AVG_not_zero_Top15_highest_STDV.xlsx\n",
      "Your file has been saved to =>   /home/ccirelli2/Desktop/DocketsheetDistResults \n",
      " \n",
      "\n",
      "Working on key-word appearance for file => TopWords_Trigrams_CalculationI_homebrew_STDV_Top15_highest_STDV.xlsx \n",
      "\n",
      "Writing dataframe to Excel\n",
      "File name => DocketSheet_WordMatches_TopWords_Trigrams_CalculationI_homebrew_STDV_Top15_highest_STDV.xlsx\n",
      "Your file has been saved to =>   /home/ccirelli2/Desktop/DocketsheetDistResults \n",
      " \n",
      "\n",
      "Working on key-word appearance for file => TopWords_Trigrams_CalculationII_AVG_not_zero_Top15_highest_STDV.xlsx \n",
      "\n",
      "Writing dataframe to Excel\n",
      "File name => DocketSheet_WordMatches_TopWords_Trigrams_CalculationII_AVG_not_zero_Top15_highest_STDV.xlsx\n",
      "Your file has been saved to =>   /home/ccirelli2/Desktop/DocketsheetDistResults \n",
      " \n",
      "\n",
      "Working on key-word appearance for file => TopWords_Nograms_CalculationI_homebrew_STDV_Top15_highest_STDV.xlsx \n",
      "\n",
      "Writing dataframe to Excel\n",
      "File name => DocketSheet_WordMatches_TopWords_Nograms_CalculationI_homebrew_STDV_Top15_highest_STDV.xlsx\n",
      "Your file has been saved to =>   /home/ccirelli2/Desktop/DocketsheetDistResults \n",
      " \n",
      "\n",
      "Working on key-word appearance for file => TopWords_Bigrams_CalculationIII_Correlation_Coefficient_Top15_highest_COCOEF.xlsx \n",
      "\n",
      "Writing dataframe to Excel\n",
      "File name => DocketSheet_WordMatches_TopWords_Bigrams_CalculationIII_Correlation_Coefficient_Top15_highest_COCOEF.xlsx\n",
      "Your file has been saved to =>   /home/ccirelli2/Desktop/DocketsheetDistResults \n",
      " \n",
      "\n",
      "Working on key-word appearance for file => TopWords_Trigrams_CalculationIII_Correlation_Coefficient_Top15_highest_COCOEF.xlsx \n",
      "\n",
      "Writing dataframe to Excel\n",
      "File name => DocketSheet_WordMatches_TopWords_Trigrams_CalculationIII_Correlation_Coefficient_Top15_highest_COCOEF.xlsx\n",
      "Your file has been saved to =>   /home/ccirelli2/Desktop/DocketsheetDistResults \n",
      " \n",
      "\n"
     ]
    }
   ],
   "source": [
    "get_DocketSheet_KeyWord_Appearance_Master(  \n",
    "                Docketsheet = docketsheet_master_file, \n",
    "                DirNgramLoc = r'/home/ccirelli2/Desktop/KeyWordResults_TestHigher_Num', \n",
    "                Iterable = True,      \n",
    "                Target_file = None,\n",
    "                KeyPhrase = 'Top',      \n",
    "                Destination_location = Write2Location,\n",
    "                Transpose4mlModel = True, \n",
    "                Write2Excel = True)"
   ]
  },
  {
   "cell_type": "code",
   "execution_count": null,
   "metadata": {
    "collapsed": true
   },
   "outputs": [],
   "source": []
  },
  {
   "cell_type": "code",
   "execution_count": null,
   "metadata": {
    "collapsed": true
   },
   "outputs": [],
   "source": []
  },
  {
   "cell_type": "code",
   "execution_count": null,
   "metadata": {
    "collapsed": true
   },
   "outputs": [],
   "source": []
  },
  {
   "cell_type": "code",
   "execution_count": null,
   "metadata": {
    "collapsed": true
   },
   "outputs": [],
   "source": []
  },
  {
   "cell_type": "code",
   "execution_count": null,
   "metadata": {
    "collapsed": true
   },
   "outputs": [],
   "source": []
  },
  {
   "cell_type": "code",
   "execution_count": null,
   "metadata": {
    "collapsed": true
   },
   "outputs": [],
   "source": []
  },
  {
   "cell_type": "code",
   "execution_count": null,
   "metadata": {
    "collapsed": true
   },
   "outputs": [],
   "source": []
  },
  {
   "cell_type": "code",
   "execution_count": null,
   "metadata": {
    "collapsed": true
   },
   "outputs": [],
   "source": []
  },
  {
   "cell_type": "code",
   "execution_count": null,
   "metadata": {
    "collapsed": true
   },
   "outputs": [],
   "source": []
  }
 ],
 "metadata": {
  "kernelspec": {
   "display_name": "Python 3",
   "language": "python",
   "name": "python3"
  },
  "language_info": {
   "codemirror_mode": {
    "name": "ipython",
    "version": 3
   },
   "file_extension": ".py",
   "mimetype": "text/x-python",
   "name": "python",
   "nbconvert_exporter": "python",
   "pygments_lexer": "ipython3",
   "version": "3.6.3"
  }
 },
 "nbformat": 4,
 "nbformat_minor": 2
}
