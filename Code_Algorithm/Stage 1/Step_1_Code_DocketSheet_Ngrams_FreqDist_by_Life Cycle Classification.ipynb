{
 "cells": [
  {
   "cell_type": "code",
   "execution_count": 1,
   "metadata": {},
   "outputs": [
    {
     "data": {
      "text/plain": [
       "\"DOCUMENTATION\\n\\nPurpose:        The purpose of the get_Ngram function is to obtain the Ngram frequency distribution for each of the predefined \\n                stages of the docketseet document. \\n           \\nUser Options    Ngrams:       The user may chose from 4 types of Ngrams 'Nograms', 'Bigrams', 'Trigrams', and 'Quadgrams'. \\n                Calculation:  In addition, the user may chose to calculate the absolute frequency of the Ngram, which is \\n                              the number of times that word appeared in the stage, or, the frequency of the Ngram divided \\n                              by the number of rows in that stage, providing a calculation for how often on average \\n                              the Ngram appears in each row of the stage. \\n\\nOutput:         A dataframe whos index is comprised of the Ngrams, columns the ll stages and content a combination of either\\n                of the two aforementioned user options. \\n\""
      ]
     },
     "execution_count": 1,
     "metadata": {},
     "output_type": "execute_result"
    }
   ],
   "source": [
    "'''DOCUMENTATION\n",
    "\n",
    "Purpose:        The purpose of the get_Ngram function is to obtain the Ngram frequency distribution for each of the predefined \n",
    "                stages of the docketseet document. \n",
    "           \n",
    "User Options    Ngrams:       The user may chose from 4 types of Ngrams 'Nograms', 'Bigrams', 'Trigrams', and 'Quadgrams'. \n",
    "                Calculation:  In addition, the user may chose to calculate the absolute frequency of the Ngram, which is \n",
    "                              the number of times that word appeared in the stage, or, the frequency of the Ngram divided \n",
    "                              by the number of rows in that stage, providing a calculation for how often on average \n",
    "                              the Ngram appears in each row of the stage. \n",
    "\n",
    "Output:         A dataframe whos index is comprised of the Ngrams, columns the ll stages and content a combination of either\n",
    "                of the two aforementioned user options. \n",
    "'''"
   ]
  },
  {
   "cell_type": "code",
   "execution_count": null,
   "metadata": {
    "collapsed": true
   },
   "outputs": [],
   "source": []
  },
  {
   "cell_type": "code",
   "execution_count": 2,
   "metadata": {
    "collapsed": true
   },
   "outputs": [],
   "source": [
    "# IMPORT LIBRARIES"
   ]
  },
  {
   "cell_type": "code",
   "execution_count": 3,
   "metadata": {
    "collapsed": true
   },
   "outputs": [],
   "source": [
    "import os\n",
    "import re\n",
    "import nltk\n",
    "import pandas as pd\n",
    "import string"
   ]
  },
  {
   "cell_type": "code",
   "execution_count": null,
   "metadata": {
    "collapsed": true
   },
   "outputs": [],
   "source": []
  },
  {
   "cell_type": "code",
   "execution_count": 4,
   "metadata": {
    "collapsed": true
   },
   "outputs": [],
   "source": [
    "# IMPORT MODULES"
   ]
  },
  {
   "cell_type": "code",
   "execution_count": 5,
   "metadata": {},
   "outputs": [],
   "source": [
    "os.chdir('/home/ccirelli2/Desktop/Docket-Sheet-Classification-v2/Modules')\n",
    "import Step1_Module_Ngrams_FreqDist_version4_Ngrams as stp1_Ngrams"
   ]
  },
  {
   "cell_type": "code",
   "execution_count": null,
   "metadata": {
    "collapsed": true
   },
   "outputs": [],
   "source": []
  },
  {
   "cell_type": "code",
   "execution_count": 6,
   "metadata": {
    "collapsed": true
   },
   "outputs": [],
   "source": [
    "# IMPORT DOCKET SHEET WITH PRE-CLASSIFIED TIME PERIODS"
   ]
  },
  {
   "cell_type": "code",
   "execution_count": 7,
   "metadata": {},
   "outputs": [
    {
     "name": "stdout",
     "output_type": "stream",
     "text": [
      "Index(['Case Number', 'Activity Date', 'Activity Number', 'docket_text',\n",
      "       'Index ', 'Relevant', 'Time_Period', 'Filler'],\n",
      "      dtype='object')\n"
     ]
    }
   ],
   "source": [
    "Docket_sheet_file = r'/home/ccirelli2/Desktop/Docket-Sheet-Classification-DataFiles/Docketsheet_Data_04_11_18/Preclassified Data/Pre-Classified_TimePeriods.xlsx'\n",
    "df = pd.read_excel(Docket_sheet_file)\n",
    "print(df.columns)"
   ]
  },
  {
   "cell_type": "code",
   "execution_count": null,
   "metadata": {
    "collapsed": true
   },
   "outputs": [],
   "source": []
  },
  {
   "cell_type": "code",
   "execution_count": 8,
   "metadata": {
    "collapsed": true
   },
   "outputs": [],
   "source": [
    "def get_Ngram_freq_dist_by_stage(Docket_sheet, Ngram_type = 'Nograms', \n",
    "                                 Calculation_type = 'Average_appearance', \n",
    "                                To_excel = False, Location = None):\n",
    "    \n",
    "    \n",
    "    \n",
    "    # Import the docketsheet as a dataframe and reshape. \n",
    "    df_Master_DocketSheet_File = stp1_Ngrams.import_docket_sheet_file(Docket_sheet)\n",
    "    \n",
    "    # Create a set object of the different time periods (stages) of the lawsuits. \n",
    "    Stages = set(df_Master_DocketSheet_File['Time_Period'])\n",
    "    \n",
    "    # Create a Dataframe to house our Freq Dist \n",
    "    df_Freq_Dist = ''\n",
    "    \n",
    "    # Iterate over each stage in the Docket_sheet\n",
    "    for stage in Stages:\n",
    "        \n",
    "        # Print Progress\n",
    "        print('Creating the frequency distribution for stage =>', stage, '\\n')\n",
    "                \n",
    "        # Limit the DataFrame by each stage in succession so as to capture only those rows of the docketsheet tha \n",
    "        delimiter = df_Master_DocketSheet_File['Time_Period'] == stage\n",
    "        df_limited = df_Master_DocketSheet_File[delimiter]\n",
    "        \n",
    "        # Dictonary to Capture Ngram Freq by Stage\n",
    "        Ngram_dictionary = {}\n",
    "        \n",
    "        # Count rows to serve as the denominator for our freq dist for each stage. \n",
    "        Count_rows = 0\n",
    "        \n",
    "        # Identify only the text of each row. \n",
    "        for row in df_limited.itertuples():\n",
    "            \n",
    "            # Count rows\n",
    "            Count_rows += 1\n",
    "            \n",
    "            # Get Text\n",
    "            text = row[4]\n",
    "            \n",
    "            # Clean & Tokenize the text\n",
    "            clean_tokenized_text = stp1_Ngrams.clean_andTokenize_text(text)\n",
    "            \n",
    "            # Get Ngrams\n",
    "            Ngrams = stp1_Ngrams.get_Ngrams(clean_tokenized_text, Ngram_type)\n",
    "            \n",
    "            # Loop over Ngrams\n",
    "            for ngram in Ngrams:\n",
    "                Ngram_dictionary[ngram] = Ngram_dictionary.get(ngram, 0) + 1\n",
    "        \n",
    "        # If we have not yet created the Stage 1 frequency distribution\n",
    "        if stage < 2:\n",
    "            # Create dataframe based on the calculation type chosen. \n",
    "            if Calculation_type == 'Average_appearance':\n",
    "                df = pd.DataFrame(Ngram_dictionary, index = [stage]).transpose()\n",
    "                # If average appearance, devide the frequency by the count of rows for the stage in question. \n",
    "                df_avg_appearance = df / Count_rows\n",
    "                df_Freq_Dist = df_avg_appearance\n",
    "            \n",
    "            # If not 'Average appearance, simple use the frequency of the Ngram.  \n",
    "            elif Calculation_type == 'Frequency_distribution':\n",
    "                df_Freq_Dist = pd.DataFrame(Ngram_dictionary, index = [stage]).transpose()\n",
    "                \n",
    "        # If Stage 1 has already been created, then we will want to merge the remainder of the dataframes stages to df1.  \n",
    "        else:\n",
    "            if Calculation_type == 'Average_appearance':\n",
    "                df = pd.DataFrame(Ngram_dictionary, index = [stage]).transpose()\n",
    "                df_avg_appearance = df / Count_rows\n",
    "                df_Freq_Dist = df_Freq_Dist.merge(df_avg_appearance, how = 'outer', left_index = True, right_index = True)\n",
    "            elif Calculation_type == 'Frequency_distribution':\n",
    "                df = pd.DataFrame(Ngram_dictionary, index = [stage]).transpose()\n",
    "                df_Freq_Dist = df_Freq_Dist.merge(df, how = 'outer', left_index = True, right_index = True)\n",
    " \n",
    "    # Transform Dataframe - Create Ngram Column\n",
    "    df_transform = stp1_Ngrams.create_Ngram_column(df_Freq_Dist, Ngram_type)\n",
    "\n",
    "    # Replace Nan values with 0\n",
    "    \n",
    "    df_final = df_transform.fillna(value = 0)\n",
    "    \n",
    "    # Write to Excel\n",
    "    if To_excel == True:\n",
    "        print('Writing dataframe to Excel')\n",
    "        os.chdir(Location)\n",
    "        File_name = str('Docketsheet_FreqDist' + '_' + Ngram_type + '_' + Calculation_type)\n",
    "        stp1_Ngrams.write_to_excel(df_final, Location, File_name)\n",
    "        print('Your file has been saved to:  ', Location)\n",
    "    # Once the list of ngrams is complete, return it to the user.\n",
    "    \n",
    "    return df_final\n",
    "            \n",
    "    "
   ]
  },
  {
   "cell_type": "code",
   "execution_count": 9,
   "metadata": {
    "collapsed": true
   },
   "outputs": [],
   "source": [
    "location = r'/home/ccirelli2/Desktop/Docket-Sheet-Classification-DataFiles/Docketsheet_Data_04_11_18/Ngram_FreqDist_DataFiles'\n"
   ]
  },
  {
   "cell_type": "code",
   "execution_count": 17,
   "metadata": {},
   "outputs": [
    {
     "name": "stdout",
     "output_type": "stream",
     "text": [
      "Creating the frequency distribution for stage => 1 \n",
      "\n",
      "Creating the frequency distribution for stage => 2 \n",
      "\n",
      "Creating the frequency distribution for stage => 3 \n",
      "\n",
      "Creating the frequency distribution for stage => 4 \n",
      "\n",
      "Creating the frequency distribution for stage => 5 \n",
      "\n",
      "Creating the frequency distribution for stage => 6 \n",
      "\n",
      "Creating the frequency distribution for stage => 7 \n",
      "\n",
      "Creating the frequency distribution for stage => 8 \n",
      "\n",
      "Creating the frequency distribution for stage => 9 \n",
      "\n",
      "Creating the frequency distribution for stage => 10 \n",
      "\n",
      "Creating the frequency distribution for stage => 11 \n",
      "\n",
      "Writing dataframe to Excel\n",
      "Your file has been saved to:   /home/ccirelli2/Desktop/Docket-Sheet-Classification-DataFiles/Docketsheet_Data_04_11_18/Ngram_FreqDist_DataFiles\n"
     ]
    }
   ],
   "source": [
    "Ngram_freq_dist = get_Ngram_freq_dist_by_stage(Docket_sheet_file, \n",
    "                                               Ngram_type = 'Quadgrams', \n",
    "                                               #Calculation_type = 'Frequency_distribution', \n",
    "                                               To_excel = True, \n",
    "                                               Location = location)"
   ]
  },
  {
   "cell_type": "code",
   "execution_count": null,
   "metadata": {
    "collapsed": true
   },
   "outputs": [],
   "source": []
  },
  {
   "cell_type": "code",
   "execution_count": null,
   "metadata": {
    "collapsed": true
   },
   "outputs": [],
   "source": []
  },
  {
   "cell_type": "code",
   "execution_count": null,
   "metadata": {
    "collapsed": true
   },
   "outputs": [],
   "source": []
  },
  {
   "cell_type": "code",
   "execution_count": null,
   "metadata": {
    "collapsed": true
   },
   "outputs": [],
   "source": []
  },
  {
   "cell_type": "code",
   "execution_count": null,
   "metadata": {
    "collapsed": true
   },
   "outputs": [],
   "source": []
  },
  {
   "cell_type": "code",
   "execution_count": null,
   "metadata": {
    "collapsed": true
   },
   "outputs": [],
   "source": []
  },
  {
   "cell_type": "code",
   "execution_count": null,
   "metadata": {
    "collapsed": true
   },
   "outputs": [],
   "source": []
  },
  {
   "cell_type": "code",
   "execution_count": null,
   "metadata": {
    "collapsed": true
   },
   "outputs": [],
   "source": []
  },
  {
   "cell_type": "code",
   "execution_count": null,
   "metadata": {
    "collapsed": true
   },
   "outputs": [],
   "source": []
  },
  {
   "cell_type": "code",
   "execution_count": null,
   "metadata": {
    "collapsed": true
   },
   "outputs": [],
   "source": []
  },
  {
   "cell_type": "code",
   "execution_count": null,
   "metadata": {
    "collapsed": true
   },
   "outputs": [],
   "source": []
  },
  {
   "cell_type": "code",
   "execution_count": null,
   "metadata": {
    "collapsed": true
   },
   "outputs": [],
   "source": []
  }
 ],
 "metadata": {
  "kernelspec": {
   "display_name": "Python 3",
   "language": "python",
   "name": "python3"
  },
  "language_info": {
   "codemirror_mode": {
    "name": "ipython",
    "version": 3
   },
   "file_extension": ".py",
   "mimetype": "text/x-python",
   "name": "python",
   "nbconvert_exporter": "python",
   "pygments_lexer": "ipython3",
   "version": "3.6.3"
  }
 },
 "nbformat": 4,
 "nbformat_minor": 2
}
