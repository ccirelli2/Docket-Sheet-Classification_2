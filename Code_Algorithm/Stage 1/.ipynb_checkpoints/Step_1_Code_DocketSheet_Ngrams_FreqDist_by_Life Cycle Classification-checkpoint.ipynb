{
 "cells": [
  {
   "cell_type": "code",
   "execution_count": 1,
   "metadata": {},
   "outputs": [
    {
     "data": {
      "text/plain": [
       "\"DOCUMENTATION\\n\\nPurpose:        The purpose of the get_Ngram function is to obtain the Ngram frequency distribution for each of the predefined \\n                stages of the docketseet document. \\n           \\nUser Options    Ngrams:       The user may chose from 4 types of Ngrams 'Nograms', 'Bigrams', 'Trigrams', and 'Quadgrams'. \\n                Calculation:  In addition, the user may chose to calculate the absolute frequency of the Ngram, which is \\n                              the number of times that word appeared in the stage, or, the frequency of the Ngram divided \\n                              by the number of rows in that stage, providing a calculation for how often on average \\n                              the Ngram appears in each row of the stage. \\n\\nOutput:         A dataframe whos index is comprised of the Ngrams, columns the ll stages and content a combination of either\\n                of the two aforementioned user options. \\n\""
      ]
     },
     "execution_count": 1,
     "metadata": {},
     "output_type": "execute_result"
    }
   ],
   "source": [
    "'''DOCUMENTATION\n",
    "\n",
    "Purpose:        The purpose of the get_Ngram function is to obtain the Ngram frequency distribution for each of the predefined \n",
    "                stages of the docketseet document. \n",
    "           \n",
    "User Options    Ngrams:       The user may chose from 4 types of Ngrams 'Nograms', 'Bigrams', 'Trigrams', and 'Quadgrams'. \n",
    "                Calculation:  In addition, the user may chose to calculate the absolute frequency of the Ngram, which is \n",
    "                              the number of times that word appeared in the stage, or, the frequency of the Ngram divided \n",
    "                              by the number of rows in that stage, providing a calculation for how often on average \n",
    "                              the Ngram appears in each row of the stage. \n",
    "\n",
    "Output:         A dataframe whos index is comprised of the Ngrams, columns the ll stages and content a combination of either\n",
    "                of the two aforementioned user options. \n",
    "'''"
   ]
  },
  {
   "cell_type": "code",
   "execution_count": null,
   "metadata": {
    "collapsed": true
   },
   "outputs": [],
   "source": []
  },
  {
   "cell_type": "code",
   "execution_count": 2,
   "metadata": {
    "collapsed": true
   },
   "outputs": [],
   "source": [
    "# IMPORT LIBRARIES"
   ]
  },
  {
   "cell_type": "code",
   "execution_count": 3,
   "metadata": {
    "collapsed": true
   },
   "outputs": [],
   "source": [
    "import os\n",
    "import re\n",
    "import nltk\n",
    "import pandas as pd\n",
    "import string"
   ]
  },
  {
   "cell_type": "code",
   "execution_count": null,
   "metadata": {
    "collapsed": true
   },
   "outputs": [],
   "source": []
  },
  {
   "cell_type": "code",
   "execution_count": 4,
   "metadata": {
    "collapsed": true
   },
   "outputs": [],
   "source": [
    "# IMPORT MODULES"
   ]
  },
  {
   "cell_type": "code",
   "execution_count": 5,
   "metadata": {},
   "outputs": [],
   "source": [
    "os.chdir('/home/ccirelli2/Desktop/GSU/Docket-Sheet-Classification-v2/Modules')\n",
    "import Step1_Module_Ngrams_FreqDist_version4_Ngrams as stp1_Ngrams"
   ]
  },
  {
   "cell_type": "code",
   "execution_count": null,
   "metadata": {
    "collapsed": true
   },
   "outputs": [],
   "source": []
  },
  {
   "cell_type": "code",
   "execution_count": 6,
   "metadata": {
    "collapsed": true
   },
   "outputs": [],
   "source": [
    "# IMPORT DOCKET SHEET WITH PRE-CLASSIFIED TIME PERIODS"
   ]
  },
  {
   "cell_type": "code",
   "execution_count": 7,
   "metadata": {},
   "outputs": [
    {
     "name": "stdout",
     "output_type": "stream",
     "text": [
      "Index(['Case Number', 'Activity Date', 'Activity Number', 'docket_text',\n",
      "       'Index ', 'Relevant', 'Time_Period', 'Filler'],\n",
      "      dtype='object')\n"
     ]
    }
   ],
   "source": [
    "Docket_sheet_file = r'/home/ccirelli2/Desktop/GSU/Docket-Sheet-Classification-v2/Docket_Sheet_Classification_DataFiles_Stage2/Docket_Sheet_Entries/Pre-Classified_TimePeriods.xlsx'\n",
    "df = pd.read_excel(Docket_sheet_file)\n",
    "print(df.columns)"
   ]
  },
  {
   "cell_type": "code",
   "execution_count": 8,
   "metadata": {
    "collapsed": true
   },
   "outputs": [],
   "source": [
    "# Docket_sheet_text_limited = []\n",
    "# for row in df.itertuples():\n",
    "#     Docket_sheet_text_limited.append(row[4][:40])\n",
    "# df['docket_text'] = Docket_sheet_text_limited\n",
    "\n",
    "# Target_loc = r'/home/ccirelli2/Desktop/GSU/Docket-Sheet-Classification-v2/Docket_Sheet_Classification_DataFiles_Stage2/Docket_Sheet_Entries'\n",
    "# stp1_Ngrams.write_to_excel(df, Target_loc, 'Docket_sheet_entries_limited')"
   ]
  },
  {
   "cell_type": "code",
   "execution_count": 9,
   "metadata": {
    "collapsed": true
   },
   "outputs": [],
   "source": [
    "Docket_sheet_file_limited = r'/home/ccirelli2/Desktop/GSU/Docket-Sheet-Classification-v2/Docket_Sheet_Classification_DataFiles_Stage2/Docket_Sheet_Entries/Docket_sheet_entries_limited.xlsx'"
   ]
  },
  {
   "cell_type": "code",
   "execution_count": 10,
   "metadata": {
    "collapsed": true
   },
   "outputs": [],
   "source": [
    "def get_Ngram_freq_dist_by_stage(Docket_sheet, Ngram_type, \n",
    "                                 Calculation_type, \n",
    "                                To_excel, Location):\n",
    "    \n",
    "    \n",
    "    \n",
    "    # Import the docketsheet as a dataframe and reshape. \n",
    "    df_Master_DocketSheet_File = stp1_Ngrams.import_docket_sheet_file(Docket_sheet)\n",
    "    \n",
    "    # Create a set object of the different time periods (stages) of the lawsuits. \n",
    "    Stages = set(df_Master_DocketSheet_File['Time_Period'])\n",
    "    \n",
    "    # Create a Dataframe to house our Freq Dist \n",
    "    df_Freq_Dist = ''\n",
    "    \n",
    "    # Iterate over each stage in the Docket_sheet\n",
    "    for stage in Stages:\n",
    "        \n",
    "        # Print Progress\n",
    "        print('Creating the frequency distribution for stage =>', stage, '\\n')\n",
    "                \n",
    "        # Limit the DataFrame by each stage in succession so as to capture only those rows of the docketsheet tha \n",
    "        delimiter = df_Master_DocketSheet_File['Time_Period'] == stage\n",
    "        df_limited = df_Master_DocketSheet_File[delimiter]\n",
    "        \n",
    "        # Dictonary to Capture Ngram Freq by Stage\n",
    "        Ngram_dictionary = {}\n",
    "        \n",
    "        # Count rows to serve as the denominator for our freq dist for each stage. \n",
    "        Count_rows = 0\n",
    "        \n",
    "        # Identify only the text of each row. \n",
    "        for row in df_limited.itertuples():\n",
    "            \n",
    "            # Count rows\n",
    "            Count_rows += 1\n",
    "            \n",
    "            # Get Text\n",
    "            text = row[4]\n",
    "            \n",
    "            # Clean & Tokenize the text\n",
    "            clean_tokenized_text = stp1_Ngrams.clean_andTokenize_text(text)\n",
    "            \n",
    "            # Get Ngrams\n",
    "            Ngrams = stp1_Ngrams.get_Ngrams(clean_tokenized_text, Ngram_type)\n",
    "            \n",
    "            # Loop over Ngrams\n",
    "            for ngram in Ngrams:\n",
    "                Ngram_dictionary[ngram] = Ngram_dictionary.get(ngram, 0) + 1\n",
    "        \n",
    "        # If we have yet to create the Stage 1 frequency distribution\n",
    "        if stage < 2:\n",
    "            # Create dataframe based on the calculation type chosen. \n",
    "            if Calculation_type == 'Average_appearance':\n",
    "                df = pd.DataFrame(Ngram_dictionary, index = [stage]).transpose()\n",
    "                # If average appearance, divide the frequency by the count of rows for the stage in question. \n",
    "                df_avg_appearance = df / Count_rows\n",
    "                df_Freq_Dist = df_avg_appearance\n",
    "            \n",
    "            # If not 'Average appearance, simple use the frequency of the Ngram.  \n",
    "            elif Calculation_type == 'Frequency_distribution':\n",
    "                df_Freq_Dist = pd.DataFrame(Ngram_dictionary, index = [stage]).transpose()\n",
    "                \n",
    "        # If Stage 1 has already been created, then we will want to merge the remainder of the dataframes stages to df1.  \n",
    "        else:\n",
    "            if Calculation_type == 'Average_appearance':\n",
    "                df = pd.DataFrame(Ngram_dictionary, index = [stage]).transpose()\n",
    "                df_avg_appearance = df / Count_rows\n",
    "                df_Freq_Dist = df_Freq_Dist.merge(df_avg_appearance, how = 'outer', left_index = True, right_index = True)\n",
    "            elif Calculation_type == 'Frequency_distribution':\n",
    "                df = pd.DataFrame(Ngram_dictionary, index = [stage]).transpose()\n",
    "                df_Freq_Dist = df_Freq_Dist.merge(df, how = 'outer', left_index = True, right_index = True)\n",
    " \n",
    "    # Transform Dataframe - Create Ngram Column\n",
    "    df_transform = stp1_Ngrams.create_Ngram_column(df_Freq_Dist, Ngram_type)\n",
    "\n",
    "    # Replace Nan values with 0\n",
    "    \n",
    "    df_final = df_transform.fillna(value = 0)\n",
    "    \n",
    "    # Write to Excel\n",
    "    if To_excel == True:\n",
    "        print('Writing dataframe to Excel')\n",
    "        os.chdir(Location)\n",
    "        File_name = str('Docketsheet_FreqDist' + '_' + Ngram_type + '_' + Calculation_type)\n",
    "        stp1_Ngrams.write_to_excel(df_final, Location, File_name)\n",
    "        print('Your file has been saved to:  ', Location)\n",
    "    # Once the list of ngrams is complete, return it to the user.\n",
    "    \n",
    "    return df_final\n",
    "            \n",
    "    "
   ]
  },
  {
   "cell_type": "code",
   "execution_count": 11,
   "metadata": {
    "collapsed": true
   },
   "outputs": [],
   "source": [
    "location = r'/home/ccirelli2/Desktop/GSU/Docket-Sheet-Classification-v2/Docket_Sheet_Classification_DataFiles_Stage2/Ngram_Frequencies'"
   ]
  },
  {
   "cell_type": "code",
   "execution_count": 12,
   "metadata": {
    "collapsed": true
   },
   "outputs": [],
   "source": [
    "Ngram_options = ['Nograms', 'Bigrams', 'Trigrams', 'Quadgrams']\n",
    "Calculation_types = ['Frequency_distribution', 'Average_appearance']"
   ]
  },
  {
   "cell_type": "code",
   "execution_count": 13,
   "metadata": {},
   "outputs": [
    {
     "name": "stdout",
     "output_type": "stream",
     "text": [
      "Creating the frequency distribution for stage => 1 \n",
      "\n",
      "Creating the frequency distribution for stage => 2 \n",
      "\n",
      "Creating the frequency distribution for stage => 3 \n",
      "\n",
      "Creating the frequency distribution for stage => 4 \n",
      "\n",
      "Creating the frequency distribution for stage => 5 \n",
      "\n",
      "Creating the frequency distribution for stage => 6 \n",
      "\n",
      "Creating the frequency distribution for stage => 7 \n",
      "\n",
      "Creating the frequency distribution for stage => 8 \n",
      "\n",
      "Creating the frequency distribution for stage => 9 \n",
      "\n",
      "Creating the frequency distribution for stage => 10 \n",
      "\n",
      "Creating the frequency distribution for stage => 11 \n",
      "\n",
      "Writing dataframe to Excel\n",
      "Your file has been saved to:   /home/ccirelli2/Desktop/GSU/Docket-Sheet-Classification-v2/Docket_Sheet_Classification_DataFiles_Stage2/Ngram_Frequencies\n",
      "Creating the frequency distribution for stage => 1 \n",
      "\n",
      "Creating the frequency distribution for stage => 2 \n",
      "\n",
      "Creating the frequency distribution for stage => 3 \n",
      "\n",
      "Creating the frequency distribution for stage => 4 \n",
      "\n",
      "Creating the frequency distribution for stage => 5 \n",
      "\n",
      "Creating the frequency distribution for stage => 6 \n",
      "\n",
      "Creating the frequency distribution for stage => 7 \n",
      "\n",
      "Creating the frequency distribution for stage => 8 \n",
      "\n",
      "Creating the frequency distribution for stage => 9 \n",
      "\n",
      "Creating the frequency distribution for stage => 10 \n",
      "\n",
      "Creating the frequency distribution for stage => 11 \n",
      "\n",
      "Writing dataframe to Excel\n",
      "Your file has been saved to:   /home/ccirelli2/Desktop/GSU/Docket-Sheet-Classification-v2/Docket_Sheet_Classification_DataFiles_Stage2/Ngram_Frequencies\n",
      "Creating the frequency distribution for stage => 1 \n",
      "\n",
      "Creating the frequency distribution for stage => 2 \n",
      "\n",
      "Creating the frequency distribution for stage => 3 \n",
      "\n",
      "Creating the frequency distribution for stage => 4 \n",
      "\n",
      "Creating the frequency distribution for stage => 5 \n",
      "\n",
      "Creating the frequency distribution for stage => 6 \n",
      "\n",
      "Creating the frequency distribution for stage => 7 \n",
      "\n",
      "Creating the frequency distribution for stage => 8 \n",
      "\n",
      "Creating the frequency distribution for stage => 9 \n",
      "\n",
      "Creating the frequency distribution for stage => 10 \n",
      "\n",
      "Creating the frequency distribution for stage => 11 \n",
      "\n",
      "Writing dataframe to Excel\n",
      "Your file has been saved to:   /home/ccirelli2/Desktop/GSU/Docket-Sheet-Classification-v2/Docket_Sheet_Classification_DataFiles_Stage2/Ngram_Frequencies\n",
      "Creating the frequency distribution for stage => 1 \n",
      "\n",
      "Creating the frequency distribution for stage => 2 \n",
      "\n",
      "Creating the frequency distribution for stage => 3 \n",
      "\n",
      "Creating the frequency distribution for stage => 4 \n",
      "\n",
      "Creating the frequency distribution for stage => 5 \n",
      "\n",
      "Creating the frequency distribution for stage => 6 \n",
      "\n",
      "Creating the frequency distribution for stage => 7 \n",
      "\n",
      "Creating the frequency distribution for stage => 8 \n",
      "\n",
      "Creating the frequency distribution for stage => 9 \n",
      "\n",
      "Creating the frequency distribution for stage => 10 \n",
      "\n",
      "Creating the frequency distribution for stage => 11 \n",
      "\n",
      "Writing dataframe to Excel\n",
      "Your file has been saved to:   /home/ccirelli2/Desktop/GSU/Docket-Sheet-Classification-v2/Docket_Sheet_Classification_DataFiles_Stage2/Ngram_Frequencies\n",
      "Creating the frequency distribution for stage => 1 \n",
      "\n",
      "Creating the frequency distribution for stage => 2 \n",
      "\n",
      "Creating the frequency distribution for stage => 3 \n",
      "\n",
      "Creating the frequency distribution for stage => 4 \n",
      "\n",
      "Creating the frequency distribution for stage => 5 \n",
      "\n",
      "Creating the frequency distribution for stage => 6 \n",
      "\n",
      "Creating the frequency distribution for stage => 7 \n",
      "\n",
      "Creating the frequency distribution for stage => 8 \n",
      "\n",
      "Creating the frequency distribution for stage => 9 \n",
      "\n",
      "Creating the frequency distribution for stage => 10 \n",
      "\n",
      "Creating the frequency distribution for stage => 11 \n",
      "\n",
      "Writing dataframe to Excel\n",
      "Your file has been saved to:   /home/ccirelli2/Desktop/GSU/Docket-Sheet-Classification-v2/Docket_Sheet_Classification_DataFiles_Stage2/Ngram_Frequencies\n",
      "Creating the frequency distribution for stage => 1 \n",
      "\n",
      "Creating the frequency distribution for stage => 2 \n",
      "\n",
      "Creating the frequency distribution for stage => 3 \n",
      "\n",
      "Creating the frequency distribution for stage => 4 \n",
      "\n",
      "Creating the frequency distribution for stage => 5 \n",
      "\n",
      "Creating the frequency distribution for stage => 6 \n",
      "\n",
      "Creating the frequency distribution for stage => 7 \n",
      "\n",
      "Creating the frequency distribution for stage => 8 \n",
      "\n",
      "Creating the frequency distribution for stage => 9 \n",
      "\n",
      "Creating the frequency distribution for stage => 10 \n",
      "\n",
      "Creating the frequency distribution for stage => 11 \n",
      "\n",
      "Writing dataframe to Excel\n",
      "Your file has been saved to:   /home/ccirelli2/Desktop/GSU/Docket-Sheet-Classification-v2/Docket_Sheet_Classification_DataFiles_Stage2/Ngram_Frequencies\n",
      "Creating the frequency distribution for stage => 1 \n",
      "\n",
      "Creating the frequency distribution for stage => 2 \n",
      "\n",
      "Creating the frequency distribution for stage => 3 \n",
      "\n",
      "Creating the frequency distribution for stage => 4 \n",
      "\n",
      "Creating the frequency distribution for stage => 5 \n",
      "\n",
      "Creating the frequency distribution for stage => 6 \n",
      "\n",
      "Creating the frequency distribution for stage => 7 \n",
      "\n",
      "Creating the frequency distribution for stage => 8 \n",
      "\n",
      "Creating the frequency distribution for stage => 9 \n",
      "\n",
      "Creating the frequency distribution for stage => 10 \n",
      "\n",
      "Creating the frequency distribution for stage => 11 \n",
      "\n",
      "Writing dataframe to Excel\n"
     ]
    },
    {
     "ename": "KeyboardInterrupt",
     "evalue": "",
     "output_type": "error",
     "traceback": [
      "\u001b[0;31m---------------------------------------------------------------------------\u001b[0m",
      "\u001b[0;31mKeyboardInterrupt\u001b[0m                         Traceback (most recent call last)",
      "\u001b[0;32m<ipython-input-13-06da4bc1bd7c>\u001b[0m in \u001b[0;36m<module>\u001b[0;34m()\u001b[0m\n\u001b[1;32m      5\u001b[0m                                                \u001b[0mCalculation_type\u001b[0m \u001b[0;34m=\u001b[0m \u001b[0mCalc_type\u001b[0m\u001b[0;34m,\u001b[0m\u001b[0;34m\u001b[0m\u001b[0m\n\u001b[1;32m      6\u001b[0m                                                \u001b[0mTo_excel\u001b[0m \u001b[0;34m=\u001b[0m \u001b[0;32mTrue\u001b[0m\u001b[0;34m,\u001b[0m\u001b[0;34m\u001b[0m\u001b[0m\n\u001b[0;32m----> 7\u001b[0;31m                                                Location = location)\n\u001b[0m",
      "\u001b[0;32m<ipython-input-10-1ec452c022d2>\u001b[0m in \u001b[0;36mget_Ngram_freq_dist_by_stage\u001b[0;34m(Docket_sheet, Ngram_type, Calculation_type, To_excel, Location)\u001b[0m\n\u001b[1;32m     84\u001b[0m         \u001b[0mos\u001b[0m\u001b[0;34m.\u001b[0m\u001b[0mchdir\u001b[0m\u001b[0;34m(\u001b[0m\u001b[0mLocation\u001b[0m\u001b[0;34m)\u001b[0m\u001b[0;34m\u001b[0m\u001b[0m\n\u001b[1;32m     85\u001b[0m         \u001b[0mFile_name\u001b[0m \u001b[0;34m=\u001b[0m \u001b[0mstr\u001b[0m\u001b[0;34m(\u001b[0m\u001b[0;34m'Docketsheet_FreqDist'\u001b[0m \u001b[0;34m+\u001b[0m \u001b[0;34m'_'\u001b[0m \u001b[0;34m+\u001b[0m \u001b[0mNgram_type\u001b[0m \u001b[0;34m+\u001b[0m \u001b[0;34m'_'\u001b[0m \u001b[0;34m+\u001b[0m \u001b[0mCalculation_type\u001b[0m\u001b[0;34m)\u001b[0m\u001b[0;34m\u001b[0m\u001b[0m\n\u001b[0;32m---> 86\u001b[0;31m         \u001b[0mstp1_Ngrams\u001b[0m\u001b[0;34m.\u001b[0m\u001b[0mwrite_to_excel\u001b[0m\u001b[0;34m(\u001b[0m\u001b[0mdf_final\u001b[0m\u001b[0;34m,\u001b[0m \u001b[0mLocation\u001b[0m\u001b[0;34m,\u001b[0m \u001b[0mFile_name\u001b[0m\u001b[0;34m)\u001b[0m\u001b[0;34m\u001b[0m\u001b[0m\n\u001b[0m\u001b[1;32m     87\u001b[0m         \u001b[0mprint\u001b[0m\u001b[0;34m(\u001b[0m\u001b[0;34m'Your file has been saved to:  '\u001b[0m\u001b[0;34m,\u001b[0m \u001b[0mLocation\u001b[0m\u001b[0;34m)\u001b[0m\u001b[0;34m\u001b[0m\u001b[0m\n\u001b[1;32m     88\u001b[0m     \u001b[0;31m# Once the list of ngrams is complete, return it to the user.\u001b[0m\u001b[0;34m\u001b[0m\u001b[0;34m\u001b[0m\u001b[0m\n",
      "\u001b[0;32m~/Desktop/GSU/Docket-Sheet-Classification-v2/Modules/Step1_Module_Ngrams_FreqDist_version4_Ngrams.py\u001b[0m in \u001b[0;36mwrite_to_excel\u001b[0;34m(dataframe, location, filename)\u001b[0m\n\u001b[1;32m    365\u001b[0m     \u001b[0mwriter\u001b[0m\u001b[0;34m.\u001b[0m\u001b[0msave\u001b[0m\u001b[0;34m(\u001b[0m\u001b[0;34m)\u001b[0m\u001b[0;34m\u001b[0m\u001b[0m\n\u001b[1;32m    366\u001b[0m \u001b[0;34m\u001b[0m\u001b[0m\n\u001b[0;32m--> 367\u001b[0;31m \u001b[0;34m\u001b[0m\u001b[0m\n\u001b[0m\u001b[1;32m    368\u001b[0m \u001b[0;34m\u001b[0m\u001b[0m\n\u001b[1;32m    369\u001b[0m \u001b[0;34m\u001b[0m\u001b[0m\n",
      "\u001b[0;32m~/anaconda3/lib/python3.6/site-packages/pandas/core/frame.py\u001b[0m in \u001b[0;36mto_excel\u001b[0;34m(self, excel_writer, sheet_name, na_rep, float_format, columns, header, index, index_label, startrow, startcol, engine, merge_cells, encoding, inf_rep, verbose, freeze_panes)\u001b[0m\n\u001b[1;32m   1422\u001b[0m         formatter.write(excel_writer, sheet_name=sheet_name, startrow=startrow,\n\u001b[1;32m   1423\u001b[0m                         \u001b[0mstartcol\u001b[0m\u001b[0;34m=\u001b[0m\u001b[0mstartcol\u001b[0m\u001b[0;34m,\u001b[0m \u001b[0mfreeze_panes\u001b[0m\u001b[0;34m=\u001b[0m\u001b[0mfreeze_panes\u001b[0m\u001b[0;34m,\u001b[0m\u001b[0;34m\u001b[0m\u001b[0m\n\u001b[0;32m-> 1424\u001b[0;31m                         engine=engine)\n\u001b[0m\u001b[1;32m   1425\u001b[0m \u001b[0;34m\u001b[0m\u001b[0m\n\u001b[1;32m   1426\u001b[0m     def to_stata(self, fname, convert_dates=None, write_index=True,\n",
      "\u001b[0;32m~/anaconda3/lib/python3.6/site-packages/pandas/io/formats/excel.py\u001b[0m in \u001b[0;36mwrite\u001b[0;34m(self, writer, sheet_name, startrow, startcol, freeze_panes, engine)\u001b[0m\n\u001b[1;32m    626\u001b[0m         writer.write_cells(formatted_cells, sheet_name,\n\u001b[1;32m    627\u001b[0m                            \u001b[0mstartrow\u001b[0m\u001b[0;34m=\u001b[0m\u001b[0mstartrow\u001b[0m\u001b[0;34m,\u001b[0m \u001b[0mstartcol\u001b[0m\u001b[0;34m=\u001b[0m\u001b[0mstartcol\u001b[0m\u001b[0;34m,\u001b[0m\u001b[0;34m\u001b[0m\u001b[0m\n\u001b[0;32m--> 628\u001b[0;31m                            freeze_panes=freeze_panes)\n\u001b[0m\u001b[1;32m    629\u001b[0m         \u001b[0;32mif\u001b[0m \u001b[0mneed_save\u001b[0m\u001b[0;34m:\u001b[0m\u001b[0;34m\u001b[0m\u001b[0m\n\u001b[1;32m    630\u001b[0m             \u001b[0mwriter\u001b[0m\u001b[0;34m.\u001b[0m\u001b[0msave\u001b[0m\u001b[0;34m(\u001b[0m\u001b[0;34m)\u001b[0m\u001b[0;34m\u001b[0m\u001b[0m\n",
      "\u001b[0;32m~/anaconda3/lib/python3.6/site-packages/pandas/io/excel.py\u001b[0m in \u001b[0;36mwrite_cells\u001b[0;34m(self, cells, sheet_name, startrow, startcol, freeze_panes)\u001b[0m\n\u001b[1;32m   1570\u001b[0m             \u001b[0mwks\u001b[0m\u001b[0;34m.\u001b[0m\u001b[0mfreeze_panes\u001b[0m\u001b[0;34m(\u001b[0m\u001b[0;34m*\u001b[0m\u001b[0;34m(\u001b[0m\u001b[0mfreeze_panes\u001b[0m\u001b[0;34m)\u001b[0m\u001b[0;34m)\u001b[0m\u001b[0;34m\u001b[0m\u001b[0m\n\u001b[1;32m   1571\u001b[0m \u001b[0;34m\u001b[0m\u001b[0m\n\u001b[0;32m-> 1572\u001b[0;31m         \u001b[0;32mfor\u001b[0m \u001b[0mcell\u001b[0m \u001b[0;32min\u001b[0m \u001b[0mcells\u001b[0m\u001b[0;34m:\u001b[0m\u001b[0;34m\u001b[0m\u001b[0m\n\u001b[0m\u001b[1;32m   1573\u001b[0m             \u001b[0mval\u001b[0m \u001b[0;34m=\u001b[0m \u001b[0m_conv_value\u001b[0m\u001b[0;34m(\u001b[0m\u001b[0mcell\u001b[0m\u001b[0;34m.\u001b[0m\u001b[0mval\u001b[0m\u001b[0;34m)\u001b[0m\u001b[0;34m\u001b[0m\u001b[0m\n\u001b[1;32m   1574\u001b[0m \u001b[0;34m\u001b[0m\u001b[0m\n",
      "\u001b[0;32m~/anaconda3/lib/python3.6/site-packages/pandas/io/formats/excel.py\u001b[0m in \u001b[0;36mget_formatted_cells\u001b[0;34m(self)\u001b[0m\n\u001b[1;32m    596\u001b[0m                                     self._format_body()):\n\u001b[1;32m    597\u001b[0m             \u001b[0mcell\u001b[0m\u001b[0;34m.\u001b[0m\u001b[0mval\u001b[0m \u001b[0;34m=\u001b[0m \u001b[0mself\u001b[0m\u001b[0;34m.\u001b[0m\u001b[0m_format_value\u001b[0m\u001b[0;34m(\u001b[0m\u001b[0mcell\u001b[0m\u001b[0;34m.\u001b[0m\u001b[0mval\u001b[0m\u001b[0;34m)\u001b[0m\u001b[0;34m\u001b[0m\u001b[0m\n\u001b[0;32m--> 598\u001b[0;31m             \u001b[0;32myield\u001b[0m \u001b[0mcell\u001b[0m\u001b[0;34m\u001b[0m\u001b[0m\n\u001b[0m\u001b[1;32m    599\u001b[0m \u001b[0;34m\u001b[0m\u001b[0m\n\u001b[1;32m    600\u001b[0m     def write(self, writer, sheet_name='Sheet1', startrow=0,\n",
      "\u001b[0;31mKeyboardInterrupt\u001b[0m: "
     ]
    }
   ],
   "source": [
    "for Ngram_type in Ngram_options:\n",
    "    for Calc_type in Calculation_types:\n",
    "        get_Ngram_freq_dist_by_stage(Docket_sheet_file, \n",
    "                                               Ngram_type = Ngram_type, \n",
    "                                               Calculation_type = Calc_type, \n",
    "                                               To_excel = True, \n",
    "                                               Location = location)"
   ]
  },
  {
   "cell_type": "code",
   "execution_count": null,
   "metadata": {
    "collapsed": true
   },
   "outputs": [],
   "source": [
    "\n"
   ]
  },
  {
   "cell_type": "code",
   "execution_count": null,
   "metadata": {
    "collapsed": true
   },
   "outputs": [],
   "source": []
  },
  {
   "cell_type": "code",
   "execution_count": null,
   "metadata": {
    "collapsed": true
   },
   "outputs": [],
   "source": []
  },
  {
   "cell_type": "code",
   "execution_count": null,
   "metadata": {
    "collapsed": true
   },
   "outputs": [],
   "source": []
  },
  {
   "cell_type": "code",
   "execution_count": null,
   "metadata": {
    "collapsed": true
   },
   "outputs": [],
   "source": []
  },
  {
   "cell_type": "code",
   "execution_count": null,
   "metadata": {
    "collapsed": true
   },
   "outputs": [],
   "source": []
  },
  {
   "cell_type": "code",
   "execution_count": null,
   "metadata": {
    "collapsed": true
   },
   "outputs": [],
   "source": []
  },
  {
   "cell_type": "code",
   "execution_count": null,
   "metadata": {
    "collapsed": true
   },
   "outputs": [],
   "source": []
  },
  {
   "cell_type": "code",
   "execution_count": null,
   "metadata": {
    "collapsed": true
   },
   "outputs": [],
   "source": []
  },
  {
   "cell_type": "code",
   "execution_count": null,
   "metadata": {
    "collapsed": true
   },
   "outputs": [],
   "source": []
  },
  {
   "cell_type": "code",
   "execution_count": null,
   "metadata": {
    "collapsed": true
   },
   "outputs": [],
   "source": []
  },
  {
   "cell_type": "code",
   "execution_count": null,
   "metadata": {
    "collapsed": true
   },
   "outputs": [],
   "source": []
  }
 ],
 "metadata": {
  "kernelspec": {
   "display_name": "Python 3",
   "language": "python",
   "name": "python3"
  },
  "language_info": {
   "codemirror_mode": {
    "name": "ipython",
    "version": 3
   },
   "file_extension": ".py",
   "mimetype": "text/x-python",
   "name": "python",
   "nbconvert_exporter": "python",
   "pygments_lexer": "ipython3",
   "version": "3.6.3"
  }
 },
 "nbformat": 4,
 "nbformat_minor": 2
}
