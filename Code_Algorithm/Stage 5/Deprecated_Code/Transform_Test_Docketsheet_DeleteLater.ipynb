{
 "cells": [
  {
   "cell_type": "code",
   "execution_count": 3,
   "metadata": {
    "collapsed": true
   },
   "outputs": [],
   "source": [
    "# IMPORT PACKAGES"
   ]
  },
  {
   "cell_type": "code",
   "execution_count": 2,
   "metadata": {
    "collapsed": true
   },
   "outputs": [],
   "source": [
    "import os \n",
    "import pandas as pd"
   ]
  },
  {
   "cell_type": "code",
   "execution_count": null,
   "metadata": {
    "collapsed": true
   },
   "outputs": [],
   "source": [
    "# IMPORT MODULES"
   ]
  },
  {
   "cell_type": "code",
   "execution_count": null,
   "metadata": {
    "collapsed": true
   },
   "outputs": [],
   "source": [
    "# CHANGE DIRECTORY & IMPORT FILES"
   ]
  },
  {
   "cell_type": "code",
   "execution_count": 4,
   "metadata": {
    "collapsed": true
   },
   "outputs": [],
   "source": [
    "os.chdir(r'/home/ccirelli2/Desktop/Docket-Sheet-Classification/Data_Files_applicable_all_code')"
   ]
  },
  {
   "cell_type": "code",
   "execution_count": 5,
   "metadata": {},
   "outputs": [],
   "source": [
    "File = 'Master_Docket_sheets.xlsx'\n",
    "df_master = pd.read_excel(File)\n"
   ]
  },
  {
   "cell_type": "code",
   "execution_count": null,
   "metadata": {},
   "outputs": [],
   "source": []
  },
  {
   "cell_type": "code",
   "execution_count": null,
   "metadata": {
    "collapsed": true
   },
   "outputs": [],
   "source": [
    "# TRANSFORMATION FUNCTION"
   ]
  },
  {
   "cell_type": "code",
   "execution_count": 7,
   "metadata": {
    "collapsed": true
   },
   "outputs": [],
   "source": [
    "\n",
    "# IMPORT TARGET FILE / DELIMIT ROWS / REMOVE ROWS PERIOD = NONE\n",
    "\n",
    "def format_docket_sheet_file(Excel_file, Write2Excel, destination_location):\n",
    "    \n",
    "    '''Documentation\n",
    "    Purpose:        The purpose of this code is to transform the columns/rows of the test and training Docketsheets\n",
    "                    to a uniform structure prior to their being fed into the model.  \n",
    "    Operations:     i.) Conditional statement to determine which of the files is input, \n",
    "                    ii.) Drop irrelevant columns, iii.) Add missing columns, iv.) Remove rows with zero text.                 \n",
    "    Input:          Either the training or test docket-sheet Excel file. \n",
    "    Output:         A dataframe formated for use for Step3 of the algorithm. \n",
    "    '''\n",
    "      \n",
    "    df_docketsheet = pd.read_excel(Excel_file)  \n",
    "    # If the length of the docketsheet is less than 2000, then we know it is our training dock. \n",
    "    if len(df_docketsheet) < 3000:\n",
    "        # Limit Columns\n",
    "        # Amended on 03.28.2018: Changed from dataframe to reading a file. \n",
    "        df_docket_sheets_fit = df_docketsheet.iloc[:,0:-1]\n",
    "        # Select rows != None\n",
    "        TimePeriod_notNone = df_docket_sheets_fit['Time Period'] > 0\n",
    "        # Return dataframe\n",
    "        return df_docket_sheets_fit[TimePeriod_notNone]\n",
    "    # Otherwise, it is our testing doc as it contains more than 20,000 rows. \n",
    "    else: \n",
    "        # Remove from dataframe rows == None\n",
    "        delimiter = [row for row in df_docketsheet['docket_text'] if isinstance(row, str)]\n",
    "        df_limited = df_docketsheet[delimiter]\n",
    "                \n",
    "        # Drop Irrelevant Columns\n",
    "        df_dropcols = df_limited.drop(['document_try_flag', 'document_flag', 'document_link', \n",
    "                                  'document_text', 'state', 'district', 'row_number'], axis = 1)\n",
    "        # Add missing columns present in the original docketsheet\n",
    "        df_dropcols['Index'] = [x for x in range(0,len(df_limited))]\n",
    "        df_dropcols['Relevant'] = [x for x in range(0,len(df_limited))]\n",
    "        df_dropcols['Time Period'] = [x for x in range(0,len(df_limited))]\n",
    "        df_dropcols['Unnamed'] = [x for x in range(0,len(df_limited))]\n",
    "           \n",
    "    # Write to Excel\n",
    "    if Write2Excel == True:\n",
    "        print('Writing dataframe to Excel')\n",
    "        os.chdir(destination_location)\n",
    "        File_name = 'Master_Docketsheet_transformed'\n",
    "        print('File name => ' + File_name)\n",
    "        write_to_excel(df_dropcols, destination_location, File_name)\n",
    "        print('Your file has been saved to =>  ', destination_location, '\\n', '\\n')\n",
    "        # Otherwise, return the dataframe to the user.    \n",
    "    else:\n",
    "        return df_dropcols\n",
    "        \n",
    "    "
   ]
  },
  {
   "cell_type": "code",
   "execution_count": 21,
   "metadata": {
    "collapsed": true
   },
   "outputs": [],
   "source": []
  },
  {
   "cell_type": "code",
   "execution_count": null,
   "metadata": {
    "collapsed": true
   },
   "outputs": [],
   "source": [
    "Transform_docketsheet = format_docket_sheet_file(Excel_file = File, \n",
    "                                                 Write2Excel = True, \n",
    "                                                 destination_location)"
   ]
  },
  {
   "cell_type": "code",
   "execution_count": null,
   "metadata": {
    "collapsed": true
   },
   "outputs": [],
   "source": []
  },
  {
   "cell_type": "code",
   "execution_count": null,
   "metadata": {
    "collapsed": true
   },
   "outputs": [],
   "source": []
  },
  {
   "cell_type": "code",
   "execution_count": null,
   "metadata": {
    "collapsed": true
   },
   "outputs": [],
   "source": []
  },
  {
   "cell_type": "code",
   "execution_count": null,
   "metadata": {
    "collapsed": true
   },
   "outputs": [],
   "source": []
  },
  {
   "cell_type": "code",
   "execution_count": null,
   "metadata": {
    "collapsed": true
   },
   "outputs": [],
   "source": []
  },
  {
   "cell_type": "code",
   "execution_count": null,
   "metadata": {
    "collapsed": true
   },
   "outputs": [],
   "source": []
  },
  {
   "cell_type": "code",
   "execution_count": null,
   "metadata": {
    "collapsed": true
   },
   "outputs": [],
   "source": []
  },
  {
   "cell_type": "code",
   "execution_count": null,
   "metadata": {
    "collapsed": true
   },
   "outputs": [],
   "source": []
  },
  {
   "cell_type": "code",
   "execution_count": null,
   "metadata": {
    "collapsed": true
   },
   "outputs": [],
   "source": []
  },
  {
   "cell_type": "code",
   "execution_count": null,
   "metadata": {
    "collapsed": true
   },
   "outputs": [],
   "source": []
  }
 ],
 "metadata": {
  "kernelspec": {
   "display_name": "Python 3",
   "language": "python",
   "name": "python3"
  },
  "language_info": {
   "codemirror_mode": {
    "name": "ipython",
    "version": 3
   },
   "file_extension": ".py",
   "mimetype": "text/x-python",
   "name": "python",
   "nbconvert_exporter": "python",
   "pygments_lexer": "ipython3",
   "version": "3.6.3"
  }
 },
 "nbformat": 4,
 "nbformat_minor": 2
}
