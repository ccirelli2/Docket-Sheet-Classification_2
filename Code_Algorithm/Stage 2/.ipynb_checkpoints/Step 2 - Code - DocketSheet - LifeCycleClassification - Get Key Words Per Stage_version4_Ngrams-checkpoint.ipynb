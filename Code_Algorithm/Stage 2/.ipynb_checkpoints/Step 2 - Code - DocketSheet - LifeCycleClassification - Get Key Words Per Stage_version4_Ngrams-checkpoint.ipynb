{
 "cells": [
  {
   "cell_type": "code",
   "execution_count": null,
   "metadata": {
    "collapsed": true
   },
   "outputs": [],
   "source": []
  },
  {
   "cell_type": "code",
   "execution_count": 1,
   "metadata": {
    "collapsed": true
   },
   "outputs": [],
   "source": [
    "# IMPORT LIBRARIES"
   ]
  },
  {
   "cell_type": "code",
   "execution_count": 2,
   "metadata": {
    "collapsed": true
   },
   "outputs": [],
   "source": [
    "import pandas as pd\n",
    "import os"
   ]
  },
  {
   "cell_type": "code",
   "execution_count": 3,
   "metadata": {
    "collapsed": true
   },
   "outputs": [],
   "source": [
    "# IMPORT MODULES"
   ]
  },
  {
   "cell_type": "code",
   "execution_count": 4,
   "metadata": {
    "collapsed": true
   },
   "outputs": [],
   "source": [
    "os.chdir('/home/ccirelli2/Desktop/Docket-Sheet-Classification/Modules')\n",
    "\n",
    "import Step1_Module_Ngrams_FreqDist_version4_Ngrams as stp1_Ngram_FD\n",
    "# Module to Calculate Measurements of Central Tendancy\n",
    "import Step2_P1_Module_Calculations_Central_Tendancy_version4_Ngrams as stp2_cal_CT\n",
    "# Module to Calculate Top Words\n",
    "import Step2_P2_Module_Get_Top_Words_version4_Ngrams as stp2_get_words"
   ]
  },
  {
   "cell_type": "code",
   "execution_count": 5,
   "metadata": {
    "collapsed": true
   },
   "outputs": [],
   "source": [
    "# IMPORT FREQ DISTRIBUTION FILES FOR EACH NGRAM TYPE"
   ]
  },
  {
   "cell_type": "code",
   "execution_count": null,
   "metadata": {
    "collapsed": true
   },
   "outputs": [],
   "source": []
  },
  {
   "cell_type": "code",
   "execution_count": 7,
   "metadata": {},
   "outputs": [],
   "source": [
    "os.chdir(r'/home/ccirelli2/Desktop/Docket-Sheet-Classification/All_Results/Result_Ngrams')\n",
    "Nograms = pd.read_excel(r'Docketsheet_FreqDist_Nograms_Average_appearance.xlsx')\n",
    "Bigrams = pd.read_excel(r'Docketsheet_FreqDist_Bigrams_Average_appearance.xlsx')\n",
    "Trigrams = pd.read_excel(r'Docketsheet_FreqDist_Trigrams_Average_appearance.xlsx')\n",
    "Quadgrams = pd.read_excel(r'Docketsheet_FreqDist_Quadgrams_Average_appearance.xlsx')"
   ]
  },
  {
   "cell_type": "code",
   "execution_count": null,
   "metadata": {
    "collapsed": true
   },
   "outputs": [],
   "source": [
    "# RUN FUNCTION TO GET TOP WORDS"
   ]
  },
  {
   "cell_type": "code",
   "execution_count": 8,
   "metadata": {
    "collapsed": true
   },
   "outputs": [],
   "source": [
    "def get_top_words_toggle_methodology(dataframe_freq_distribution, methodology_CT, \n",
    "                                     methodology_top_words, write2excel = False, \n",
    "                                     destination_location = None, \n",
    "                                     Ngram_type = 'Missing_Ngram_type'):\n",
    "    '''\n",
    "    INPUTS:\n",
    "                    a.) dataframe_freq_distribution = The pandas dataframe that represents the freq dist\n",
    "                        created for each of our 4 ngram types (No, Bi, Tri and Quadgrams)\n",
    "                    d.) Methodology_CT = type of calculation to be performed (see options below)\n",
    "                    c.) Methodology_top_words = type of methodology to be performed (see options below)\n",
    "                    d.) Destination_location = destination to write the file. \n",
    "                    e.) Ngram_type = Type of Ngram we are dealing with. \n",
    "    \n",
    "    FUNCTION_I:     Methodology_CT - Calculation of Central Tendencys\n",
    "        Input       a.) The dataframe containing the word frequency distributions. b.) One of the below cal methodologies. sza\n",
    "        Options     'CalculationI_homebrew_STDV', \n",
    "                    'CalculationII_AVG_not_zero', \n",
    "                    'CalculationIII_Correlation_Coefficient'\n",
    "    \n",
    "    FUNCTION_II:    Methodology - Top Words\n",
    "        Input       a.) The dataframe containing the word frequency distribution, b.) One of the below methodologies, \n",
    "                    c.) The stage, which is defined within this namespace. \n",
    "        Options     'Top15_highest_STDV', \n",
    "                    'Top15_highest_COCOEF', \n",
    "                    'Top5_highest_STDV_lowest_AVG', \n",
    "                    'Top5_highest_STDV_AVG_below_20prct', \n",
    "                    'Top5_lowest_STDV_highest_AVG', \n",
    "                    'Top5_lowest_COCOEF_highest_AVG'\n",
    "    '''\n",
    "\n",
    "    \n",
    "    # Rename Col[0] of our dataframe to 'Ngrams', which is the column that contains our tuples\n",
    "    df_rename_cols = dataframe_freq_distribution.rename(index = str, columns = {0: 'Ngrams'})  \n",
    "       \n",
    "    # Create a new dataframe to capture the top words and set the index to 0-15.  \n",
    "    # This is the dataframe that will be returned to our user. \n",
    "    df_top_words = pd.DataFrame({}, index = [x for x in range(0,15)])\n",
    "    \n",
    "    # Reset df_rename_cols to just the columns 0-12\n",
    "    if len(df_rename_cols.columns) > 12:                                            # changed from 11 to 12\n",
    "        df_rename_cols = df_rename_cols.iloc[:, 0:12]                               # changed from [:, 0:12] to [:, 0:12]\n",
    "        \n",
    "    # Create an object to keep count of our Life Cycle Stage\n",
    "    Stage = ''\n",
    "\n",
    "    # Instead of using the column names to keep count of our position in the code, we use a range function.\n",
    "    # this is the value to which 100 will be added in the below loop before we sort our columns. \n",
    "    for num in range(1,13):                                                         # No change.  We ony want to rotate\n",
    "                                                                                    # the cols containing stages\n",
    "               \n",
    "        # Loop Starts at Life Cycle 1.  Set Condition that when it reaches 11 it stops. \n",
    "        if df_rename_cols.columns[1] != 101:                                       # Changed from column[0] to column[1]\n",
    "            \n",
    "            # Stage\n",
    "            Stage = df_rename_cols.columns[1]                                      # changed to columns[1], which is stage 1\n",
    "            \n",
    "            # Calculate Measures of Central Tendancy\n",
    "            df_with_measures_of_CT = stp2_cal_CT.get_Measurements_CentralTendancy(df_rename_cols, \n",
    "                                                                                  methodology_CT)\n",
    "            # Get Top Words\n",
    "            Top_words_all_calc = stp2_get_words.get_top_words(df_with_measures_of_CT, \n",
    "                                                              methodology_top_words, \n",
    "                                                              Stage)\n",
    "            \n",
    "            # Create a String of the current column name\n",
    "            Col_name = str(Top_words_all_calc.columns[1])                          # Changed to column[1] from [0]\n",
    "            \n",
    "            # Capture all rows (top words) and only the target column of the dataframe. \n",
    "            Top_words_target_stage = Top_words_all_calc.iloc[:,0]                  # Changed to iloc[:,1] from [:,0]\n",
    "\n",
    "            # Append to our dataframe that will be returned to the user the top 5 words for each Life Cycle Stage.  \n",
    "            df_top_words[Col_name] = Top_words_target_stage\n",
    "            \n",
    "            # Reset df_rename_cols to just the columns 0-11\n",
    "            if len(df_rename_cols.columns) > 12:                                   # Changed to 12 from 11\n",
    "                df_rename_cols = df_rename_cols.iloc[:, 0:12]                      # Changed to [:,0:12] from [:,0:11]\n",
    "            \n",
    "            # Rename the first column to = num + 100.  Num = Original Col1 at each iteration.\n",
    "            df_col_increased_by100 = df_rename_cols.rename(index = str, columns = {num: num+100})\n",
    "            \n",
    "            # With the first column renamed, sort ascending, * but only on a slice of the dataframe that\n",
    "            # containts our stages.  \n",
    "            df_rotate = df_col_increased_by100.iloc[:,1:12].sort_index(ascending = True, axis = 1)  # Changed to add a slicer\n",
    "                                                                                             # so as to only sort the \n",
    "                                                                                             # columns containing stages. \n",
    "                                                                                             # Not sure if this will work. \n",
    "            # Re-insert our Ngram column into the dataframe at position 0. \n",
    "            df_rotate.insert(loc = 0, column = 'Ngrams', value = df_rename_cols['Ngrams'])\n",
    "            # Rename or sorted dataframe to df_rename_cols, which will be entered into our function at the start of the loop. \n",
    "            df_rename_cols = df_rotate\n",
    "    \n",
    "    # Write to Excel\n",
    "    if write2excel == True:\n",
    "        print('Writing dataframe to Excel')\n",
    "        os.chdir(destination_location)\n",
    "        File_name = 'TopWords' + '_' + str(Ngram_type) + '_' + methodology_CT + '_' + methodology_top_words\n",
    "        print('File name => ' + File_name)\n",
    "        stp1_Ngram_FD.write_to_excel(df_top_words, destination_location, File_name)\n",
    "        print('Your file has been saved to:  ', destination_location, '\\n')\n",
    "    # Once the list of ngrams is complete, return it to the user.\n",
    "    \n",
    "    return df_top_words\n",
    "            \n",
    "            "
   ]
  },
  {
   "cell_type": "code",
   "execution_count": 10,
   "metadata": {
    "collapsed": true
   },
   "outputs": [],
   "source": [
    "Location = r'/home/ccirelli2/Desktop'"
   ]
  },
  {
   "cell_type": "code",
   "execution_count": 10,
   "metadata": {
    "collapsed": true
   },
   "outputs": [],
   "source": [
    "# Run for a single Calculation & Methodology"
   ]
  },
  {
   "cell_type": "code",
   "execution_count": 11,
   "metadata": {},
   "outputs": [
    {
     "name": "stdout",
     "output_type": "stream",
     "text": [
      "Writing dataframe to Excel\n",
      "File name => TopWords_Quadgrams_CalculationII_AVG_not_zero_Top15_highest_STDV\n",
      "Your file has been saved to:   /home/ccirelli2/Desktop \n",
      "\n"
     ]
    }
   ],
   "source": [
    "df_with_measures_CT = get_top_words_toggle_methodology(dataframe_freq_distribution = Quadgrams, \n",
    "                                                       methodology_CT = 'CalculationII_AVG_not_zero', \n",
    "                                                       methodology_top_words = 'Top15_highest_STDV', \n",
    "                                                       write2excel = True, \n",
    "                                                       destination_location = Location, \n",
    "                                                       Ngram_type = 'Quadgrams')"
   ]
  },
  {
   "cell_type": "code",
   "execution_count": null,
   "metadata": {
    "collapsed": true
   },
   "outputs": [],
   "source": []
  },
  {
   "cell_type": "code",
   "execution_count": null,
   "metadata": {
    "collapsed": true
   },
   "outputs": [],
   "source": []
  },
  {
   "cell_type": "code",
   "execution_count": 11,
   "metadata": {
    "collapsed": true
   },
   "outputs": [],
   "source": [
    "# LISTS OF OPTIONS PERTAINING TO STDV"
   ]
  },
  {
   "cell_type": "code",
   "execution_count": 12,
   "metadata": {
    "collapsed": true
   },
   "outputs": [],
   "source": [
    "Ngrams = [(Nograms,'Nograms'), (Bigrams, 'Bigrams'), (Trigrams,'Trigrams'), (Quadgrams, 'Quadgrams')]\n",
    "Calculations_STDV = ['CalculationI_homebrew_STDV', 'CalculationII_AVG_not_zero']\n",
    "Methodologies_STDV = ['Top15_highest_STDV', 'Top5_highest_STDV_lowest_AVG', 'Top5_highest_STDV_AVG_below_20prct', \n",
    "                      'Top5_lowest_STDV_highest_AVG']\n",
    "Location = r'/home/ccirelli2/Desktop/Docket-Sheet-Classification/Result_Ngrams'"
   ]
  },
  {
   "cell_type": "code",
   "execution_count": null,
   "metadata": {
    "collapsed": true
   },
   "outputs": [],
   "source": []
  },
  {
   "cell_type": "code",
   "execution_count": 13,
   "metadata": {
    "collapsed": true
   },
   "outputs": [],
   "source": [
    "# RUN CODE OVER ALL OPTIONS"
   ]
  },
  {
   "cell_type": "code",
   "execution_count": 14,
   "metadata": {},
   "outputs": [
    {
     "name": "stdout",
     "output_type": "stream",
     "text": [
      "Writing dataframe to Excel\n",
      "File name => TopWords_Nograms_CalculationI_homebrew_STDV_Top15_highest_STDV \n",
      "\n",
      "Your file has been saved to:   /home/ccirelli2/Desktop/Docket-Sheet-Classification/Result_Ngrams\n",
      "Writing dataframe to Excel\n",
      "File name => TopWords_Nograms_CalculationI_homebrew_STDV_Top5_highest_STDV_lowest_AVG \n",
      "\n",
      "Your file has been saved to:   /home/ccirelli2/Desktop/Docket-Sheet-Classification/Result_Ngrams\n",
      "Writing dataframe to Excel\n",
      "File name => TopWords_Nograms_CalculationI_homebrew_STDV_Top5_highest_STDV_AVG_below_20prct \n",
      "\n",
      "Your file has been saved to:   /home/ccirelli2/Desktop/Docket-Sheet-Classification/Result_Ngrams\n",
      "Writing dataframe to Excel\n",
      "File name => TopWords_Nograms_CalculationI_homebrew_STDV_Top5_lowest_STDV_highest_AVG \n",
      "\n",
      "Your file has been saved to:   /home/ccirelli2/Desktop/Docket-Sheet-Classification/Result_Ngrams\n",
      "Writing dataframe to Excel\n",
      "File name => TopWords_Nograms_CalculationII_AVG_not_zero_Top15_highest_STDV \n",
      "\n",
      "Your file has been saved to:   /home/ccirelli2/Desktop/Docket-Sheet-Classification/Result_Ngrams\n",
      "Writing dataframe to Excel\n",
      "File name => TopWords_Nograms_CalculationII_AVG_not_zero_Top5_highest_STDV_lowest_AVG \n",
      "\n",
      "Your file has been saved to:   /home/ccirelli2/Desktop/Docket-Sheet-Classification/Result_Ngrams\n",
      "Writing dataframe to Excel\n",
      "File name => TopWords_Nograms_CalculationII_AVG_not_zero_Top5_highest_STDV_AVG_below_20prct \n",
      "\n",
      "Your file has been saved to:   /home/ccirelli2/Desktop/Docket-Sheet-Classification/Result_Ngrams\n",
      "Writing dataframe to Excel\n",
      "File name => TopWords_Nograms_CalculationII_AVG_not_zero_Top5_lowest_STDV_highest_AVG \n",
      "\n",
      "Your file has been saved to:   /home/ccirelli2/Desktop/Docket-Sheet-Classification/Result_Ngrams\n",
      "Writing dataframe to Excel\n",
      "File name => TopWords_Bigrams_CalculationI_homebrew_STDV_Top15_highest_STDV \n",
      "\n",
      "Your file has been saved to:   /home/ccirelli2/Desktop/Docket-Sheet-Classification/Result_Ngrams\n",
      "Writing dataframe to Excel\n",
      "File name => TopWords_Bigrams_CalculationI_homebrew_STDV_Top5_highest_STDV_lowest_AVG \n",
      "\n",
      "Your file has been saved to:   /home/ccirelli2/Desktop/Docket-Sheet-Classification/Result_Ngrams\n",
      "Writing dataframe to Excel\n",
      "File name => TopWords_Bigrams_CalculationI_homebrew_STDV_Top5_highest_STDV_AVG_below_20prct \n",
      "\n",
      "Your file has been saved to:   /home/ccirelli2/Desktop/Docket-Sheet-Classification/Result_Ngrams\n",
      "Writing dataframe to Excel\n",
      "File name => TopWords_Bigrams_CalculationI_homebrew_STDV_Top5_lowest_STDV_highest_AVG \n",
      "\n",
      "Your file has been saved to:   /home/ccirelli2/Desktop/Docket-Sheet-Classification/Result_Ngrams\n",
      "Writing dataframe to Excel\n",
      "File name => TopWords_Bigrams_CalculationII_AVG_not_zero_Top15_highest_STDV \n",
      "\n",
      "Your file has been saved to:   /home/ccirelli2/Desktop/Docket-Sheet-Classification/Result_Ngrams\n",
      "Writing dataframe to Excel\n",
      "File name => TopWords_Bigrams_CalculationII_AVG_not_zero_Top5_highest_STDV_lowest_AVG \n",
      "\n",
      "Your file has been saved to:   /home/ccirelli2/Desktop/Docket-Sheet-Classification/Result_Ngrams\n",
      "Writing dataframe to Excel\n",
      "File name => TopWords_Bigrams_CalculationII_AVG_not_zero_Top5_highest_STDV_AVG_below_20prct \n",
      "\n",
      "Your file has been saved to:   /home/ccirelli2/Desktop/Docket-Sheet-Classification/Result_Ngrams\n",
      "Writing dataframe to Excel\n",
      "File name => TopWords_Bigrams_CalculationII_AVG_not_zero_Top5_lowest_STDV_highest_AVG \n",
      "\n",
      "Your file has been saved to:   /home/ccirelli2/Desktop/Docket-Sheet-Classification/Result_Ngrams\n",
      "Writing dataframe to Excel\n",
      "File name => TopWords_Trigrams_CalculationI_homebrew_STDV_Top15_highest_STDV \n",
      "\n",
      "Your file has been saved to:   /home/ccirelli2/Desktop/Docket-Sheet-Classification/Result_Ngrams\n",
      "Writing dataframe to Excel\n",
      "File name => TopWords_Trigrams_CalculationI_homebrew_STDV_Top5_highest_STDV_lowest_AVG \n",
      "\n",
      "Your file has been saved to:   /home/ccirelli2/Desktop/Docket-Sheet-Classification/Result_Ngrams\n",
      "Writing dataframe to Excel\n",
      "File name => TopWords_Trigrams_CalculationI_homebrew_STDV_Top5_highest_STDV_AVG_below_20prct \n",
      "\n",
      "Your file has been saved to:   /home/ccirelli2/Desktop/Docket-Sheet-Classification/Result_Ngrams\n",
      "Writing dataframe to Excel\n",
      "File name => TopWords_Trigrams_CalculationI_homebrew_STDV_Top5_lowest_STDV_highest_AVG \n",
      "\n",
      "Your file has been saved to:   /home/ccirelli2/Desktop/Docket-Sheet-Classification/Result_Ngrams\n",
      "Writing dataframe to Excel\n",
      "File name => TopWords_Trigrams_CalculationII_AVG_not_zero_Top15_highest_STDV \n",
      "\n",
      "Your file has been saved to:   /home/ccirelli2/Desktop/Docket-Sheet-Classification/Result_Ngrams\n",
      "Writing dataframe to Excel\n",
      "File name => TopWords_Trigrams_CalculationII_AVG_not_zero_Top5_highest_STDV_lowest_AVG \n",
      "\n",
      "Your file has been saved to:   /home/ccirelli2/Desktop/Docket-Sheet-Classification/Result_Ngrams\n",
      "Writing dataframe to Excel\n",
      "File name => TopWords_Trigrams_CalculationII_AVG_not_zero_Top5_highest_STDV_AVG_below_20prct \n",
      "\n",
      "Your file has been saved to:   /home/ccirelli2/Desktop/Docket-Sheet-Classification/Result_Ngrams\n",
      "Writing dataframe to Excel\n",
      "File name => TopWords_Trigrams_CalculationII_AVG_not_zero_Top5_lowest_STDV_highest_AVG \n",
      "\n",
      "Your file has been saved to:   /home/ccirelli2/Desktop/Docket-Sheet-Classification/Result_Ngrams\n",
      "Writing dataframe to Excel\n",
      "File name => TopWords_Quadgrams_CalculationI_homebrew_STDV_Top15_highest_STDV \n",
      "\n",
      "Your file has been saved to:   /home/ccirelli2/Desktop/Docket-Sheet-Classification/Result_Ngrams\n",
      "Writing dataframe to Excel\n",
      "File name => TopWords_Quadgrams_CalculationI_homebrew_STDV_Top5_highest_STDV_lowest_AVG \n",
      "\n",
      "Your file has been saved to:   /home/ccirelli2/Desktop/Docket-Sheet-Classification/Result_Ngrams\n",
      "Writing dataframe to Excel\n",
      "File name => TopWords_Quadgrams_CalculationI_homebrew_STDV_Top5_highest_STDV_AVG_below_20prct \n",
      "\n",
      "Your file has been saved to:   /home/ccirelli2/Desktop/Docket-Sheet-Classification/Result_Ngrams\n",
      "Writing dataframe to Excel\n",
      "File name => TopWords_Quadgrams_CalculationI_homebrew_STDV_Top5_lowest_STDV_highest_AVG \n",
      "\n",
      "Your file has been saved to:   /home/ccirelli2/Desktop/Docket-Sheet-Classification/Result_Ngrams\n",
      "Writing dataframe to Excel\n",
      "File name => TopWords_Quadgrams_CalculationII_AVG_not_zero_Top15_highest_STDV \n",
      "\n",
      "Your file has been saved to:   /home/ccirelli2/Desktop/Docket-Sheet-Classification/Result_Ngrams\n",
      "Writing dataframe to Excel\n",
      "File name => TopWords_Quadgrams_CalculationII_AVG_not_zero_Top5_highest_STDV_lowest_AVG \n",
      "\n",
      "Your file has been saved to:   /home/ccirelli2/Desktop/Docket-Sheet-Classification/Result_Ngrams\n",
      "Writing dataframe to Excel\n",
      "File name => TopWords_Quadgrams_CalculationII_AVG_not_zero_Top5_highest_STDV_AVG_below_20prct \n",
      "\n",
      "Your file has been saved to:   /home/ccirelli2/Desktop/Docket-Sheet-Classification/Result_Ngrams\n",
      "Writing dataframe to Excel\n",
      "File name => TopWords_Quadgrams_CalculationII_AVG_not_zero_Top5_lowest_STDV_highest_AVG \n",
      "\n",
      "Your file has been saved to:   /home/ccirelli2/Desktop/Docket-Sheet-Classification/Result_Ngrams\n"
     ]
    }
   ],
   "source": [
    "for Ngram_type in Ngrams:\n",
    "    for Calc in Calculations_STDV:\n",
    "        for Meth in Methodologies_STDV:\n",
    "            df_with_measures_CT = get_top_words_toggle_methodology(dataframe_freq_distribution = Ngram_type[0], \n",
    "                                                       methodology_CT = Calc, \n",
    "                                                       methodology_top_words = Meth, \n",
    "                                                       write2excel = True, \n",
    "                                                       destination_location = Location, \n",
    "                                                       Ngram_type = Ngram_type[1])\n"
   ]
  },
  {
   "cell_type": "code",
   "execution_count": 15,
   "metadata": {
    "collapsed": true
   },
   "outputs": [],
   "source": [
    "# OPTIONS PERTAINING TO COCOEF (SEPARATED AS THE CALCULATION CAN ONLY BE #3)"
   ]
  },
  {
   "cell_type": "code",
   "execution_count": 16,
   "metadata": {
    "collapsed": true
   },
   "outputs": [],
   "source": [
    "Ngrams = [(Nograms,'Nograms'), (Bigrams, 'Bigrams'), (Trigrams,'Trigrams'), (Quadgrams, 'Quadgrams')]\n",
    "Calculations_STDV = ['CalculationIII_Correlation_Coefficient']\n",
    "Methodologies_STDV = ['Top15_highest_COCOEF', 'Top5_lowest_COCOEF_highest_AVG']"
   ]
  },
  {
   "cell_type": "code",
   "execution_count": 17,
   "metadata": {
    "collapsed": true
   },
   "outputs": [],
   "source": [
    "# RUN CODE OVER ALL OPTIONS"
   ]
  },
  {
   "cell_type": "code",
   "execution_count": 18,
   "metadata": {},
   "outputs": [
    {
     "name": "stdout",
     "output_type": "stream",
     "text": [
      "Writing dataframe to Excel\n",
      "File name => TopWords_Nograms_CalculationIII_Correlation_Coefficient_Top15_highest_COCOEF \n",
      "\n",
      "Your file has been saved to:   /home/ccirelli2/Desktop/Docket-Sheet-Classification/Result_Ngrams\n",
      "Writing dataframe to Excel\n",
      "File name => TopWords_Nograms_CalculationIII_Correlation_Coefficient_Top5_lowest_COCOEF_highest_AVG \n",
      "\n",
      "Your file has been saved to:   /home/ccirelli2/Desktop/Docket-Sheet-Classification/Result_Ngrams\n",
      "Writing dataframe to Excel\n",
      "File name => TopWords_Bigrams_CalculationIII_Correlation_Coefficient_Top15_highest_COCOEF \n",
      "\n",
      "Your file has been saved to:   /home/ccirelli2/Desktop/Docket-Sheet-Classification/Result_Ngrams\n",
      "Writing dataframe to Excel\n",
      "File name => TopWords_Bigrams_CalculationIII_Correlation_Coefficient_Top5_lowest_COCOEF_highest_AVG \n",
      "\n",
      "Your file has been saved to:   /home/ccirelli2/Desktop/Docket-Sheet-Classification/Result_Ngrams\n",
      "Writing dataframe to Excel\n",
      "File name => TopWords_Trigrams_CalculationIII_Correlation_Coefficient_Top15_highest_COCOEF \n",
      "\n",
      "Your file has been saved to:   /home/ccirelli2/Desktop/Docket-Sheet-Classification/Result_Ngrams\n",
      "Writing dataframe to Excel\n",
      "File name => TopWords_Trigrams_CalculationIII_Correlation_Coefficient_Top5_lowest_COCOEF_highest_AVG \n",
      "\n",
      "Your file has been saved to:   /home/ccirelli2/Desktop/Docket-Sheet-Classification/Result_Ngrams\n",
      "Writing dataframe to Excel\n",
      "File name => TopWords_Quadgrams_CalculationIII_Correlation_Coefficient_Top15_highest_COCOEF \n",
      "\n",
      "Your file has been saved to:   /home/ccirelli2/Desktop/Docket-Sheet-Classification/Result_Ngrams\n",
      "Writing dataframe to Excel\n",
      "File name => TopWords_Quadgrams_CalculationIII_Correlation_Coefficient_Top5_lowest_COCOEF_highest_AVG \n",
      "\n",
      "Your file has been saved to:   /home/ccirelli2/Desktop/Docket-Sheet-Classification/Result_Ngrams\n"
     ]
    }
   ],
   "source": [
    "for Ngram_type in Ngrams:\n",
    "    for Calc in Calculations_STDV:\n",
    "        for Meth in Methodologies_STDV:\n",
    "            df_with_measures_CT = get_top_words_toggle_methodology(dataframe_freq_distribution = Ngram_type[0], \n",
    "                                                       methodology_CT = Calc, \n",
    "                                                       methodology_top_words = Meth, \n",
    "                                                       write2excel = True, \n",
    "                                                       destination_location = Location, \n",
    "                                                       Ngram_type = Ngram_type[1])"
   ]
  },
  {
   "cell_type": "code",
   "execution_count": null,
   "metadata": {
    "collapsed": true
   },
   "outputs": [],
   "source": []
  },
  {
   "cell_type": "code",
   "execution_count": null,
   "metadata": {
    "collapsed": true
   },
   "outputs": [],
   "source": []
  },
  {
   "cell_type": "code",
   "execution_count": null,
   "metadata": {
    "collapsed": true
   },
   "outputs": [],
   "source": []
  },
  {
   "cell_type": "code",
   "execution_count": null,
   "metadata": {
    "collapsed": true
   },
   "outputs": [],
   "source": []
  },
  {
   "cell_type": "code",
   "execution_count": null,
   "metadata": {
    "collapsed": true
   },
   "outputs": [],
   "source": []
  },
  {
   "cell_type": "code",
   "execution_count": null,
   "metadata": {
    "collapsed": true
   },
   "outputs": [],
   "source": [
    "# CREATE A LIST OF A SINGLE SET OF THE KEY WORDS"
   ]
  },
  {
   "cell_type": "code",
   "execution_count": null,
   "metadata": {
    "collapsed": true
   },
   "outputs": [],
   "source": [
    "def get_key_word_set(key_word_dataframe):\n",
    "    key_word_list = []\n",
    "    for x in key_word_dataframe:\n",
    "        word_list = list(key_word_dataframe[x])\n",
    "        [key_word_list.append(x) for x in word_list]\n",
    "    \n",
    "    key_word_set = list(set(key_word_list))\n",
    "    \n",
    "    df = pd.DataFrame(key_word_set)\n",
    "\n",
    "    return df"
   ]
  },
  {
   "cell_type": "code",
   "execution_count": null,
   "metadata": {
    "collapsed": true
   },
   "outputs": [],
   "source": [
    "key_word_set = get_key_word_set(df)"
   ]
  },
  {
   "cell_type": "code",
   "execution_count": null,
   "metadata": {
    "collapsed": true
   },
   "outputs": [],
   "source": [
    "st1.write_to_excel(key_word_set, 'Key_word_set_4_algorithm_input_03.11.2018_v3')"
   ]
  },
  {
   "cell_type": "code",
   "execution_count": null,
   "metadata": {
    "collapsed": true
   },
   "outputs": [],
   "source": []
  },
  {
   "cell_type": "code",
   "execution_count": null,
   "metadata": {
    "collapsed": true
   },
   "outputs": [],
   "source": []
  },
  {
   "cell_type": "code",
   "execution_count": null,
   "metadata": {
    "collapsed": true
   },
   "outputs": [],
   "source": []
  },
  {
   "cell_type": "code",
   "execution_count": null,
   "metadata": {
    "collapsed": true
   },
   "outputs": [],
   "source": []
  }
 ],
 "metadata": {
  "kernelspec": {
   "display_name": "Python 3",
   "language": "python",
   "name": "python3"
  },
  "language_info": {
   "codemirror_mode": {
    "name": "ipython",
    "version": 3
   },
   "file_extension": ".py",
   "mimetype": "text/x-python",
   "name": "python",
   "nbconvert_exporter": "python",
   "pygments_lexer": "ipython3",
   "version": "3.6.3"
  }
 },
 "nbformat": 4,
 "nbformat_minor": 2
}
