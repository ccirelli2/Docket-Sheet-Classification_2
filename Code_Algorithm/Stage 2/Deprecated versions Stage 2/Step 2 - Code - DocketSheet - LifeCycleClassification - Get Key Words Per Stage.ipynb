{
 "cells": [
  {
   "cell_type": "code",
   "execution_count": null,
   "metadata": {},
   "outputs": [],
   "source": []
  },
  {
   "cell_type": "code",
   "execution_count": null,
   "metadata": {},
   "outputs": [],
   "source": [
    "# IMPORT LIBRARIES"
   ]
  },
  {
   "cell_type": "code",
   "execution_count": 4,
   "metadata": {},
   "outputs": [],
   "source": [
    "import pandas as pd\n",
    "import os"
   ]
  },
  {
   "cell_type": "code",
   "execution_count": 3,
   "metadata": {},
   "outputs": [
    {
     "ename": "NameError",
     "evalue": "name 'os' is not defined",
     "output_type": "error",
     "traceback": [
      "\u001b[1;31m---------------------------------------------------------------------------\u001b[0m",
      "\u001b[1;31mNameError\u001b[0m                                 Traceback (most recent call last)",
      "\u001b[1;32m<ipython-input-3-cda6700ea305>\u001b[0m in \u001b[0;36m<module>\u001b[1;34m()\u001b[0m\n\u001b[1;32m----> 1\u001b[1;33m \u001b[0mos\u001b[0m\u001b[1;33m.\u001b[0m\u001b[0mchdir\u001b[0m\u001b[1;33m(\u001b[0m\u001b[1;34mr'C:\\\\Users\\\\Chris.Cirelli\\\\Desktop\\\\Python Programming Docs\\\\GSU\\\\Sprint Project\\\\Docket-Sheet-Classification\\\\Modules'\u001b[0m\u001b[1;33m)\u001b[0m\u001b[1;33m\u001b[0m\u001b[0m\n\u001b[0m",
      "\u001b[1;31mNameError\u001b[0m: name 'os' is not defined"
     ]
    }
   ],
   "source": [
    "os.chdir(r'C:\\\\Users\\\\Chris.Cirelli\\\\Desktop\\\\Python Programming Docs\\\\GSU\\\\Sprint Project\\\\Docket-Sheet-Classification\\\\Modules')"
   ]
  },
  {
   "cell_type": "code",
   "execution_count": null,
   "metadata": {},
   "outputs": [],
   "source": []
  },
  {
   "cell_type": "code",
   "execution_count": null,
   "metadata": {},
   "outputs": [],
   "source": [
    "# IMPORT FREQUENCY DISTRIBUTION EXCEL FILE AS DATAFRAME"
   ]
  },
  {
   "cell_type": "code",
   "execution_count": 1,
   "metadata": {},
   "outputs": [
    {
     "ename": "NameError",
     "evalue": "name 'pd' is not defined",
     "output_type": "error",
     "traceback": [
      "\u001b[1;31m---------------------------------------------------------------------------\u001b[0m",
      "\u001b[1;31mNameError\u001b[0m                                 Traceback (most recent call last)",
      "\u001b[1;32m<ipython-input-1-83800a357650>\u001b[0m in \u001b[0;36m<module>\u001b[1;34m()\u001b[0m\n\u001b[1;32m----> 1\u001b[1;33m \u001b[0mdf_freqDist\u001b[0m \u001b[1;33m=\u001b[0m \u001b[0mpd\u001b[0m\u001b[1;33m.\u001b[0m\u001b[0mread_excel\u001b[0m\u001b[1;33m(\u001b[0m\u001b[1;34mr'C:\\Users\\Chris.Cirelli\\Desktop\\Python Programming Docs\\GSU\\Sprint Project\\Docket-Sheet-Classification\\Result_Files_Key_Word_Attempt_2\\DocketSheet_wordSet_Freq_Dist_v4_03.11.2018.xlsx'\u001b[0m\u001b[1;33m)\u001b[0m\u001b[1;33m\u001b[0m\u001b[0m\n\u001b[0m",
      "\u001b[1;31mNameError\u001b[0m: name 'pd' is not defined"
     ]
    }
   ],
   "source": [
    "df_freqDist = pd.read_excel(r'C:\\Users\\Chris.Cirelli\\Desktop\\Python Programming Docs\\GSU\\Sprint Project\\Docket-Sheet-Classification\\Result_Files_Key_Word_Attempt_2\\DocketSheet_wordSet_Freq_Dist_v4_03.11.2018.xlsx')"
   ]
  },
  {
   "cell_type": "code",
   "execution_count": null,
   "metadata": {},
   "outputs": [],
   "source": []
  },
  {
   "cell_type": "code",
   "execution_count": null,
   "metadata": {},
   "outputs": [],
   "source": [
    "# GET WORDS WITH HIGHEST STDV FOR EACH LIFE CYCLE STAGE"
   ]
  },
  {
   "cell_type": "code",
   "execution_count": 160,
   "metadata": {},
   "outputs": [],
   "source": [
    "def get_top5words_highestSTDV_each_LCstage(df_freqDist):\n",
    "    '''The purpose of this function is to return a dataframe for each Life Cycle Stage with the Top 5 words with the highest standard deviation.\n",
    "    \n",
    "    Input      = Dataframe with the frequency with which each word appears in the 11 life cycle stages. \n",
    "    Operations = 1.) Rename columns to numerical representations of each stage. \n",
    "                 2.) Create a function that rotates the columns one by one in ascending order.\n",
    "                 3.) For each iteration of this rotation write a function that generates a dataframe with two columns, the Life Cycle Stage w/ names & the concurrent \n",
    "                 STDV vs the other time periods. \n",
    "                 4.) Combine the columns into a single dataframe from each time period. = 50 columns or structure into rows, 5 columns, 22 rows. \n",
    "    Output     = Dataframe with two columns, 1 that whose header is the LC stage, 5 rows with words with top 5 STDV from other LC stages.  \n",
    "    '''\n",
    "    \n",
    "    # Rename Columns - Integer representation of each Stage (1-11).\n",
    "    \n",
    "    df_rename_cols = df_freqDist.rename(index = str, columns = {'Life Cycle Stage: 1.0': 1 , 'Life Cycle Stage: 2.0': 2, \n",
    "                                                                'Life Cycle Stage: 3.0': 3, 'Life Cycle Stage: 4.0':  4,\n",
    "                                                                'Life Cycle Stage: 5.0': 5, 'Life Cycle Stage: 6.0':  6,\n",
    "                                                                'Life Cycle Stage: 7.0': 7, 'Life Cycle Stage: 8.0':  8,\n",
    "                                                                'Life Cycle Stage: 9.0': 9, 'Life Cycle Stage: 10.0': 10,\n",
    "                                                                'Life Cycle Stage: 11.0': 11})\n",
    "    \n",
    "    # Create a Dataframe to house the top 5 words for each Life Cycle Stage. \n",
    "    df_final_top5 = pd.DataFrame({}, index = [1,2,3,4,5])\n",
    "    \n",
    "    # Keep Count of Life Cycle Stage\n",
    "    Stage = ''\n",
    "\n",
    "    # Iterative Function to Rotate Our Columns in Ascending Order. \n",
    "    for num in range(1,11):\n",
    "        \n",
    "        # Loop Starts at Life Cycle 1.  Set Condition that when it reaches 11 it stops. \n",
    "        if df_rename_cols.columns[0] != 101:\n",
    "                       \n",
    "            # Stage\n",
    "            Stage = df_rename_cols.columns[0]\n",
    "            \n",
    "            # Function to obtain the AVG and STDV for the top 5 words.\n",
    "            df_AVG_STDV = st2.get_AVG_STDV_Target_Stage(df_rename_cols)\n",
    "                      \n",
    "            # Error in Code.  df_rename_cols is directly being appended AVG, STDV.  Not clear why.  Needed to recreate the object here\n",
    "            # and drop the AVG and STDV columns for the code to run. \n",
    "            df_rename_cols = df_rename_cols.drop(['AVG', 'STDV'], axis = 1)\n",
    "            \n",
    "            # Get Dataframe of Top 5 words with highest STDV\n",
    "            df_top5_AVG_STDV = st2.get_df_top5words_STDV(df_AVG_STDV, Stage)\n",
    "            \n",
    "            # Append to our Dataframe the top 5 words for each Life Cycle Stage.  \n",
    "            df_final_top5[df_top5_AVG_STDV.columns[0]] = df_top5_AVG_STDV.iloc[:,0]\n",
    "                    \n",
    "            # Rename the first column to = num + 100.  Num = Original Col1 at each iteration.\n",
    "            df_rename_cols = df_rename_cols.rename(index = str, columns = {num: num+100})\n",
    "            \n",
    "            # With the first column renamed, sort ascending.  This will move the first column to the end. \n",
    "            df_rename_cols = df_rename_cols.sort_index(axis = 1, ascending = True)\n",
    "    \n",
    "    # Return to the user the list of dataframes for each of the 11 Life Cycle Stages. \n",
    "    return df_final_top5"
   ]
  },
  {
   "cell_type": "code",
   "execution_count": null,
   "metadata": {},
   "outputs": [],
   "source": []
  },
  {
   "cell_type": "code",
   "execution_count": 161,
   "metadata": {},
   "outputs": [
    {
     "name": "stderr",
     "output_type": "stream",
     "text": [
      "C:\\Users\\Chris.Cirelli\\Desktop\\Python Programming Docs\\GSU\\Sprint Project\\Docket-Sheet-Classification\\Step2_Module.py:46: RuntimeWarning: invalid value encountered in double_scalars\n",
      "  # Get the Average of row for all columns but col 1.\n",
      "C:\\Users\\Chris.Cirelli\\Desktop\\Python Programming Docs\\GSU\\Sprint Project\\Docket-Sheet-Classification\\Step2_Module.py:46: RuntimeWarning: divide by zero encountered in double_scalars\n",
      "  # Get the Average of row for all columns but col 1.\n"
     ]
    }
   ],
   "source": [
    "Test_list_df = get_top5words_highestSTDV_each_LCstage(df_freqDist)"
   ]
  },
  {
   "cell_type": "code",
   "execution_count": null,
   "metadata": {},
   "outputs": [],
   "source": []
  },
  {
   "cell_type": "code",
   "execution_count": 162,
   "metadata": {},
   "outputs": [
    {
     "data": {
      "text/html": [
       "<div>\n",
       "<style>\n",
       "    .dataframe thead tr:only-child th {\n",
       "        text-align: right;\n",
       "    }\n",
       "\n",
       "    .dataframe thead th {\n",
       "        text-align: left;\n",
       "    }\n",
       "\n",
       "    .dataframe tbody tr th {\n",
       "        vertical-align: top;\n",
       "    }\n",
       "</style>\n",
       "<table border=\"1\" class=\"dataframe\">\n",
       "  <thead>\n",
       "    <tr style=\"text-align: right;\">\n",
       "      <th></th>\n",
       "      <th>Life Cycle Stage: 1</th>\n",
       "      <th>Life Cycle Stage: 2</th>\n",
       "      <th>Life Cycle Stage: 3</th>\n",
       "      <th>Life Cycle Stage: 4</th>\n",
       "      <th>Life Cycle Stage: 5</th>\n",
       "      <th>Life Cycle Stage: 6</th>\n",
       "      <th>Life Cycle Stage: 7</th>\n",
       "      <th>Life Cycle Stage: 8</th>\n",
       "      <th>Life Cycle Stage: 9</th>\n",
       "      <th>Life Cycle Stage: 10</th>\n",
       "    </tr>\n",
       "  </thead>\n",
       "  <tbody>\n",
       "    <tr>\n",
       "      <th>1</th>\n",
       "      <td>associationwith</td>\n",
       "      <td>penney</td>\n",
       "      <td>front</td>\n",
       "      <td>want</td>\n",
       "      <td>regan</td>\n",
       "      <td>difficulties</td>\n",
       "      <td>objections</td>\n",
       "      <td>dismissed</td>\n",
       "      <td>adjusted</td>\n",
       "      <td>pending</td>\n",
       "    </tr>\n",
       "    <tr>\n",
       "      <th>2</th>\n",
       "      <td>trial</td>\n",
       "      <td>product</td>\n",
       "      <td>discrimination</td>\n",
       "      <td>interest</td>\n",
       "      <td>regarding</td>\n",
       "      <td>additional</td>\n",
       "      <td>count</td>\n",
       "      <td>stipulated</td>\n",
       "      <td>cause</td>\n",
       "      <td>letter</td>\n",
       "    </tr>\n",
       "    <tr>\n",
       "      <th>3</th>\n",
       "      <td>corporation</td>\n",
       "      <td>keri</td>\n",
       "      <td>carnes</td>\n",
       "      <td>amount</td>\n",
       "      <td>produce</td>\n",
       "      <td>exhibits</td>\n",
       "      <td>part</td>\n",
       "      <td>attachment</td>\n",
       "      <td>considered</td>\n",
       "      <td>supersedeas</td>\n",
       "    </tr>\n",
       "    <tr>\n",
       "      <th>4</th>\n",
       "      <td>ronda</td>\n",
       "      <td>elizabeth</td>\n",
       "      <td>retaliation</td>\n",
       "      <td>calculation</td>\n",
       "      <td>blews</td>\n",
       "      <td>statement</td>\n",
       "      <td>adopted</td>\n",
       "      <td>referred</td>\n",
       "      <td>shown</td>\n",
       "      <td>transcript</td>\n",
       "    </tr>\n",
       "    <tr>\n",
       "      <th>5</th>\n",
       "      <td>peurala</td>\n",
       "      <td>innovative</td>\n",
       "      <td>individually</td>\n",
       "      <td>circuit</td>\n",
       "      <td>tamika</td>\n",
       "      <td>declaration</td>\n",
       "      <td>written</td>\n",
       "      <td>kenneth</td>\n",
       "      <td>august</td>\n",
       "      <td>johnson</td>\n",
       "    </tr>\n",
       "  </tbody>\n",
       "</table>\n",
       "</div>"
      ],
      "text/plain": [
       "  Life Cycle Stage: 1 Life Cycle Stage: 2 Life Cycle Stage: 3  \\\n",
       "1     associationwith              penney               front   \n",
       "2               trial             product      discrimination   \n",
       "3         corporation                keri              carnes   \n",
       "4               ronda           elizabeth         retaliation   \n",
       "5             peurala          innovative        individually   \n",
       "\n",
       "  Life Cycle Stage: 4 Life Cycle Stage: 5 Life Cycle Stage: 6  \\\n",
       "1                want               regan        difficulties   \n",
       "2            interest           regarding          additional   \n",
       "3              amount             produce            exhibits   \n",
       "4         calculation               blews           statement   \n",
       "5             circuit              tamika         declaration   \n",
       "\n",
       "  Life Cycle Stage: 7 Life Cycle Stage: 8 Life Cycle Stage: 9  \\\n",
       "1          objections           dismissed            adjusted   \n",
       "2               count          stipulated               cause   \n",
       "3                part          attachment          considered   \n",
       "4             adopted            referred               shown   \n",
       "5             written             kenneth              august   \n",
       "\n",
       "  Life Cycle Stage: 10  \n",
       "1              pending  \n",
       "2               letter  \n",
       "3          supersedeas  \n",
       "4           transcript  \n",
       "5              johnson  "
      ]
     },
     "execution_count": 162,
     "metadata": {},
     "output_type": "execute_result"
    }
   ],
   "source": [
    "Test_list_df\n",
    "# Note error. Only returning 10 stages. Need to amend conditional statement. "
   ]
  },
  {
   "cell_type": "code",
   "execution_count": 67,
   "metadata": {},
   "outputs": [],
   "source": []
  },
  {
   "cell_type": "code",
   "execution_count": null,
   "metadata": {},
   "outputs": [],
   "source": []
  },
  {
   "cell_type": "code",
   "execution_count": null,
   "metadata": {},
   "outputs": [],
   "source": []
  },
  {
   "cell_type": "code",
   "execution_count": null,
   "metadata": {},
   "outputs": [],
   "source": []
  },
  {
   "cell_type": "code",
   "execution_count": null,
   "metadata": {},
   "outputs": [],
   "source": []
  }
 ],
 "metadata": {
  "kernelspec": {
   "display_name": "Python 3",
   "language": "python",
   "name": "python3"
  },
  "language_info": {
   "codemirror_mode": {
    "name": "ipython",
    "version": 3
   },
   "file_extension": ".py",
   "mimetype": "text/x-python",
   "name": "python",
   "nbconvert_exporter": "python",
   "pygments_lexer": "ipython3",
   "version": "3.6.1"
  }
 },
 "nbformat": 4,
 "nbformat_minor": 2
}
