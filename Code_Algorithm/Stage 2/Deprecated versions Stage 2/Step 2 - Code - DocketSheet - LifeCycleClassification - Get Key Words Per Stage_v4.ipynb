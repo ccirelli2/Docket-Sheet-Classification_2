{
 "cells": [
  {
   "cell_type": "code",
   "execution_count": null,
   "metadata": {},
   "outputs": [],
   "source": []
  },
  {
   "cell_type": "code",
   "execution_count": 1,
   "metadata": {},
   "outputs": [],
   "source": [
    "# IMPORT LIBRARIES"
   ]
  },
  {
   "cell_type": "code",
   "execution_count": 2,
   "metadata": {},
   "outputs": [],
   "source": [
    "import pandas as pd\n",
    "import os"
   ]
  },
  {
   "cell_type": "code",
   "execution_count": 3,
   "metadata": {},
   "outputs": [],
   "source": [
    "os.chdir('C:\\\\Users\\\\Chris.Cirelli\\\\Desktop\\\\Python Programming Docs\\\\GSU\\\\Sprint Project\\\\Docket-Sheet-Classification\\\\Modules')\n",
    "import Step1_Module as st1\n",
    "import Step2_Module_v3 as st2"
   ]
  },
  {
   "cell_type": "code",
   "execution_count": null,
   "metadata": {},
   "outputs": [],
   "source": []
  },
  {
   "cell_type": "code",
   "execution_count": 4,
   "metadata": {},
   "outputs": [],
   "source": [
    "# IMPORT FREQUENCY DISTRIBUTION EXCEL FILE AS DATAFRAME"
   ]
  },
  {
   "cell_type": "code",
   "execution_count": 5,
   "metadata": {},
   "outputs": [],
   "source": [
    "df_freqDist = pd.read_excel(r'C:\\Users\\Chris.Cirelli\\Desktop\\Python Programming Docs\\GSU\\Sprint Project\\Docket-Sheet-Classification\\Result_Files_Key_Word_Attempt_2\\DocketSheet_wordSet_Freq_Dist_v4_03.11.2018.xlsx')"
   ]
  },
  {
   "cell_type": "code",
   "execution_count": null,
   "metadata": {},
   "outputs": [],
   "source": []
  },
  {
   "cell_type": "code",
   "execution_count": 6,
   "metadata": {},
   "outputs": [],
   "source": [
    "# GET TOP 5 WORDS - 3 GROUPS"
   ]
  },
  {
   "cell_type": "code",
   "execution_count": 7,
   "metadata": {},
   "outputs": [],
   "source": [
    "def get_Top_5_words_toggle_calculation(df_freqDist, Calculation):\n",
    "    '''The purpose of this function is to return a dataframe for each Life Cycle Stage with the Top 5 words with the highest standard deviation.\n",
    "    \n",
    "    Input      = Dataframe with the frequency with which each word appears in the 11 life cycle stages. \n",
    "    Operations = 1.) Rename columns to numerical representations of each stage. \n",
    "                 2.) Create a function that rotates the columns one by one in ascending order.\n",
    "                 3.) For each iteration of this rotation write a function that generates a dataframe with two columns, the Life Cycle Stage w/ names & the concurrent \n",
    "                 STDV vs the other time periods. \n",
    "                 4.) Combine the columns into a single dataframe from each time period. = 50 columns or structure into rows, 5 columns, 22 rows. \n",
    "    Output     = A dataframe with the top 5 words whose avg is between .001 and .02 and whose STDV_freq is the highest.   \n",
    "    '''\n",
    "    # Rename Columns - Integer representation of each Stage (1-11).\n",
    "    df_rename_cols = df_freqDist.rename(index = str, columns = {'Life Cycle Stage: 1.0': 1 , 'Life Cycle Stage: 2.0': 2, \n",
    "                                                                'Life Cycle Stage: 3.0': 3, 'Life Cycle Stage: 4.0':  4,\n",
    "                                                                'Life Cycle Stage: 5.0': 5, 'Life Cycle Stage: 6.0':  6,\n",
    "                                                                'Life Cycle Stage: 7.0': 7, 'Life Cycle Stage: 8.0':  8,\n",
    "                                                                'Life Cycle Stage: 9.0': 9, 'Life Cycle Stage: 10.0': 10,\n",
    "                                                                'Life Cycle Stage: 11.0': 11})\n",
    "\n",
    "    # Create a Dataframe to house the top 5 words for each Life Cycle Stage. \n",
    "    df_final_top5 = pd.DataFrame({}, index = [0,1,2,3,4])\n",
    "\n",
    "    \n",
    "    # Keep Count of Life Cycle Stage\n",
    "    Stage = ''\n",
    "\n",
    "    # Iterative Function to Rotate Our Columns in Ascending Order. \n",
    "    for num in range(1,12):\n",
    "        \n",
    "        # Loop Starts at Life Cycle 1.  Set Condition that when it reaches 11 it stops. \n",
    "        if df_rename_cols.columns[0] != 101:\n",
    "                       \n",
    "            # Stage\n",
    "            Stage = df_rename_cols.columns[0]\n",
    "            \n",
    "            # Function to obtain the AVG, STDV and CV for the top 5 words.  Input is our df_freq with new col names. \n",
    "            df_AVG_STDV_CV = st2.get_AVG_STDV_CV_Target_Stage(df_rename_cols)\n",
    "            \n",
    "            # Error in Code.  df_rename_cols is directly being appended AVG, STDV.  Not clear why.  \n",
    "            # To fixe the issue I had to drop the AVG, STDV and CV columns from the df before rotating\n",
    "            # and drop the AVG and STDV columns for the code to run. \n",
    "            df_rename_cols = df_rename_cols.drop(['AVG', 'STDV'], axis = 1)\n",
    "            \n",
    "            if Calculation == 'Highest_CV_Lowest_AVG':\n",
    "                # Get Dataframe of Top 5 words with highest CV\n",
    "                df_top5words_highestCV_lowestAVG = st2.get_df_top5words_highestCV_lowestAVG(df_AVG_STDV_CV, Stage)\n",
    "                print(df_top5words_highestCV_lowestAVG)\n",
    "                \n",
    "                \n",
    "                Col_name = str(df_top5words_highestCV_lowestAVG.columns[0])\n",
    "                Top_words = df_top5words_highestCV_lowestAVG.iloc[:,0]\n",
    "                \n",
    "                # Append to our dataframe that will be returned to the user the top 5 words for each Life Cycle Stage.  \n",
    "                df_final_top5[Col_name] = Top_words\n",
    "                                \n",
    "                # Rename the first column to = num + 100.  Num = Original Col1 at each iteration.\n",
    "                df_col_increased_by100 = df_rename_cols.rename(index = str, columns = {num: num+100})\n",
    "                # With the first column renamed, sort ascending.  This will move the first column to the end. \n",
    "                df_rotate = df_col_increased_by100.sort_index(axis = 1, ascending = True)\n",
    "                df_rename_cols = df_rotate\n",
    "    \n",
    "\n",
    "    \n",
    "    # Return to the user the list of dataframes for each of the 11 Life Cycle Stages. \n",
    "    return df_final_top5"
   ]
  },
  {
   "cell_type": "code",
   "execution_count": 8,
   "metadata": {},
   "outputs": [
    {
     "name": "stdout",
     "output_type": "stream",
     "text": [
      "  Life Cycle Stage: 1  Stage 1: STDV\n",
      "0             receipt      14.726667\n",
      "1             proceed       9.922667\n",
      "2              provid       7.688000\n",
      "3             consent       6.765455\n",
      "4              includ       4.276364\n",
      "  Life Cycle Stage: 2  Stage 1: STDV\n",
      "0              answer      14.191875\n",
      "1                 end       3.853333\n",
      "2           complaint       2.603571\n",
      "3            pretrial       2.400000\n",
      "4            instruct       2.028169\n",
      "  Life Cycle Stage: 3  Stage 1: STDV\n",
      "0             dismiss       2.978255\n",
      "1             support       1.363478\n",
      "2               brief       1.051250\n",
      "3              failur       0.960000\n",
      "4               state       0.720000\n",
      "  Life Cycle Stage: 4  Stage 1: STDV\n",
      "0            pursuant       2.180370\n",
      "1             dismiss       2.179623\n",
      "2            prejudic       2.045370\n",
      "3               clerk       1.931791\n",
      "4               entri       1.432895\n",
      "  Life Cycle Stage: 5  Stage 1: STDV\n",
      "0              certif       2.333333\n",
      "1             deposit       1.920000\n",
      "2           discoveri       1.600000\n",
      "3                plan       1.210000\n",
      "4         preliminari       1.210000\n",
      "  Life Cycle Stage: 6  Stage 1: STDV\n",
      "0             summari       6.118644\n",
      "1            judgment       5.503909\n",
      "2           statement       4.954286\n",
      "3                fact       3.853333\n",
      "4              materi       3.413333\n",
      "  Life Cycle Stage: 7  Stage 1: STDV\n",
      "0               final       6.045714\n",
      "1           recommend       6.001613\n",
      "2              report       5.315714\n",
      "3              object       2.000000\n",
      "4                judg       1.293846\n",
      "  Life Cycle Stage: 8  Stage 1: STDV\n",
      "0          settlement      13.924286\n",
      "1           agreement       3.840000\n",
      "2              approv       2.641429\n",
      "3              stipul       0.651905\n",
      "4               entri       0.493878\n",
      "  Life Cycle Stage: 9  Stage 1: STDV\n",
      "0              adjust      25.000000\n",
      "1              affect      25.000000\n",
      "2         accordingli      15.625000\n",
      "3                caus      12.500000\n",
      "4               joint      11.538462\n",
      "  Life Cycle Stage: 10  Stage 1: STDV\n",
      "0               appeal      10.027778\n",
      "1              circuit       8.405000\n",
      "2                 usca       7.220000\n",
      "3                 hawk       5.649412\n",
      "4                notic       4.900230\n",
      "  Life Cycle Stage: 11  Stage 1: STDV\n",
      "0               termin      32.013333\n",
      "1                civil       8.138983\n",
      "2              magistr       0.411359\n",
      "3                 judg       0.291003\n",
      "4             scofield       0.160000\n"
     ]
    }
   ],
   "source": [
    "Top_5_words_highestCV_lowestAVG = get_Top_5_words_toggle_calculation(df_freqDist, 'Highest_CV_Lowest_AVG')\n"
   ]
  },
  {
   "cell_type": "code",
   "execution_count": null,
   "metadata": {},
   "outputs": [],
   "source": []
  },
  {
   "cell_type": "code",
   "execution_count": 9,
   "metadata": {},
   "outputs": [],
   "source": [
    "# WRITE RESULTS TO A SINGLE EXCEL SHEET"
   ]
  },
  {
   "cell_type": "code",
   "execution_count": 10,
   "metadata": {},
   "outputs": [],
   "source": [
    "os.chdir(r'C:\\Users\\Chris.Cirelli\\Desktop\\Python Programming Docs\\GSU\\Sprint Project\\Docket-Sheet-Classification\\Result_Files_Key_Word_Attempt_2')"
   ]
  },
  {
   "cell_type": "code",
   "execution_count": 11,
   "metadata": {},
   "outputs": [],
   "source": [
    "writer = pd.ExcelWriter('Top5_Key_words_03.11.2018_v4.xlsx')\n",
    "\n",
    "Top_5_words_highestCV_lowestAVG.to_excel(writer, 'Sheet1', \n",
    "                                                columns = Top_5_words_highestCV_lowestAVG.columns)\n",
    "writer.save()"
   ]
  },
  {
   "cell_type": "code",
   "execution_count": 12,
   "metadata": {},
   "outputs": [],
   "source": [
    "# READ BACK IN THE FILE JUST CREATED"
   ]
  },
  {
   "cell_type": "code",
   "execution_count": 13,
   "metadata": {},
   "outputs": [],
   "source": [
    "df = pd.read_excel(r'C:\\Users\\Chris.Cirelli\\Desktop\\Python Programming Docs\\GSU\\Sprint Project\\Docket-Sheet-Classification\\Result_Files_Key_Word_Attempt_2\\Top5_Key_words_03.11.2018_v4.xlsx')"
   ]
  },
  {
   "cell_type": "code",
   "execution_count": null,
   "metadata": {},
   "outputs": [],
   "source": []
  },
  {
   "cell_type": "code",
   "execution_count": 14,
   "metadata": {},
   "outputs": [
    {
     "data": {
      "text/html": [
       "<div>\n",
       "<style>\n",
       "    .dataframe thead tr:only-child th {\n",
       "        text-align: right;\n",
       "    }\n",
       "\n",
       "    .dataframe thead th {\n",
       "        text-align: left;\n",
       "    }\n",
       "\n",
       "    .dataframe tbody tr th {\n",
       "        vertical-align: top;\n",
       "    }\n",
       "</style>\n",
       "<table border=\"1\" class=\"dataframe\">\n",
       "  <thead>\n",
       "    <tr style=\"text-align: right;\">\n",
       "      <th></th>\n",
       "      <th>Life Cycle Stage: 1</th>\n",
       "      <th>Life Cycle Stage: 2</th>\n",
       "      <th>Life Cycle Stage: 3</th>\n",
       "      <th>Life Cycle Stage: 4</th>\n",
       "      <th>Life Cycle Stage: 5</th>\n",
       "      <th>Life Cycle Stage: 6</th>\n",
       "      <th>Life Cycle Stage: 7</th>\n",
       "      <th>Life Cycle Stage: 8</th>\n",
       "      <th>Life Cycle Stage: 9</th>\n",
       "      <th>Life Cycle Stage: 10</th>\n",
       "      <th>Life Cycle Stage: 11</th>\n",
       "    </tr>\n",
       "  </thead>\n",
       "  <tbody>\n",
       "    <tr>\n",
       "      <th>0</th>\n",
       "      <td>receipt</td>\n",
       "      <td>answer</td>\n",
       "      <td>dismiss</td>\n",
       "      <td>pursuant</td>\n",
       "      <td>certif</td>\n",
       "      <td>summari</td>\n",
       "      <td>final</td>\n",
       "      <td>settlement</td>\n",
       "      <td>adjust</td>\n",
       "      <td>appeal</td>\n",
       "      <td>termin</td>\n",
       "    </tr>\n",
       "    <tr>\n",
       "      <th>1</th>\n",
       "      <td>proceed</td>\n",
       "      <td>end</td>\n",
       "      <td>support</td>\n",
       "      <td>dismiss</td>\n",
       "      <td>deposit</td>\n",
       "      <td>judgment</td>\n",
       "      <td>recommend</td>\n",
       "      <td>agreement</td>\n",
       "      <td>affect</td>\n",
       "      <td>circuit</td>\n",
       "      <td>civil</td>\n",
       "    </tr>\n",
       "    <tr>\n",
       "      <th>2</th>\n",
       "      <td>provid</td>\n",
       "      <td>complaint</td>\n",
       "      <td>brief</td>\n",
       "      <td>prejudic</td>\n",
       "      <td>discoveri</td>\n",
       "      <td>statement</td>\n",
       "      <td>report</td>\n",
       "      <td>approv</td>\n",
       "      <td>accordingli</td>\n",
       "      <td>usca</td>\n",
       "      <td>magistr</td>\n",
       "    </tr>\n",
       "    <tr>\n",
       "      <th>3</th>\n",
       "      <td>consent</td>\n",
       "      <td>pretrial</td>\n",
       "      <td>failur</td>\n",
       "      <td>clerk</td>\n",
       "      <td>plan</td>\n",
       "      <td>fact</td>\n",
       "      <td>object</td>\n",
       "      <td>stipul</td>\n",
       "      <td>caus</td>\n",
       "      <td>hawk</td>\n",
       "      <td>judg</td>\n",
       "    </tr>\n",
       "    <tr>\n",
       "      <th>4</th>\n",
       "      <td>includ</td>\n",
       "      <td>instruct</td>\n",
       "      <td>state</td>\n",
       "      <td>entri</td>\n",
       "      <td>preliminari</td>\n",
       "      <td>materi</td>\n",
       "      <td>judg</td>\n",
       "      <td>entri</td>\n",
       "      <td>joint</td>\n",
       "      <td>notic</td>\n",
       "      <td>scofield</td>\n",
       "    </tr>\n",
       "  </tbody>\n",
       "</table>\n",
       "</div>"
      ],
      "text/plain": [
       "  Life Cycle Stage: 1 Life Cycle Stage: 2 Life Cycle Stage: 3  \\\n",
       "0             receipt              answer             dismiss   \n",
       "1             proceed                 end             support   \n",
       "2              provid           complaint               brief   \n",
       "3             consent            pretrial              failur   \n",
       "4              includ            instruct               state   \n",
       "\n",
       "  Life Cycle Stage: 4 Life Cycle Stage: 5 Life Cycle Stage: 6  \\\n",
       "0            pursuant              certif             summari   \n",
       "1             dismiss             deposit            judgment   \n",
       "2            prejudic           discoveri           statement   \n",
       "3               clerk                plan                fact   \n",
       "4               entri         preliminari              materi   \n",
       "\n",
       "  Life Cycle Stage: 7 Life Cycle Stage: 8 Life Cycle Stage: 9  \\\n",
       "0               final          settlement              adjust   \n",
       "1           recommend           agreement              affect   \n",
       "2              report              approv         accordingli   \n",
       "3              object              stipul                caus   \n",
       "4                judg               entri               joint   \n",
       "\n",
       "  Life Cycle Stage: 10 Life Cycle Stage: 11  \n",
       "0               appeal               termin  \n",
       "1              circuit                civil  \n",
       "2                 usca              magistr  \n",
       "3                 hawk                 judg  \n",
       "4                notic             scofield  "
      ]
     },
     "execution_count": 14,
     "metadata": {},
     "output_type": "execute_result"
    }
   ],
   "source": [
    "df"
   ]
  },
  {
   "cell_type": "code",
   "execution_count": 15,
   "metadata": {},
   "outputs": [],
   "source": [
    "# CREATE A LIST OF A SINGLE SET OF THE KEY WORDS"
   ]
  },
  {
   "cell_type": "code",
   "execution_count": 16,
   "metadata": {},
   "outputs": [],
   "source": [
    "def get_key_word_set(key_word_dataframe):\n",
    "    key_word_list = []\n",
    "    for x in key_word_dataframe:\n",
    "        word_list = list(key_word_dataframe[x])\n",
    "        [key_word_list.append(x) for x in word_list]\n",
    "    \n",
    "    key_word_set = list(set(key_word_list))\n",
    "    \n",
    "    df = pd.DataFrame(key_word_set)\n",
    "\n",
    "    return df"
   ]
  },
  {
   "cell_type": "code",
   "execution_count": 17,
   "metadata": {},
   "outputs": [],
   "source": [
    "key_word_set = get_key_word_set(df)"
   ]
  },
  {
   "cell_type": "code",
   "execution_count": 18,
   "metadata": {},
   "outputs": [],
   "source": [
    "st1.write_to_excel(key_word_set, 'Key_word_set_4_algorithm_input_03.11.2018_v3')"
   ]
  },
  {
   "cell_type": "code",
   "execution_count": null,
   "metadata": {},
   "outputs": [],
   "source": []
  },
  {
   "cell_type": "code",
   "execution_count": null,
   "metadata": {},
   "outputs": [],
   "source": []
  },
  {
   "cell_type": "code",
   "execution_count": null,
   "metadata": {},
   "outputs": [],
   "source": []
  },
  {
   "cell_type": "code",
   "execution_count": null,
   "metadata": {},
   "outputs": [],
   "source": []
  }
 ],
 "metadata": {
  "kernelspec": {
   "display_name": "Python 3",
   "language": "python",
   "name": "python3"
  },
  "language_info": {
   "codemirror_mode": {
    "name": "ipython",
    "version": 3
   },
   "file_extension": ".py",
   "mimetype": "text/x-python",
   "name": "python",
   "nbconvert_exporter": "python",
   "pygments_lexer": "ipython3",
   "version": "3.6.1"
  }
 },
 "nbformat": 4,
 "nbformat_minor": 2
}
