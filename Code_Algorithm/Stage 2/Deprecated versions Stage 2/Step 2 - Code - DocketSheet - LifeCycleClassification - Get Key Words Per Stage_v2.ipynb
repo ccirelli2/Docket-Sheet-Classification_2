{
 "cells": [
  {
   "cell_type": "code",
   "execution_count": null,
   "metadata": {},
   "outputs": [],
   "source": []
  },
  {
   "cell_type": "code",
   "execution_count": 1,
   "metadata": {},
   "outputs": [],
   "source": [
    "# IMPORT LIBRARIES"
   ]
  },
  {
   "cell_type": "code",
   "execution_count": 2,
   "metadata": {},
   "outputs": [],
   "source": [
    "import pandas as pd\n",
    "import os"
   ]
  },
  {
   "cell_type": "code",
   "execution_count": 3,
   "metadata": {},
   "outputs": [],
   "source": [
    "os.chdir('C:\\\\Users\\\\Chris.Cirelli\\\\Desktop\\\\Python Programming Docs\\\\GSU\\\\Sprint Project\\\\Docket-Sheet-Classification\\\\Modules')\n",
    "import Step1_Module as st1\n",
    "import Step2_Module as st2"
   ]
  },
  {
   "cell_type": "code",
   "execution_count": null,
   "metadata": {},
   "outputs": [],
   "source": []
  },
  {
   "cell_type": "code",
   "execution_count": 4,
   "metadata": {},
   "outputs": [],
   "source": [
    "# IMPORT FREQUENCY DISTRIBUTION EXCEL FILE AS DATAFRAME"
   ]
  },
  {
   "cell_type": "code",
   "execution_count": 5,
   "metadata": {},
   "outputs": [],
   "source": [
    "df_freqDist = pd.read_excel(r'C:\\Users\\Chris.Cirelli\\Desktop\\Python Programming Docs\\GSU\\Sprint Project\\Docket-Sheet-Classification\\Result_Files_Key_Word_Attempt_2\\DocketSheet_wordSet_Freq_Dist_v3.xlsx', index_col = 'Key_words')"
   ]
  },
  {
   "cell_type": "code",
   "execution_count": null,
   "metadata": {},
   "outputs": [],
   "source": []
  },
  {
   "cell_type": "code",
   "execution_count": 6,
   "metadata": {},
   "outputs": [],
   "source": [
    "# GET TOP 5 WORDS - 3 GROUPS"
   ]
  },
  {
   "cell_type": "code",
   "execution_count": 7,
   "metadata": {},
   "outputs": [],
   "source": [
    "def get_Top_5_words_toggle_calculation(df_freqDist, Calculation):\n",
    "    '''The purpose of this function is to return a dataframe for each Life Cycle Stage with the Top 5 words with the highest standard deviation.\n",
    "    \n",
    "    Input      = Dataframe with the frequency with which each word appears in the 11 life cycle stages. \n",
    "    Operations = 1.) Rename columns to numerical representations of each stage. \n",
    "                 2.) Create a function that rotates the columns one by one in ascending order.\n",
    "                 3.) For each iteration of this rotation write a function that generates a dataframe with two columns, the Life Cycle Stage w/ names & the concurrent \n",
    "                 STDV vs the other time periods. \n",
    "                 4.) Combine the columns into a single dataframe from each time period. = 50 columns or structure into rows, 5 columns, 22 rows. \n",
    "    Output     = A dataframe with the top 5 words whose avg is between .001 and .02 and whose STDV_freq is the highest.   \n",
    "    '''\n",
    "    # Rename Columns - Integer representation of each Stage (1-11).\n",
    "    df_rename_cols = df_freqDist.rename(index = str, columns = {'Life Cycle Stage: 1.0': 1 , 'Life Cycle Stage: 2.0': 2, \n",
    "                                                                'Life Cycle Stage: 3.0': 3, 'Life Cycle Stage: 4.0':  4,\n",
    "                                                                'Life Cycle Stage: 5.0': 5, 'Life Cycle Stage: 6.0':  6,\n",
    "                                                                'Life Cycle Stage: 7.0': 7, 'Life Cycle Stage: 8.0':  8,\n",
    "                                                                'Life Cycle Stage: 9.0': 9, 'Life Cycle Stage: 10.0': 10,\n",
    "                                                                'Life Cycle Stage: 11.0': 11})\n",
    "\n",
    "    # Create a Dataframe to house the top 5 words for each Life Cycle Stage. \n",
    "    df_final_top5 = pd.DataFrame({}, index = [1,2,3,4,5])\n",
    "\n",
    "    \n",
    "    # Keep Count of Life Cycle Stage\n",
    "    Stage = ''\n",
    "\n",
    "    # Iterative Function to Rotate Our Columns in Ascending Order. \n",
    "    for num in range(1,12):\n",
    "        \n",
    "        # Loop Starts at Life Cycle 1.  Set Condition that when it reaches 11 it stops. \n",
    "        if df_rename_cols.columns[0] != 101:\n",
    "                       \n",
    "            # Stage\n",
    "            Stage = df_rename_cols.columns[0]\n",
    "            \n",
    "            # Function to obtain the AVG, STDV and CV for the top 5 words.  Input is our df_freq with new col names. \n",
    "            df_AVG_STDV_CV = st2.get_AVG_STDV_CV_Target_Stage(df_rename_cols)\n",
    "            \n",
    "            # Error in Code.  df_rename_cols is directly being appended AVG, STDV.  Not clear why.  \n",
    "            # To fixe the issue I had to drop the AVG, STDV and CV columns from the df before rotating\n",
    "            # and drop the AVG and STDV columns for the code to run. \n",
    "            df_rename_cols = df_rename_cols.drop(['AVG', 'STDV', 'CV'], axis = 1)\n",
    "            \n",
    "            if Calculation == 'Highest_CV_Lowest_AVG':\n",
    "                # Get Dataframe of Top 5 words with highest CV\n",
    "                df_top5words_highestCV_lowestAVG = st2.get_df_top5words_highestCV_lowestAVG(df_AVG_STDV_CV, Stage)\n",
    "                # Append to our dataframe that will be returned to the user the top 5 words for each Life Cycle Stage.  \n",
    "                df_final_top5[df_top5words_highestCV_lowestAVG.columns[0]] = df_top5words_highestCV_lowestAVG.iloc[:,0]\n",
    "                # Rename the first column to = num + 100.  Num = Original Col1 at each iteration.\n",
    "                df_rename_cols = df_rename_cols.rename(index = str, columns = {num: num+100})\n",
    "                # With the first column renamed, sort ascending.  This will move the first column to the end. \n",
    "                df_rename_cols = df_rename_cols.sort_index(axis = 1, ascending = True)\n",
    "    \n",
    "            elif Calculation == 'Highest_CV_mediumAVG':\n",
    "                # Get Dataframe of Top 5 words with highest CV\n",
    "                df_top5words_highestCV_AVG_greater2_less10 = st2.get_df_top5words_AVG_greater2_less10(df_AVG_STDV_CV, Stage)\n",
    "                # Append to our final dataframe the top 5 words for each Life Cycle Stage.  The col name is col 0. \n",
    "                df_final_top5[df_top5words_highestCV_AVG_greater2_less10.columns[0]] = df_top5words_highestCV_AVG_greater2_less10.iloc[:,0]\n",
    "                # Rename the first column to = col_num + 100.  Num = Original Col1 at each iteration.\n",
    "                df_rename_cols = df_rename_cols.rename(index = str, columns = {num: num+100})\n",
    "                # With the first column renamed, sort ascending.  This will move the first column to the end. \n",
    "                df_rename_cols = df_rename_cols.sort_index(axis = 1, ascending = True)\n",
    "    \n",
    "            elif Calculation == 'Lowest_CV_Highest_AVG':\n",
    "                # Get Dataframe of Top 5 words with lowest CV and highest AVG\n",
    "                df_top5words_lowestCV_highestAVG = st2.get_df_top5words_Target_nearZero_highest_AVG(df_AVG_STDV_CV, Stage)\n",
    "                # Append to our final dataframe the top 5 words for each Life Cycle Stage.  The col name is col 0. \n",
    "                df_final_top5[df_top5words_lowestCV_highestAVG.columns[0]] = df_top5words_lowestCV_highestAVG.iloc[:,0]\n",
    "                # Rename the first column to = col_num + 100.  Num = Original Col1 at each iteration.\n",
    "                df_rename_cols = df_rename_cols.rename(index = str, columns = {num: num+100})\n",
    "                # With the first column renamed, sort ascending.  This will move the first column to the end. \n",
    "                df_rename_cols = df_rename_cols.sort_index(axis = 1, ascending = True)\n",
    "\n",
    "    \n",
    "    # Return to the user the list of dataframes for each of the 11 Life Cycle Stages. \n",
    "    return df_final_top5"
   ]
  },
  {
   "cell_type": "code",
   "execution_count": 8,
   "metadata": {},
   "outputs": [
    {
     "name": "stderr",
     "output_type": "stream",
     "text": [
      "C:\\Users\\Chris.Cirelli\\Desktop\\Python Programming Docs\\GSU\\Sprint Project\\Docket-Sheet-Classification\\Modules\\Step2_Module.py:32: RuntimeWarning: divide by zero encountered in double_scalars\n",
      "  CV = STDV/(AVG*100)\n",
      "C:\\Users\\Chris.Cirelli\\Desktop\\Python Programming Docs\\GSU\\Sprint Project\\Docket-Sheet-Classification\\Modules\\Step2_Module.py:32: RuntimeWarning: invalid value encountered in double_scalars\n",
      "  CV = STDV/(AVG*100)\n"
     ]
    }
   ],
   "source": [
    "Top_5_words_highestCV_lowestAVG = get_Top_5_words_toggle_calculation(df_freqDist, 'Highest_CV_Lowest_AVG')\n",
    "Top_5_words_highestCV_medium_AVG = get_Top_5_words_toggle_calculation(df_freqDist, 'Highest_CV_mediumAVG')\n",
    "Top_5_words_Lowest_CV = get_Top_5_words_toggle_calculation(df_freqDist, 'Lowest_CV_Highest_AVG')"
   ]
  },
  {
   "cell_type": "code",
   "execution_count": null,
   "metadata": {},
   "outputs": [],
   "source": []
  },
  {
   "cell_type": "code",
   "execution_count": 9,
   "metadata": {},
   "outputs": [],
   "source": [
    "# WRITE RESULTS TO A SINGLE EXCEL SHEET"
   ]
  },
  {
   "cell_type": "code",
   "execution_count": 12,
   "metadata": {},
   "outputs": [],
   "source": [
    "os.chdir(r'C:\\Users\\Chris.Cirelli\\Desktop\\Python Programming Docs\\GSU\\Sprint Project\\Docket-Sheet-Classification\\Result_Files_Key_Word_Attempt_2')"
   ]
  },
  {
   "cell_type": "code",
   "execution_count": 13,
   "metadata": {},
   "outputs": [],
   "source": [
    "writer = pd.ExcelWriter('Top5_Key_words_03.11.2018.xlsx')\n",
    "\n",
    "Top_5_words_highestCV_lowestAVG.to_excel(writer,\n",
    "                                                 'Sheet1', \n",
    "                                                columns = Top_5_words_highestCV_lowestAVG.columns)\n",
    "Top_5_words_highestCV_medium_AVG.to_excel(writer,\n",
    "                                                       'Sheet1', \n",
    "                                                       startrow = 6, \n",
    "                                                       header = '')\n",
    "Top_5_words_Lowest_CV.to_excel(writer, \n",
    "                                                       'Sheet1', \n",
    "                                                       startrow = 11, \n",
    "                                                       header = '')\n",
    "writer.save()"
   ]
  },
  {
   "cell_type": "code",
   "execution_count": null,
   "metadata": {},
   "outputs": [],
   "source": [
    "# READ BACK IN THE FILE JUST CREATED"
   ]
  },
  {
   "cell_type": "code",
   "execution_count": 17,
   "metadata": {},
   "outputs": [],
   "source": [
    "df = pd.read_excel(r'C:\\Users\\Chris.Cirelli\\Desktop\\Python Programming Docs\\GSU\\Sprint Project\\Docket-Sheet-Classification\\Result_Files_Key_Word_Attempt_2\\Top5_Key_words_03.11.2018.xlsx')"
   ]
  },
  {
   "cell_type": "code",
   "execution_count": null,
   "metadata": {},
   "outputs": [],
   "source": [
    "# CREATE A LIST OF A SINGLE SET OF THE KEY WORDS"
   ]
  },
  {
   "cell_type": "code",
   "execution_count": 16,
   "metadata": {},
   "outputs": [],
   "source": [
    "def get_key_word_set(key_word_dataframe):\n",
    "    key_word_list = []\n",
    "    for x in key_word_dataframe:\n",
    "        word_list = list(key_word_dataframe[x])\n",
    "        [key_word_list.append(x) for x in word_list]\n",
    "    \n",
    "    key_word_set = list(set(key_word_list))\n",
    "    \n",
    "    df = pd.DataFrame(key_word_set)\n",
    "\n",
    "    return df"
   ]
  },
  {
   "cell_type": "code",
   "execution_count": 18,
   "metadata": {},
   "outputs": [],
   "source": [
    "key_word_set = get_key_word_set(df)"
   ]
  },
  {
   "cell_type": "code",
   "execution_count": 19,
   "metadata": {},
   "outputs": [],
   "source": [
    "st1.write_to_excel(key_word_set, 'Key_word_set_4_algorithm_input_03.11.2018')"
   ]
  },
  {
   "cell_type": "code",
   "execution_count": null,
   "metadata": {},
   "outputs": [],
   "source": []
  },
  {
   "cell_type": "code",
   "execution_count": null,
   "metadata": {},
   "outputs": [],
   "source": []
  },
  {
   "cell_type": "code",
   "execution_count": null,
   "metadata": {},
   "outputs": [],
   "source": []
  }
 ],
 "metadata": {
  "kernelspec": {
   "display_name": "Python 3",
   "language": "python",
   "name": "python3"
  },
  "language_info": {
   "codemirror_mode": {
    "name": "ipython",
    "version": 3
   },
   "file_extension": ".py",
   "mimetype": "text/x-python",
   "name": "python",
   "nbconvert_exporter": "python",
   "pygments_lexer": "ipython3",
   "version": "3.6.1"
  }
 },
 "nbformat": 4,
 "nbformat_minor": 2
}
